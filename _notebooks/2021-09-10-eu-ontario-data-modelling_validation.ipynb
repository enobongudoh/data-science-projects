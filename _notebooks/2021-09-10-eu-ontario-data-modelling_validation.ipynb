{
 "cells": [
  {
   "cell_type": "markdown",
   "metadata": {
    "id": "2LMmGOsrlx6k"
   },
   "source": [
    "# Effectiveness of Covid-19 management and preventative measures in Ontario, Canada.\n",
    "> \"The Data Modelling and Model validation part of the project .\"\n",
    "\n",
    "- toc: true\n",
    "- branch: master\n",
    "- badges: true\n",
    "- comments: true\n",
    "- author: Enobong Udoh\n",
    "- categories: [data modelling, model validation, Covid-19, Ontario, Canada]\n",
    "- image: images/project_thumbnails/ontario_covid.png\n",
    "- hide: true\n",
    "- search_exclude: true\n",
    "- metadata_key1: metadata_value1\n",
    "- metadata_key2: metadata_value2\n",
    "\n"
   ]
  },
  {
   "cell_type": "markdown",
   "metadata": {
    "id": "IX1ERtQon6py"
   },
   "source": [
    "## Data collection\n",
    "\n",
    "The following datasets were identified to fulfill the analysis requirement: \n",
    "\n",
    "1. Ontario's Covid-19 Pandemic and Vaccination trends from 25-January-2020 to 17-July-2021\n",
    "  - [Data Source](https://covid19tracker.ca/vaccinationtracker.html) \n",
    "\n",
    "2. Confirmed Positive Cases in cities within Ontario (with age)\n",
    "  - [Data Source](https://data.ontario.ca/dataset/confirmed-positive-cases-of-covid-19-in-ontario)\n",
    "  - [Data Dictionary](https://data.ontario.ca/dataset/confirmed-positive-cases-of-covid-19-in-ontario)\n",
    "\n",
    "3. Ontario Vaccination data (by age)\n",
    "  - [Data Source](https://data.ontario.ca/en/dataset/covid-19-vaccine-data-in-ontario/resource/775ca815-5028-4e9b-9dd4-6975ff1be021)  \n",
    "  - [Data Dictionary](https://data.ontario.ca/en/dataset/covid-19-vaccine-data-in-ontario)\n",
    "\n",
    "4. Google Covid-19 mobility report\n",
    "  - [Data Source](https://www.google.com/covid19/mobility/)\n",
    "  - [Data Dictionary](https://www.google.com/covid19/mobility/data_documentation.html?hl=en)\n",
    "    Note: The baseline in mobility data is the median value, for the corresponding day of the week, during the 5-week period Jan 3–Feb 6, 2020\n",
    "---\n",
    "\n",
    "## Data understanding\n",
    "\n",
    "Features Explored In Ontario's Covid-19 Pandemic and Vaccination trends from 25-January-2020 to 17-July-2021:\n",
    "\n",
    "1. `date` - The date of activities captured in the dataset\n",
    "2. `change_cases` - The number of new cases as of each day\n",
    "3. `change_fatalities` - The number of new hospitalizations as of each day\n",
    "4. `change_tests` - The number of new tests as of each day\n",
    "5. `change_hospitalizations` - The number of new hospitalizations as of each day\n",
    "6. `change_criticals` - The number of new critcal cases as of each day\n",
    "7. `change_recoveries` - The number of recovered patients as of each day\n",
    "8. `change_vaccinations` - The number of new single-dosed vaccinated people as of each day\n",
    "9. `change_vaccinated` - The number of fully vaccinated people as of each day\n",
    "10. `change_vaccines_distributed` - The number of vaccines made available to the province as of each day\n",
    "11. `total_cases` - Total number of covid cases \n",
    "12. `total_fatalities` - Total number of covid-related fatalities \n",
    "13. `total_tests` - Total number of covid tests \n",
    "14. `total_hospitalizations` - Total number of covid-related hospitalizations \n",
    "15. `total_critcals` - Total number of covid-related critical care patients\n",
    "16. `total_recoveries` - Total number of recoveries\n",
    "17. `total_vaccinations` - Total number of covid vaccinations (first dose)\n",
    "18. `total_vaccinated` - Total number of fully vaccinated people\n",
    "19. `total_vaccines_distributed` - Total number of vaccines distributed across the province\n",
    "\n",
    "\n",
    "**NOTE:** Other Datasets used are accompanied with links to their dictionaries above.\n",
    "\n",
    "<br>\n",
    "\n"
   ]
  },
  {
   "cell_type": "markdown",
   "metadata": {
    "id": "7217CCXtuDJi"
   },
   "source": [
    "## Importing project dependencies\n",
    "\n",
    "---\n",
    "Required libraries are:\n",
    "\n",
    "1. ` pandas` : required to access dataset .csv file and work with data in tabular representation.\n",
    "\n",
    "2. ` numpy` required to round the data in the correlation matrix.\n",
    "\n",
    "3. ` matplotlib, seaborn, pylab` required for data visualization. \n",
    "\n",
    "4. `sklearn`: This library was used to access machine learning modules for prediction-related tasks.\n"
   ]
  },
  {
   "cell_type": "code",
   "execution_count": null,
   "metadata": {
    "id": "gcKjAkTSlw0K"
   },
   "outputs": [],
   "source": [
    "# importing libraries\n",
    "import pandas as pd\n",
    "import numpy as np\n",
    "import matplotlib.pyplot as plt\n",
    "import matplotlib.gridspec as gridspec\n",
    "import mpl_toolkits.mplot3d as m3d\n",
    "import seaborn as sns\n",
    "import matplotlib\n",
    "from pylab import *\n",
    "from pylab import rcParams\n",
    "from sklearn.linear_model import LinearRegression\n",
    "from sklearn.tree import DecisionTreeRegressor\n",
    "from sklearn.ensemble import RandomForestRegressor\n",
    "from sklearn.model_selection import train_test_split, KFold\n",
    "from sklearn.metrics import r2_score, mean_absolute_error, mean_squared_error"
   ]
  },
  {
   "cell_type": "code",
   "execution_count": null,
   "metadata": {
    "colab": {
     "base_uri": "https://localhost:8080/"
    },
    "id": "L15wgu5Sk9QY",
    "outputId": "1887ac1d-a242-45bd-bac9-247131419407"
   },
   "outputs": [
    {
     "name": "stdout",
     "output_type": "stream",
     "text": [
      "numpy version: 1.20.1\n",
      "pandas version: 1.2.4\n"
     ]
    }
   ],
   "source": [
    "# verifying numpy and pandas version being used\n",
    "print(f\"numpy version: {np.__version__}\")\n",
    "print(f\"pandas version: {pd.__version__}\")"
   ]
  },
  {
   "cell_type": "markdown",
   "metadata": {
    "id": "XIRfkJQK5BWS"
   },
   "source": [
    "## Data Modelling"
   ]
  },
  {
   "cell_type": "markdown",
   "metadata": {
    "id": "_p5kuRIB2ieI"
   },
   "source": [
    "### Utility function\n",
    "\n",
    "The following utility function is used to support the data modelling activity."
   ]
  },
  {
   "cell_type": "code",
   "execution_count": null,
   "metadata": {
    "id": "9duFdbSH2qEo"
   },
   "outputs": [],
   "source": [
    "# creating total_cases df with features that have > 0.75 correlation to total_cases\n",
    "\n",
    "# first - get the columns where correlation > 0.75\n",
    "'''\n",
    "Displays a list of columns that meet or exceed your specified correlation limit for linear regression\n",
    "\n",
    "    df: main data frame\n",
    "\n",
    "    map_column: this column would be used to check how other columns correlate with it\n",
    "\n",
    "    corr_limit: The mimimum degree/value to which the other column should correlate to the map_column\n",
    "\n",
    "'''\n",
    "collist = []\n",
    "def get_cols_that_meet_corr_limit(df, map_column, corr_limit):\n",
    "  i = 0\n",
    "  for cols in df.columns:\n",
    "    if df[map_column].corr(df[cols], method='pearson') >= corr_limit:\n",
    "      print(f\"{cols}: {df[map_column].corr(df[cols], method='pearson')}\")\n",
    "      collist.append(cols)\n",
    "      i += 1\n",
    "  print(\"\\n\\nYou can apply the above columns to your df using 'collist'. \\nSyntax: df[collist]\")\n"
   ]
  },
  {
   "cell_type": "markdown",
   "metadata": {
    "id": "RW2JyfAE5gkQ"
   },
   "source": [
    "**`Predicting daily total covid cases in Ontario:`**\n"
   ]
  },
  {
   "cell_type": "markdown",
   "metadata": {
    "id": "U9xig_BeD-sb"
   },
   "source": [
    "**Null hypothesis:** There is no correlation between the features and variables in the dataset i.e. correlation coefficients of features and target variable is zero\n",
    "\n",
    "**Alternative hypothesis:** There is linear correlation of 0.75 and over between features and the prediction target in the data.\n"
   ]
  },
  {
   "cell_type": "markdown",
   "metadata": {
    "id": "1Tb-bMONdn-w"
   },
   "source": [
    "### Using Linear Regression and statsmodel - OLS\n",
    "\n",
    "**`Note`**: Test_train_split was used for generating training and validation data"
   ]
  },
  {
   "cell_type": "code",
   "execution_count": null,
   "metadata": {
    "id": "taoBTAzDANjc"
   },
   "outputs": [],
   "source": [
    "# reading clean version of primary data for modelling\n",
    "ontariocovid_vaccine_ts_df = pd.read_pickle('data/ontario-covid/ontario_df.pickle')"
   ]
  },
  {
   "cell_type": "code",
   "execution_count": null,
   "metadata": {
    "colab": {
     "base_uri": "https://localhost:8080/"
    },
    "id": "6PdYQarvL2EN",
    "outputId": "d6d282d8-14eb-4ed5-ad48-0158a75da3e9"
   },
   "outputs": [
    {
     "name": "stdout",
     "output_type": "stream",
     "text": [
      "change_vaccinations: 0.8881474290199121\n",
      "total_cases: 1.0\n",
      "total_fatalities: 0.9620482022491743\n",
      "total_tests: 0.9776739655614067\n",
      "total_criticals: 0.7898145037222213\n",
      "total_recoveries: 0.9987566183371787\n",
      "total_vaccinations: 0.826234970908273\n",
      "total_vaccines_distibuted: 0.8265012758088542\n",
      "\n",
      "\n",
      "You can apply the above columns to your df using 'collist'. \n",
      "Syntax: df[collist]\n"
     ]
    }
   ],
   "source": [
    "get_cols_that_meet_corr_limit(ontariocovid_vaccine_ts_df, 'total_cases', 0.75)"
   ]
  },
  {
   "cell_type": "code",
   "execution_count": null,
   "metadata": {
    "colab": {
     "base_uri": "https://localhost:8080/",
     "height": 315
    },
    "id": "YF_pvexiJRXC",
    "outputId": "1853e393-8a0d-46ff-9bb9-d8605897417f"
   },
   "outputs": [
    {
     "data": {
      "text/html": [
       "<div>\n",
       "<style scoped>\n",
       "    .dataframe tbody tr th:only-of-type {\n",
       "        vertical-align: middle;\n",
       "    }\n",
       "\n",
       "    .dataframe tbody tr th {\n",
       "        vertical-align: top;\n",
       "    }\n",
       "\n",
       "    .dataframe thead th {\n",
       "        text-align: right;\n",
       "    }\n",
       "</style>\n",
       "<table border=\"1\" class=\"dataframe\">\n",
       "  <thead>\n",
       "    <tr style=\"text-align: right;\">\n",
       "      <th></th>\n",
       "      <th>change_vaccinations</th>\n",
       "      <th>total_cases</th>\n",
       "      <th>total_fatalities</th>\n",
       "      <th>total_tests</th>\n",
       "      <th>total_criticals</th>\n",
       "      <th>total_recoveries</th>\n",
       "      <th>total_vaccinations</th>\n",
       "      <th>total_vaccines_distibuted</th>\n",
       "    </tr>\n",
       "  </thead>\n",
       "  <tbody>\n",
       "    <tr>\n",
       "      <th>2020-01-25 00:00:00-05:00</th>\n",
       "      <td>0</td>\n",
       "      <td>1</td>\n",
       "      <td>0</td>\n",
       "      <td>0</td>\n",
       "      <td>0</td>\n",
       "      <td>0</td>\n",
       "      <td>0</td>\n",
       "      <td>0</td>\n",
       "    </tr>\n",
       "    <tr>\n",
       "      <th>2020-01-26 00:00:00-05:00</th>\n",
       "      <td>0</td>\n",
       "      <td>2</td>\n",
       "      <td>0</td>\n",
       "      <td>0</td>\n",
       "      <td>0</td>\n",
       "      <td>0</td>\n",
       "      <td>0</td>\n",
       "      <td>0</td>\n",
       "    </tr>\n",
       "    <tr>\n",
       "      <th>2020-01-27 00:00:00-05:00</th>\n",
       "      <td>0</td>\n",
       "      <td>2</td>\n",
       "      <td>0</td>\n",
       "      <td>0</td>\n",
       "      <td>0</td>\n",
       "      <td>0</td>\n",
       "      <td>0</td>\n",
       "      <td>0</td>\n",
       "    </tr>\n",
       "  </tbody>\n",
       "</table>\n",
       "</div>"
      ],
      "text/plain": [
       "                           change_vaccinations  total_cases  total_fatalities  \\\n",
       "2020-01-25 00:00:00-05:00                    0            1                 0   \n",
       "2020-01-26 00:00:00-05:00                    0            2                 0   \n",
       "2020-01-27 00:00:00-05:00                    0            2                 0   \n",
       "\n",
       "                           total_tests  total_criticals  total_recoveries  \\\n",
       "2020-01-25 00:00:00-05:00            0                0                 0   \n",
       "2020-01-26 00:00:00-05:00            0                0                 0   \n",
       "2020-01-27 00:00:00-05:00            0                0                 0   \n",
       "\n",
       "                           total_vaccinations  total_vaccines_distibuted  \n",
       "2020-01-25 00:00:00-05:00                   0                          0  \n",
       "2020-01-26 00:00:00-05:00                   0                          0  \n",
       "2020-01-27 00:00:00-05:00                   0                          0  "
      ]
     },
     "execution_count": 240,
     "metadata": {},
     "output_type": "execute_result"
    }
   ],
   "source": [
    "# create df \n",
    "tc_prediction_df = ontariocovid_vaccine_ts_df[collist] \n",
    "tc_prediction_df.head(3)"
   ]
  },
  {
   "cell_type": "code",
   "execution_count": null,
   "metadata": {
    "colab": {
     "base_uri": "https://localhost:8080/",
     "height": 479
    },
    "id": "swtmdYchC-Oc",
    "outputId": "eb61c363-c4a2-41a2-c7cc-32365ff5843c"
   },
   "outputs": [
    {
     "data": {
      "text/html": [
       "<div>\n",
       "<style scoped>\n",
       "    .dataframe tbody tr th:only-of-type {\n",
       "        vertical-align: middle;\n",
       "    }\n",
       "\n",
       "    .dataframe tbody tr th {\n",
       "        vertical-align: top;\n",
       "    }\n",
       "\n",
       "    .dataframe thead th {\n",
       "        text-align: right;\n",
       "    }\n",
       "</style>\n",
       "<table border=\"1\" class=\"dataframe\">\n",
       "  <thead>\n",
       "    <tr style=\"text-align: right;\">\n",
       "      <th></th>\n",
       "      <th>change_vaccinations</th>\n",
       "      <th>total_tests</th>\n",
       "    </tr>\n",
       "  </thead>\n",
       "  <tbody>\n",
       "    <tr>\n",
       "      <th>2020-01-25 00:00:00-05:00</th>\n",
       "      <td>0</td>\n",
       "      <td>0</td>\n",
       "    </tr>\n",
       "    <tr>\n",
       "      <th>2020-01-26 00:00:00-05:00</th>\n",
       "      <td>0</td>\n",
       "      <td>0</td>\n",
       "    </tr>\n",
       "    <tr>\n",
       "      <th>2020-01-27 00:00:00-05:00</th>\n",
       "      <td>0</td>\n",
       "      <td>0</td>\n",
       "    </tr>\n",
       "  </tbody>\n",
       "</table>\n",
       "</div>"
      ],
      "text/plain": [
       "                           change_vaccinations  total_tests\n",
       "2020-01-25 00:00:00-05:00                    0            0\n",
       "2020-01-26 00:00:00-05:00                    0            0\n",
       "2020-01-27 00:00:00-05:00                    0            0"
      ]
     },
     "execution_count": 241,
     "metadata": {},
     "output_type": "execute_result"
    }
   ],
   "source": [
    "# defining features for model\n",
    "features = tc_prediction_df.drop(columns=['total_fatalities','total_recoveries','total_cases','total_criticals','total_vaccinations','total_vaccines_distibuted'])\n",
    "features.head(3)"
   ]
  },
  {
   "cell_type": "code",
   "execution_count": null,
   "metadata": {
    "id": "sbw528e4PjwR"
   },
   "outputs": [],
   "source": [
    "# define prediction target \n",
    "target_prediction = tc_prediction_df['total_cases']"
   ]
  },
  {
   "cell_type": "code",
   "execution_count": null,
   "metadata": {
    "colab": {
     "base_uri": "https://localhost:8080/"
    },
    "id": "qZZZGbqKRVQ4",
    "outputId": "f7f0cf75-a4b2-41b9-e781-ec938033fb12"
   },
   "outputs": [
    {
     "name": "stdout",
     "output_type": "stream",
     "text": [
      "540\n",
      "540\n"
     ]
    }
   ],
   "source": [
    "# verifying that the featture matrix and precition variables are of equal length\n",
    "print(len(features))\n",
    "print(len(target_prediction))"
   ]
  },
  {
   "cell_type": "code",
   "execution_count": null,
   "metadata": {
    "id": "AKz5ufcOJBqq"
   },
   "outputs": [],
   "source": [
    "# split data\n",
    "# put Xs together then Ys together - so that the split maps to features and target_pred. correctly\n",
    "\n",
    "X_train, X_test, y_train, y_test = train_test_split(features, target_prediction, test_size=0.30, random_state=0)"
   ]
  },
  {
   "cell_type": "code",
   "execution_count": null,
   "metadata": {
    "colab": {
     "base_uri": "https://localhost:8080/"
    },
    "id": "64NGrKEZDDEp",
    "outputId": "09cd93ce-a9ed-417c-d967-9664c0be8592"
   },
   "outputs": [
    {
     "data": {
      "text/plain": [
       "LinearRegression()"
      ]
     },
     "execution_count": 245,
     "metadata": {},
     "output_type": "execute_result"
    }
   ],
   "source": [
    "#  using Linear Regression - create and fit model\n",
    "model_tc = LinearRegression()\n",
    "model_tc.fit(X_train,y_train)\n"
   ]
  },
  {
   "cell_type": "code",
   "execution_count": null,
   "metadata": {
    "colab": {
     "base_uri": "https://localhost:8080/"
    },
    "id": "resd58nKSaDL",
    "outputId": "4c9774ac-1c6c-4be3-b42c-f621fd6e717c"
   },
   "outputs": [
    {
     "name": "stdout",
     "output_type": "stream",
     "text": [
      "The y_intercept of the model (beta_0) is: -11860.45354\n",
      "The slopes of the model (beta_1) are: \n",
      "0.79914: for changes_vaccination \n",
      "0.02542: for total tests\n"
     ]
    }
   ],
   "source": [
    "# getting the model parameters - beta_0 and beta_1\n",
    "print(f\"The y_intercept of the model (beta_0) is: {model_tc.intercept_:.5f}\")\n",
    "print(f\"The slopes of the model (beta_1) are: \\n{model_tc.coef_[0]:.5f}: for changes_vaccination \\n{model_tc.coef_[1]:.5f}: for total tests\")"
   ]
  },
  {
   "cell_type": "code",
   "execution_count": null,
   "metadata": {
    "colab": {
     "base_uri": "https://localhost:8080/"
    },
    "id": "83JtIQVNSIUA",
    "outputId": "2e792c11-2b80-4989-ed50-a3cc8a4d06e8"
   },
   "outputs": [
    {
     "name": "stdout",
     "output_type": "stream",
     "text": [
      "The model score on the training data is: 0.982\n"
     ]
    }
   ],
   "source": [
    "# assessing accuracy of the model\n",
    "print(f\"The model score on the training data is: {model_tc.score(X_train, y_train):.3f}\")"
   ]
  },
  {
   "cell_type": "code",
   "execution_count": null,
   "metadata": {
    "colab": {
     "base_uri": "https://localhost:8080/"
    },
    "id": "3O_YYkWUWQZC",
    "outputId": "c4190a22-22a0-4f13-d1aa-86edfa61e372"
   },
   "outputs": [
    {
     "name": "stdout",
     "output_type": "stream",
     "text": [
      "162\n",
      "162\n"
     ]
    }
   ],
   "source": [
    "# verifying that the featture matrix and precition variables are of equal length\n",
    "print(len(X_test))\n",
    "print(len(y_test))"
   ]
  },
  {
   "cell_type": "code",
   "execution_count": null,
   "metadata": {
    "id": "NQ6IwxlXSElU"
   },
   "outputs": [],
   "source": [
    "# testing the model on the 30% of the sample size\n",
    "lin_model_pred_df = X_test.copy()\n",
    "lin_model_pred_df['total_cases'] = y_test\n"
   ]
  },
  {
   "cell_type": "code",
   "execution_count": null,
   "metadata": {
    "colab": {
     "base_uri": "https://localhost:8080/",
     "height": 889
    },
    "id": "tJzkxW8LXcga",
    "outputId": "ef6e763d-eda2-4aa2-a88c-9068a1e36c29"
   },
   "outputs": [
    {
     "data": {
      "text/html": [
       "<div>\n",
       "<style scoped>\n",
       "    .dataframe tbody tr th:only-of-type {\n",
       "        vertical-align: middle;\n",
       "    }\n",
       "\n",
       "    .dataframe tbody tr th {\n",
       "        vertical-align: top;\n",
       "    }\n",
       "\n",
       "    .dataframe thead th {\n",
       "        text-align: right;\n",
       "    }\n",
       "</style>\n",
       "<table border=\"1\" class=\"dataframe\">\n",
       "  <thead>\n",
       "    <tr style=\"text-align: right;\">\n",
       "      <th></th>\n",
       "      <th>change_vaccinations</th>\n",
       "      <th>total_tests</th>\n",
       "      <th>total_cases</th>\n",
       "      <th>predicted_total_cases</th>\n",
       "    </tr>\n",
       "  </thead>\n",
       "  <tbody>\n",
       "    <tr>\n",
       "      <th>2020-12-01 00:00:00-05:00</th>\n",
       "      <td>0</td>\n",
       "      <td>6309556</td>\n",
       "      <td>118199</td>\n",
       "      <td>148559</td>\n",
       "    </tr>\n",
       "    <tr>\n",
       "      <th>2020-11-05 00:00:00-05:00</th>\n",
       "      <td>0</td>\n",
       "      <td>5264568</td>\n",
       "      <td>80690</td>\n",
       "      <td>121990</td>\n",
       "    </tr>\n",
       "    <tr>\n",
       "      <th>2021-05-05 00:00:00-04:00</th>\n",
       "      <td>132603</td>\n",
       "      <td>14310628</td>\n",
       "      <td>479633</td>\n",
       "      <td>457954</td>\n",
       "    </tr>\n",
       "    <tr>\n",
       "      <th>2021-02-08 00:00:00-05:00</th>\n",
       "      <td>6987</td>\n",
       "      <td>10054325</td>\n",
       "      <td>279472</td>\n",
       "      <td>249353</td>\n",
       "    </tr>\n",
       "    <tr>\n",
       "      <th>2020-08-08 00:00:00-04:00</th>\n",
       "      <td>0</td>\n",
       "      <td>2372441</td>\n",
       "      <td>39967</td>\n",
       "      <td>48459</td>\n",
       "    </tr>\n",
       "    <tr>\n",
       "      <th>2020-12-08 00:00:00-05:00</th>\n",
       "      <td>0</td>\n",
       "      <td>6665787</td>\n",
       "      <td>130910</td>\n",
       "      <td>157616</td>\n",
       "    </tr>\n",
       "    <tr>\n",
       "      <th>2021-07-15 00:00:00-04:00</th>\n",
       "      <td>166201</td>\n",
       "      <td>16282312</td>\n",
       "      <td>547705</td>\n",
       "      <td>534934</td>\n",
       "    </tr>\n",
       "    <tr>\n",
       "      <th>2020-05-17 00:00:00-04:00</th>\n",
       "      <td>0</td>\n",
       "      <td>544826</td>\n",
       "      <td>22653</td>\n",
       "      <td>1992</td>\n",
       "    </tr>\n",
       "    <tr>\n",
       "      <th>2020-10-22 00:00:00-04:00</th>\n",
       "      <td>0</td>\n",
       "      <td>4785832</td>\n",
       "      <td>67527</td>\n",
       "      <td>109819</td>\n",
       "    </tr>\n",
       "    <tr>\n",
       "      <th>2020-02-01 00:00:00-05:00</th>\n",
       "      <td>0</td>\n",
       "      <td>0</td>\n",
       "      <td>3</td>\n",
       "      <td>-11860</td>\n",
       "    </tr>\n",
       "  </tbody>\n",
       "</table>\n",
       "</div>"
      ],
      "text/plain": [
       "                           change_vaccinations  total_tests  total_cases  \\\n",
       "2020-12-01 00:00:00-05:00                    0      6309556       118199   \n",
       "2020-11-05 00:00:00-05:00                    0      5264568        80690   \n",
       "2021-05-05 00:00:00-04:00               132603     14310628       479633   \n",
       "2021-02-08 00:00:00-05:00                 6987     10054325       279472   \n",
       "2020-08-08 00:00:00-04:00                    0      2372441        39967   \n",
       "2020-12-08 00:00:00-05:00                    0      6665787       130910   \n",
       "2021-07-15 00:00:00-04:00               166201     16282312       547705   \n",
       "2020-05-17 00:00:00-04:00                    0       544826        22653   \n",
       "2020-10-22 00:00:00-04:00                    0      4785832        67527   \n",
       "2020-02-01 00:00:00-05:00                    0            0            3   \n",
       "\n",
       "                           predicted_total_cases  \n",
       "2020-12-01 00:00:00-05:00                 148559  \n",
       "2020-11-05 00:00:00-05:00                 121990  \n",
       "2021-05-05 00:00:00-04:00                 457954  \n",
       "2021-02-08 00:00:00-05:00                 249353  \n",
       "2020-08-08 00:00:00-04:00                  48459  \n",
       "2020-12-08 00:00:00-05:00                 157616  \n",
       "2021-07-15 00:00:00-04:00                 534934  \n",
       "2020-05-17 00:00:00-04:00                   1992  \n",
       "2020-10-22 00:00:00-04:00                 109819  \n",
       "2020-02-01 00:00:00-05:00                 -11860  "
      ]
     },
     "execution_count": 250,
     "metadata": {},
     "output_type": "execute_result"
    }
   ],
   "source": [
    "lin_model_pred_df['predicted_total_cases'] = np.round(model_tc.predict(X_test)).astype(int)\n",
    "lin_model_pred_df.iloc[120:130]"
   ]
  },
  {
   "cell_type": "code",
   "execution_count": null,
   "metadata": {
    "colab": {
     "base_uri": "https://localhost:8080/"
    },
    "id": "WwdqzIsnXLQR",
    "outputId": "ad6b8fd3-3d24-412c-bfa2-d9814e4d492e"
   },
   "outputs": [
    {
     "name": "stdout",
     "output_type": "stream",
     "text": [
      "The measure of accuracy for the model using r-squared is: 0.9815\n",
      "The mean absolute error for the model is: 22187.13\n",
      "The mean squared error for the model is: 686918812.52\n"
     ]
    }
   ],
   "source": [
    "# assessing actual cases vs predicted cases using accuracy and error metrics\n",
    "print(f\"The measure of accuracy for the model using r-squared is: {r2_score(lin_model_pred_df['total_cases'], lin_model_pred_df['predicted_total_cases']):.4f}\")\n",
    "print(f\"The mean absolute error for the model is: {mean_absolute_error(lin_model_pred_df['total_cases'], lin_model_pred_df['predicted_total_cases']):.2f}\")\n",
    "print(f\"The mean squared error for the model is: {mean_squared_error(lin_model_pred_df['total_cases'], lin_model_pred_df['predicted_total_cases']):.2f}\")"
   ]
  },
  {
   "cell_type": "code",
   "execution_count": null,
   "metadata": {
    "colab": {
     "base_uri": "https://localhost:8080/",
     "height": 54
    },
    "id": "UwhyvKidzjtG",
    "outputId": "02235289-87f8-497b-8fdb-276007e0aac5"
   },
   "outputs": [
    {
     "data": {
      "image/png": "[encoded data removed]",
      "text/plain": [
       "<Figure size 432x288 with 1 Axes>"
      ]
     },
     "metadata": {},
     "output_type": "display_data"
    }
   ],
   "source": [
    "#collapse-hide\n",
    "fig3d = m3d.Axes3D(plt.figure())\n",
    "fig3d.set_ylabel('Total_tests')\n",
    "fig3d.set_zlabel('Predicted_total_cases')\n",
    "fig3d.view_init(12, 225)\n",
    "fig3d.scatter3D(xs=lin_model_pred_df['change_vaccinations'], ys=lin_model_pred_df['total_tests'], zs= lin_model_pred_df['total_cases'] , color = 'green')\n",
    "fig3d.scatter3D(xs=lin_model_pred_df['change_vaccinations'], ys=lin_model_pred_df['total_tests'], zs= lin_model_pred_df['predicted_total_cases'] , color = 'red')\n",
    "\n",
    "plt.show();"
   ]
  },
  {
   "cell_type": "code",
   "execution_count": null,
   "metadata": {
    "colab": {
     "base_uri": "https://localhost:8080/",
     "height": 1000
    },
    "id": "CozGYKbCzEEm",
    "outputId": "c427a47b-1f59-4c3e-d667-e46fc812a3b2"
   },
   "outputs": [
    {
     "data": {
      "text/html": [
       "<table class=\"simpletable\">\n",
       "<caption>OLS Regression Results</caption>\n",
       "<tr>\n",
       "  <th>Dep. Variable:</th>       <td>total_cases</td>   <th>  R-squared:         </th> <td>   0.982</td> \n",
       "</tr>\n",
       "<tr>\n",
       "  <th>Model:</th>                   <td>OLS</td>       <th>  Adj. R-squared:    </th> <td>   0.982</td> \n",
       "</tr>\n",
       "<tr>\n",
       "  <th>Method:</th>             <td>Least Squares</td>  <th>  F-statistic:       </th> <td>1.462e+04</td>\n",
       "</tr>\n",
       "<tr>\n",
       "  <th>Date:</th>             <td>Sat, 11 Sep 2021</td> <th>  Prob (F-statistic):</th>  <td>  0.00</td>  \n",
       "</tr>\n",
       "<tr>\n",
       "  <th>Time:</th>                 <td>11:51:13</td>     <th>  Log-Likelihood:    </th> <td> -6238.7</td> \n",
       "</tr>\n",
       "<tr>\n",
       "  <th>No. Observations:</th>      <td>   540</td>      <th>  AIC:               </th> <td>1.248e+04</td>\n",
       "</tr>\n",
       "<tr>\n",
       "  <th>Df Residuals:</th>          <td>   537</td>      <th>  BIC:               </th> <td>1.250e+04</td>\n",
       "</tr>\n",
       "<tr>\n",
       "  <th>Df Model:</th>              <td>     2</td>      <th>                     </th>     <td> </td>    \n",
       "</tr>\n",
       "<tr>\n",
       "  <th>Covariance Type:</th>      <td>nonrobust</td>    <th>                     </th>     <td> </td>    \n",
       "</tr>\n",
       "</table>\n",
       "<table class=\"simpletable\">\n",
       "<tr>\n",
       "           <td></td>              <th>coef</th>     <th>std err</th>      <th>t</th>      <th>P>|t|</th>  <th>[0.025</th>    <th>0.975]</th>  \n",
       "</tr>\n",
       "<tr>\n",
       "  <th>Intercept</th>           <td>-1.211e+04</td> <td> 1769.940</td> <td>   -6.844</td> <td> 0.000</td> <td>-1.56e+04</td> <td>-8635.777</td>\n",
       "</tr>\n",
       "<tr>\n",
       "  <th>total_tests</th>         <td>    0.0254</td> <td>    0.000</td> <td>   75.841</td> <td> 0.000</td> <td>    0.025</td> <td>    0.026</td>\n",
       "</tr>\n",
       "<tr>\n",
       "  <th>change_vaccinations</th> <td>    0.8358</td> <td>    0.030</td> <td>   27.889</td> <td> 0.000</td> <td>    0.777</td> <td>    0.895</td>\n",
       "</tr>\n",
       "</table>\n",
       "<table class=\"simpletable\">\n",
       "<tr>\n",
       "  <th>Omnibus:</th>       <td> 2.440</td> <th>  Durbin-Watson:     </th> <td>   0.225</td>\n",
       "</tr>\n",
       "<tr>\n",
       "  <th>Prob(Omnibus):</th> <td> 0.295</td> <th>  Jarque-Bera (JB):  </th> <td>   2.515</td>\n",
       "</tr>\n",
       "<tr>\n",
       "  <th>Skew:</th>          <td>-0.157</td> <th>  Prob(JB):          </th> <td>   0.284</td>\n",
       "</tr>\n",
       "<tr>\n",
       "  <th>Kurtosis:</th>      <td> 2.883</td> <th>  Cond. No.          </th> <td>1.36e+07</td>\n",
       "</tr>\n",
       "</table><br/><br/>Notes:<br/>[1] Standard Errors assume that the covariance matrix of the errors is correctly specified.<br/>[2] The condition number is large, 1.36e+07. This might indicate that there are<br/>strong multicollinearity or other numerical problems."
      ],
      "text/plain": [
       "<class 'statsmodels.iolib.summary.Summary'>\n",
       "\"\"\"\n",
       "                            OLS Regression Results                            \n",
       "==============================================================================\n",
       "Dep. Variable:            total_cases   R-squared:                       0.982\n",
       "Model:                            OLS   Adj. R-squared:                  0.982\n",
       "Method:                 Least Squares   F-statistic:                 1.462e+04\n",
       "Date:                Sat, 11 Sep 2021   Prob (F-statistic):               0.00\n",
       "Time:                        11:51:13   Log-Likelihood:                -6238.7\n",
       "No. Observations:                 540   AIC:                         1.248e+04\n",
       "Df Residuals:                     537   BIC:                         1.250e+04\n",
       "Df Model:                           2                                         \n",
       "Covariance Type:            nonrobust                                         \n",
       "=======================================================================================\n",
       "                          coef    std err          t      P>|t|      [0.025      0.975]\n",
       "---------------------------------------------------------------------------------------\n",
       "Intercept           -1.211e+04   1769.940     -6.844      0.000   -1.56e+04   -8635.777\n",
       "total_tests             0.0254      0.000     75.841      0.000       0.025       0.026\n",
       "change_vaccinations     0.8358      0.030     27.889      0.000       0.777       0.895\n",
       "==============================================================================\n",
       "Omnibus:                        2.440   Durbin-Watson:                   0.225\n",
       "Prob(Omnibus):                  0.295   Jarque-Bera (JB):                2.515\n",
       "Skew:                          -0.157   Prob(JB):                        0.284\n",
       "Kurtosis:                       2.883   Cond. No.                     1.36e+07\n",
       "==============================================================================\n",
       "\n",
       "Notes:\n",
       "[1] Standard Errors assume that the covariance matrix of the errors is correctly specified.\n",
       "[2] The condition number is large, 1.36e+07. This might indicate that there are\n",
       "strong multicollinearity or other numerical problems.\n",
       "\"\"\""
      ]
     },
     "execution_count": 255,
     "metadata": {},
     "output_type": "execute_result"
    }
   ],
   "source": [
    "# confirming model using statsmodels\n",
    "import pandas.testing as tm\n",
    "import statsmodels.formula.api as smf\n",
    "\n",
    "tc_ml_stats_df = smf.ols(\"total_cases ~ total_tests  + change_vaccinations\", data=ontariocovid_vaccine_ts_df) \n",
    "# tc_ml_stats_df = smf.ols(\"total_fatalities ~ total_cases + total_tests + total_recoveries\", data=ontariocovid_vaccine_ts_df) \n",
    "\n",
    "output = tc_ml_stats_df.fit()\n",
    "\n",
    "output.summary()\n",
    "# diamond_reg_cut.summary()"
   ]
  },
  {
   "cell_type": "markdown",
   "metadata": {
    "id": "j3fIzqoRd46o"
   },
   "source": [
    "### **`Using Decision Tree Regressor and Random Forest Regressor`**"
   ]
  },
  {
   "cell_type": "code",
   "execution_count": null,
   "metadata": {
    "colab": {
     "base_uri": "https://localhost:8080/"
    },
    "id": "iUdbwZuuCayR",
    "outputId": "62b7ea4d-15ec-466e-e956-e4d0fb259153"
   },
   "outputs": [
    {
     "data": {
      "text/plain": [
       "DecisionTreeRegressor(max_depth=5, random_state=0)"
      ]
     },
     "execution_count": 256,
     "metadata": {},
     "output_type": "execute_result"
    }
   ],
   "source": [
    "# using --- DECISION TREE REGRESSOR ------\n",
    "dt_model = DecisionTreeRegressor(criterion='mse', max_depth=5, random_state=0)\n",
    "dt_model.fit(X_train, y_train)"
   ]
  },
  {
   "cell_type": "code",
   "execution_count": null,
   "metadata": {
    "colab": {
     "base_uri": "https://localhost:8080/"
    },
    "id": "RzELuD8uDG0E",
    "outputId": "cbb365ff-5868-4f5f-9b93-9e49732c9e33"
   },
   "outputs": [
    {
     "name": "stdout",
     "output_type": "stream",
     "text": [
      "The decision tree regressor model score is: 0.9995\n"
     ]
    }
   ],
   "source": [
    "print(f\"The decision tree regressor model score is: {dt_model.score(X_train, y_train):.4f}\")    # getting model score"
   ]
  },
  {
   "cell_type": "code",
   "execution_count": null,
   "metadata": {
    "colab": {
     "base_uri": "https://localhost:8080/",
     "height": 233
    },
    "id": "JhRzLWF4D2Vi",
    "outputId": "09b634b0-8e1d-4331-fb21-bd41a970afe6"
   },
   "outputs": [
    {
     "data": {
      "text/html": [
       "<div>\n",
       "<style scoped>\n",
       "    .dataframe tbody tr th:only-of-type {\n",
       "        vertical-align: middle;\n",
       "    }\n",
       "\n",
       "    .dataframe tbody tr th {\n",
       "        vertical-align: top;\n",
       "    }\n",
       "\n",
       "    .dataframe thead th {\n",
       "        text-align: right;\n",
       "    }\n",
       "</style>\n",
       "<table border=\"1\" class=\"dataframe\">\n",
       "  <thead>\n",
       "    <tr style=\"text-align: right;\">\n",
       "      <th></th>\n",
       "      <th>change_vaccinations</th>\n",
       "      <th>total_tests</th>\n",
       "      <th>total_cases</th>\n",
       "      <th>predicted_total_cases</th>\n",
       "    </tr>\n",
       "  </thead>\n",
       "  <tbody>\n",
       "    <tr>\n",
       "      <th>2020-04-05 00:00:00-04:00</th>\n",
       "      <td>0</td>\n",
       "      <td>75046</td>\n",
       "      <td>4038</td>\n",
       "      <td>-9952</td>\n",
       "    </tr>\n",
       "    <tr>\n",
       "      <th>2021-02-19 00:00:00-05:00</th>\n",
       "      <td>16967</td>\n",
       "      <td>10588786</td>\n",
       "      <td>290771</td>\n",
       "      <td>270917</td>\n",
       "    </tr>\n",
       "  </tbody>\n",
       "</table>\n",
       "</div>"
      ],
      "text/plain": [
       "                           change_vaccinations  total_tests  total_cases  \\\n",
       "2020-04-05 00:00:00-04:00                    0        75046         4038   \n",
       "2021-02-19 00:00:00-05:00                16967     10588786       290771   \n",
       "\n",
       "                           predicted_total_cases  \n",
       "2020-04-05 00:00:00-04:00                  -9952  \n",
       "2021-02-19 00:00:00-05:00                 270917  "
      ]
     },
     "execution_count": 258,
     "metadata": {},
     "output_type": "execute_result"
    }
   ],
   "source": [
    "dt_lin_pred_df = lin_model_pred_df.copy()\n",
    "dt_lin_pred_df.head(2)"
   ]
  },
  {
   "cell_type": "code",
   "execution_count": null,
   "metadata": {
    "colab": {
     "base_uri": "https://localhost:8080/",
     "height": 479
    },
    "id": "mKB7pUW2EI17",
    "outputId": "24f0b604-304f-4478-d26c-cc8def4feab9"
   },
   "outputs": [
    {
     "data": {
      "text/html": [
       "<div>\n",
       "<style scoped>\n",
       "    .dataframe tbody tr th:only-of-type {\n",
       "        vertical-align: middle;\n",
       "    }\n",
       "\n",
       "    .dataframe tbody tr th {\n",
       "        vertical-align: top;\n",
       "    }\n",
       "\n",
       "    .dataframe thead th {\n",
       "        text-align: right;\n",
       "    }\n",
       "</style>\n",
       "<table border=\"1\" class=\"dataframe\">\n",
       "  <thead>\n",
       "    <tr style=\"text-align: right;\">\n",
       "      <th></th>\n",
       "      <th>change_vaccinations</th>\n",
       "      <th>total_tests</th>\n",
       "      <th>total_cases</th>\n",
       "      <th>predicted_total_cases</th>\n",
       "      <th>dt_predicted_total_cases</th>\n",
       "    </tr>\n",
       "  </thead>\n",
       "  <tbody>\n",
       "    <tr>\n",
       "      <th>2020-04-05 00:00:00-04:00</th>\n",
       "      <td>0</td>\n",
       "      <td>75046</td>\n",
       "      <td>4038</td>\n",
       "      <td>-9952</td>\n",
       "      <td>6071</td>\n",
       "    </tr>\n",
       "    <tr>\n",
       "      <th>2021-02-19 00:00:00-05:00</th>\n",
       "      <td>16967</td>\n",
       "      <td>10588786</td>\n",
       "      <td>290771</td>\n",
       "      <td>270917</td>\n",
       "      <td>283075</td>\n",
       "    </tr>\n",
       "    <tr>\n",
       "      <th>2021-06-01 00:00:00-04:00</th>\n",
       "      <td>120195</td>\n",
       "      <td>15242915</td>\n",
       "      <td>532158</td>\n",
       "      <td>471742</td>\n",
       "      <td>534608</td>\n",
       "    </tr>\n",
       "  </tbody>\n",
       "</table>\n",
       "</div>"
      ],
      "text/plain": [
       "                           change_vaccinations  total_tests  total_cases  \\\n",
       "2020-04-05 00:00:00-04:00                    0        75046         4038   \n",
       "2021-02-19 00:00:00-05:00                16967     10588786       290771   \n",
       "2021-06-01 00:00:00-04:00               120195     15242915       532158   \n",
       "\n",
       "                           predicted_total_cases  dt_predicted_total_cases  \n",
       "2020-04-05 00:00:00-04:00                  -9952                      6071  \n",
       "2021-02-19 00:00:00-05:00                 270917                    283075  \n",
       "2021-06-01 00:00:00-04:00                 471742                    534608  "
      ]
     },
     "execution_count": 259,
     "metadata": {},
     "output_type": "execute_result"
    }
   ],
   "source": [
    "dt_lin_pred_df['dt_predicted_total_cases'] = np.round(dt_model.predict(X_test)).astype(int)\n",
    "dt_lin_pred_df.head(3)"
   ]
  },
  {
   "cell_type": "code",
   "execution_count": null,
   "metadata": {
    "colab": {
     "base_uri": "https://localhost:8080/"
    },
    "id": "1BvOCzJ_E99P",
    "outputId": "a6c910ff-9a6f-4838-8e9a-2d74612fadb3"
   },
   "outputs": [
    {
     "name": "stdout",
     "output_type": "stream",
     "text": [
      "The measure of accuracy for the decision tree model using r-squared is: 0.9991\n",
      "The mean absolute error for the decision tree model is: 4190.6173\n",
      "The mean squared error for the decision tree model is: 34939382.6914\n"
     ]
    }
   ],
   "source": [
    "# assessing actual cases vs predicted cases using accuracy and error metrics\n",
    "print(f\"The measure of accuracy for the decision tree model using r-squared is: {r2_score(dt_lin_pred_df['total_cases'], dt_lin_pred_df['dt_predicted_total_cases']):.4f}\")\n",
    "print(f\"The mean absolute error for the decision tree model is: {mean_absolute_error(dt_lin_pred_df['total_cases'], dt_lin_pred_df['dt_predicted_total_cases']):.4f}\")\n",
    "print(f\"The mean squared error for the decision tree model is: {mean_squared_error(dt_lin_pred_df['total_cases'], dt_lin_pred_df['dt_predicted_total_cases']):.4f}\")"
   ]
  },
  {
   "cell_type": "code",
   "execution_count": null,
   "metadata": {
    "colab": {
     "base_uri": "https://localhost:8080/"
    },
    "id": "MmJ4bUBCUbsP",
    "outputId": "9ecc33d9-5421-4681-df6e-13358cd3361f"
   },
   "outputs": [
    {
     "data": {
      "text/plain": [
       "0.99989954792897"
      ]
     },
     "execution_count": 261,
     "metadata": {},
     "output_type": "execute_result"
    }
   ],
   "source": [
    "# EXPLORING ---  the prediction with RANDOM FOREST REGRESSOR\n",
    "from sklearn.ensemble import RandomForestRegressor \n",
    "rf_model = RandomForestRegressor(max_depth=5, random_state=0).fit(X_train, y_train)\n",
    "rf_model.score(X_train, y_train)"
   ]
  },
  {
   "cell_type": "code",
   "execution_count": null,
   "metadata": {
    "colab": {
     "base_uri": "https://localhost:8080/",
     "height": 233
    },
    "id": "deO2MHrDYjtn",
    "outputId": "10c76216-9d4c-4122-94f5-c449b7a7e3f1"
   },
   "outputs": [
    {
     "data": {
      "text/html": [
       "<div>\n",
       "<style scoped>\n",
       "    .dataframe tbody tr th:only-of-type {\n",
       "        vertical-align: middle;\n",
       "    }\n",
       "\n",
       "    .dataframe tbody tr th {\n",
       "        vertical-align: top;\n",
       "    }\n",
       "\n",
       "    .dataframe thead th {\n",
       "        text-align: right;\n",
       "    }\n",
       "</style>\n",
       "<table border=\"1\" class=\"dataframe\">\n",
       "  <thead>\n",
       "    <tr style=\"text-align: right;\">\n",
       "      <th></th>\n",
       "      <th>change_vaccinations</th>\n",
       "      <th>total_tests</th>\n",
       "      <th>total_cases</th>\n",
       "      <th>predicted_total_cases</th>\n",
       "      <th>dt_predicted_total_cases</th>\n",
       "    </tr>\n",
       "  </thead>\n",
       "  <tbody>\n",
       "    <tr>\n",
       "      <th>2020-04-05 00:00:00-04:00</th>\n",
       "      <td>0</td>\n",
       "      <td>75046</td>\n",
       "      <td>4038</td>\n",
       "      <td>-9952</td>\n",
       "      <td>6071</td>\n",
       "    </tr>\n",
       "    <tr>\n",
       "      <th>2021-02-19 00:00:00-05:00</th>\n",
       "      <td>16967</td>\n",
       "      <td>10588786</td>\n",
       "      <td>290771</td>\n",
       "      <td>270917</td>\n",
       "      <td>283075</td>\n",
       "    </tr>\n",
       "  </tbody>\n",
       "</table>\n",
       "</div>"
      ],
      "text/plain": [
       "                           change_vaccinations  total_tests  total_cases  \\\n",
       "2020-04-05 00:00:00-04:00                    0        75046         4038   \n",
       "2021-02-19 00:00:00-05:00                16967     10588786       290771   \n",
       "\n",
       "                           predicted_total_cases  dt_predicted_total_cases  \n",
       "2020-04-05 00:00:00-04:00                  -9952                      6071  \n",
       "2021-02-19 00:00:00-05:00                 270917                    283075  "
      ]
     },
     "execution_count": 262,
     "metadata": {},
     "output_type": "execute_result"
    }
   ],
   "source": [
    "rf_lin_pred_df = dt_lin_pred_df.copy()\n",
    "rf_lin_pred_df.head(2)"
   ]
  },
  {
   "cell_type": "code",
   "execution_count": null,
   "metadata": {
    "colab": {
     "base_uri": "https://localhost:8080/",
     "height": 479
    },
    "id": "ovbMF6SQY0Bt",
    "outputId": "26696946-61d5-47ac-84c8-ec2bb7ad1620"
   },
   "outputs": [
    {
     "data": {
      "text/html": [
       "<div>\n",
       "<style scoped>\n",
       "    .dataframe tbody tr th:only-of-type {\n",
       "        vertical-align: middle;\n",
       "    }\n",
       "\n",
       "    .dataframe tbody tr th {\n",
       "        vertical-align: top;\n",
       "    }\n",
       "\n",
       "    .dataframe thead th {\n",
       "        text-align: right;\n",
       "    }\n",
       "</style>\n",
       "<table border=\"1\" class=\"dataframe\">\n",
       "  <thead>\n",
       "    <tr style=\"text-align: right;\">\n",
       "      <th></th>\n",
       "      <th>change_vaccinations</th>\n",
       "      <th>total_tests</th>\n",
       "      <th>total_cases</th>\n",
       "      <th>predicted_total_cases</th>\n",
       "      <th>dt_predicted_total_cases</th>\n",
       "      <th>rf_predicted_total_cases</th>\n",
       "    </tr>\n",
       "  </thead>\n",
       "  <tbody>\n",
       "    <tr>\n",
       "      <th>2021-05-19 00:00:00-04:00</th>\n",
       "      <td>145461</td>\n",
       "      <td>14856381</td>\n",
       "      <td>514690</td>\n",
       "      <td>482105</td>\n",
       "      <td>521865</td>\n",
       "      <td>516358</td>\n",
       "    </tr>\n",
       "    <tr>\n",
       "      <th>2021-07-04 00:00:00-04:00</th>\n",
       "      <td>196068</td>\n",
       "      <td>16037441</td>\n",
       "      <td>545803</td>\n",
       "      <td>552576</td>\n",
       "      <td>544110</td>\n",
       "      <td>544574</td>\n",
       "    </tr>\n",
       "    <tr>\n",
       "      <th>2020-09-30 00:00:00-04:00</th>\n",
       "      <td>0</td>\n",
       "      <td>3923465</td>\n",
       "      <td>51710</td>\n",
       "      <td>87893</td>\n",
       "      <td>41744</td>\n",
       "      <td>49117</td>\n",
       "    </tr>\n",
       "    <tr>\n",
       "      <th>2021-03-08 00:00:00-05:00</th>\n",
       "      <td>21882</td>\n",
       "      <td>11436417</td>\n",
       "      <td>309927</td>\n",
       "      <td>296396</td>\n",
       "      <td>301831</td>\n",
       "      <td>308024</td>\n",
       "    </tr>\n",
       "    <tr>\n",
       "      <th>2020-09-19 00:00:00-04:00</th>\n",
       "      <td>0</td>\n",
       "      <td>3508463</td>\n",
       "      <td>46484</td>\n",
       "      <td>77342</td>\n",
       "      <td>41744</td>\n",
       "      <td>41926</td>\n",
       "    </tr>\n",
       "  </tbody>\n",
       "</table>\n",
       "</div>"
      ],
      "text/plain": [
       "                           change_vaccinations  total_tests  total_cases  \\\n",
       "2021-05-19 00:00:00-04:00               145461     14856381       514690   \n",
       "2021-07-04 00:00:00-04:00               196068     16037441       545803   \n",
       "2020-09-30 00:00:00-04:00                    0      3923465        51710   \n",
       "2021-03-08 00:00:00-05:00                21882     11436417       309927   \n",
       "2020-09-19 00:00:00-04:00                    0      3508463        46484   \n",
       "\n",
       "                           predicted_total_cases  dt_predicted_total_cases  \\\n",
       "2021-05-19 00:00:00-04:00                 482105                    521865   \n",
       "2021-07-04 00:00:00-04:00                 552576                    544110   \n",
       "2020-09-30 00:00:00-04:00                  87893                     41744   \n",
       "2021-03-08 00:00:00-05:00                 296396                    301831   \n",
       "2020-09-19 00:00:00-04:00                  77342                     41744   \n",
       "\n",
       "                           rf_predicted_total_cases  \n",
       "2021-05-19 00:00:00-04:00                    516358  \n",
       "2021-07-04 00:00:00-04:00                    544574  \n",
       "2020-09-30 00:00:00-04:00                     49117  \n",
       "2021-03-08 00:00:00-05:00                    308024  \n",
       "2020-09-19 00:00:00-04:00                     41926  "
      ]
     },
     "execution_count": 263,
     "metadata": {},
     "output_type": "execute_result"
    }
   ],
   "source": [
    "rf_lin_pred_df['rf_predicted_total_cases'] = np.round(rf_model.predict(X_test)).astype(int)\n",
    "rf_lin_pred_df.tail()"
   ]
  },
  {
   "cell_type": "code",
   "execution_count": null,
   "metadata": {
    "colab": {
     "base_uri": "https://localhost:8080/"
    },
    "id": "E68j5k7ZafwN",
    "outputId": "3f06aa3a-108a-40c9-dd96-c1f6314c4974"
   },
   "outputs": [
    {
     "name": "stdout",
     "output_type": "stream",
     "text": [
      "The measure of accuracy for the random forest regression model using r-squared is: 0.9999\n",
      "The mean absolute error for the random forest regression model is: 1637.0062\n",
      "The mean squared error for the random forest regression model is: 5501746.7469\n"
     ]
    }
   ],
   "source": [
    "# assessing actual cases vs predicted cases using accuracy and error metrics\n",
    "print(f\"The measure of accuracy for the random forest regression model using r-squared is: {r2_score(rf_lin_pred_df['total_cases'], rf_lin_pred_df['rf_predicted_total_cases']):.4f}\")\n",
    "print(f\"The mean absolute error for the random forest regression model is: {mean_absolute_error(rf_lin_pred_df['total_cases'], rf_lin_pred_df['rf_predicted_total_cases']):.4f}\")\n",
    "print(f\"The mean squared error for the random forest regression model is: {mean_squared_error(rf_lin_pred_df['total_cases'], rf_lin_pred_df['rf_predicted_total_cases']):.4f}\")"
   ]
  },
  {
   "cell_type": "markdown",
   "metadata": {
    "id": "HgndxDtUuHch"
   },
   "source": [
    "### Observations\n",
    "- Regression models were used to predict the total number of cases daily in ontario as the data is continous.\n",
    "\n",
    "- Linear regression was choosen for modelling because strong linear relationships, moving toward 1, were identified between total cases and other features in the data. \n",
    "\n",
    "- The model was trained based on patterns learned from total tests and changes in daily partial vaccination activities in the province. These features were selected as in addition to their linear relationship with total cases, a lower amount of multicollinearity was obeserved between the independent variables. \n",
    "\n",
    "- For the models created with test_train_split data, a test_size of 30% was defined, thereby making the train_size on 70% of the data.\n",
    "\n",
    "- The Linear regression model had an approximate accuracy score of 0.982. After model fitting, the model was used to predict total cases, given the the test features and the  R-squared error was approximately 0.9815.\n",
    "\n",
    "- validating the model using statsmodel.formala.api, an R-squared score of approximately 0.982 was also obtained and the confidence level of prediction accuracy is 97.5%.\n",
    "\n",
    "- Based on the linear regression model, it can be interpreted that for every case increase in the total number of cases in ontario, there'll be aproximately a 0.799 increase in partial vaccinations and a 0.025 increase in total tests.\n",
    "\n",
    "- Mathematically: \n",
    "  \n",
    "    `total_cases = -11860.454 + (0.799 * change_vaccinations) +  (0.025 * total_tests)`\n",
    "\n",
    "- The decision tree regressor algorithm was also explored for prediction. This model shows that it has better prediction abilities with an R-squared score of 0.993 and lower mean errors (MAE and MSE) for it's prediction on the test data, in comparison to linear regression.\n",
    "\n",
    "- Further attempt to predict total cases per day was done using random forest regressor. This is because the model uses features at random and has a higher likelihood of reducing bias, unlike decison tree which uses all the features. This model was shown to have a higher accuracy score and lower mean errors than the previous models (**`Recommended`**). \n",
    "\n",
    "- We will reject the null hypothesis as we have sufficient statistical evidence against the null hypothesis"
   ]
  },
  {
   "cell_type": "code",
   "execution_count": null,
   "metadata": {
    "colab": {
     "base_uri": "https://localhost:8080/",
     "height": 401
    },
    "id": "35XTw_gnl-Sr",
    "outputId": "66e44bd6-91a6-4816-8163-4aac1905b03a"
   },
   "outputs": [
    {
     "data": {
      "image/png": "[encoded data removed]",
      "text/plain": [
       "<Figure size 1368x468 with 3 Axes>"
      ]
     },
     "metadata": {},
     "output_type": "display_data"
    }
   ],
   "source": [
    "gridspec.GridSpec(1,3)\n",
    "plt.figure(figsize=(19,6.5))\n",
    "plt.subplot2grid((1,3),(0,0))\n",
    "sns.scatterplot(x= lin_model_pred_df.index, y=lin_model_pred_df['total_cases'], color='red', label='Actual_total_cases')\n",
    "lin_model_pred_df['predicted_total_cases'].plot(color='green')\n",
    "plt.title(\"Linear Reg. Prediction (Train/Test split)\", fontdict={'fontweight':'bold'})\n",
    "plt.legend()\n",
    "\n",
    "plt.subplot2grid((1,3),(0,1))\n",
    "sns.scatterplot(x= rf_lin_pred_df.index, y=rf_lin_pred_df['dt_predicted_total_cases'], color='red', label='Actual_total_cases')\n",
    "lin_model_pred_df['predicted_total_cases'].plot(color='green')\n",
    "plt.title(\"Decision Tree Regressor Prediction (Train/Test split)\", fontdict={'fontweight':'bold'})\n",
    "plt.legend()\n",
    "\n",
    "plt.subplot2grid((1,3),(0,2))\n",
    "sns.scatterplot(x= rf_lin_pred_df.index, y=rf_lin_pred_df['rf_predicted_total_cases'], color='red', label='Actual_total_cases')\n",
    "lin_model_pred_df['predicted_total_cases'].plot(color='green')\n",
    "plt.title(\"Random Forest Regressor Prediction (Train/Test split)\", fontdict={'fontweight':'bold'})\n",
    "plt.legend()\n",
    "\n",
    "plt.savefig('ontario-images/fig_model_first', format='png')\n",
    "plt.show()\n"
   ]
  },
  {
   "cell_type": "markdown",
   "metadata": {
    "id": "SlByJ2iUoYSb"
   },
   "source": [
    "## Model Validation\n"
   ]
  },
  {
   "cell_type": "markdown",
   "metadata": {
    "id": "l6oow-EDANji"
   },
   "source": [
    "**`Exploring KFold to validate models. First, linear models on two versions of the features and target variable`**\n",
    "\n",
    "**`Note:`** Models defined above are recalled for training and prediction.\n",
    "\n"
   ]
  },
  {
   "cell_type": "code",
   "execution_count": null,
   "metadata": {
    "id": "Z9ND0YLzmLmv"
   },
   "outputs": [],
   "source": [
    "# validating the model using multiple split versions of the data\n",
    "# First, initialize KFold \n",
    "\n",
    "kf_select = KFold(n_splits=5, shuffle = True, random_state=1)"
   ]
  },
  {
   "cell_type": "code",
   "execution_count": null,
   "metadata": {
    "colab": {
     "base_uri": "https://localhost:8080/",
     "height": 1000
    },
    "id": "tOKp7wDVqOrJ",
    "outputId": "d659f58a-793a-49dd-b119-b6f07a40f9f2"
   },
   "outputs": [
    {
     "data": {
      "text/html": [
       "<div>\n",
       "<style scoped>\n",
       "    .dataframe tbody tr th:only-of-type {\n",
       "        vertical-align: middle;\n",
       "    }\n",
       "\n",
       "    .dataframe tbody tr th {\n",
       "        vertical-align: top;\n",
       "    }\n",
       "\n",
       "    .dataframe thead th {\n",
       "        text-align: right;\n",
       "    }\n",
       "</style>\n",
       "<table border=\"1\" class=\"dataframe\">\n",
       "  <thead>\n",
       "    <tr style=\"text-align: right;\">\n",
       "      <th></th>\n",
       "      <th>change_vaccinations</th>\n",
       "      <th>total_tests</th>\n",
       "      <th>total_cases</th>\n",
       "    </tr>\n",
       "  </thead>\n",
       "  <tbody>\n",
       "    <tr>\n",
       "      <th>2020-01-25 00:00:00-05:00</th>\n",
       "      <td>0</td>\n",
       "      <td>0</td>\n",
       "      <td>1</td>\n",
       "    </tr>\n",
       "    <tr>\n",
       "      <th>2020-01-26 00:00:00-05:00</th>\n",
       "      <td>0</td>\n",
       "      <td>0</td>\n",
       "      <td>2</td>\n",
       "    </tr>\n",
       "    <tr>\n",
       "      <th>2020-01-27 00:00:00-05:00</th>\n",
       "      <td>0</td>\n",
       "      <td>0</td>\n",
       "      <td>2</td>\n",
       "    </tr>\n",
       "    <tr>\n",
       "      <th>2020-01-28 00:00:00-05:00</th>\n",
       "      <td>0</td>\n",
       "      <td>0</td>\n",
       "      <td>2</td>\n",
       "    </tr>\n",
       "    <tr>\n",
       "      <th>2020-01-29 00:00:00-05:00</th>\n",
       "      <td>0</td>\n",
       "      <td>0</td>\n",
       "      <td>2</td>\n",
       "    </tr>\n",
       "    <tr>\n",
       "      <th>...</th>\n",
       "      <td>...</td>\n",
       "      <td>...</td>\n",
       "      <td>...</td>\n",
       "    </tr>\n",
       "    <tr>\n",
       "      <th>2021-07-13 00:00:00-04:00</th>\n",
       "      <td>176834</td>\n",
       "      <td>16221898</td>\n",
       "      <td>547409</td>\n",
       "    </tr>\n",
       "    <tr>\n",
       "      <th>2021-07-14 00:00:00-04:00</th>\n",
       "      <td>179197</td>\n",
       "      <td>16250983</td>\n",
       "      <td>547562</td>\n",
       "    </tr>\n",
       "    <tr>\n",
       "      <th>2021-07-15 00:00:00-04:00</th>\n",
       "      <td>166201</td>\n",
       "      <td>16282312</td>\n",
       "      <td>547705</td>\n",
       "    </tr>\n",
       "    <tr>\n",
       "      <th>2021-07-16 00:00:00-04:00</th>\n",
       "      <td>168616</td>\n",
       "      <td>16310438</td>\n",
       "      <td>547864</td>\n",
       "    </tr>\n",
       "    <tr>\n",
       "      <th>2021-07-17 00:00:00-04:00</th>\n",
       "      <td>169103</td>\n",
       "      <td>16310438</td>\n",
       "      <td>548040</td>\n",
       "    </tr>\n",
       "  </tbody>\n",
       "</table>\n",
       "<p>540 rows × 3 columns</p>\n",
       "</div>"
      ],
      "text/plain": [
       "                           change_vaccinations  total_tests  total_cases\n",
       "2020-01-25 00:00:00-05:00                    0            0            1\n",
       "2020-01-26 00:00:00-05:00                    0            0            2\n",
       "2020-01-27 00:00:00-05:00                    0            0            2\n",
       "2020-01-28 00:00:00-05:00                    0            0            2\n",
       "2020-01-29 00:00:00-05:00                    0            0            2\n",
       "...                                        ...          ...          ...\n",
       "2021-07-13 00:00:00-04:00               176834     16221898       547409\n",
       "2021-07-14 00:00:00-04:00               179197     16250983       547562\n",
       "2021-07-15 00:00:00-04:00               166201     16282312       547705\n",
       "2021-07-16 00:00:00-04:00               168616     16310438       547864\n",
       "2021-07-17 00:00:00-04:00               169103     16310438       548040\n",
       "\n",
       "[540 rows x 3 columns]"
      ]
     },
     "execution_count": 267,
     "metadata": {},
     "output_type": "execute_result"
    }
   ],
   "source": [
    "# combine features and target_prediction into one df for split\n",
    "kf_df = pd.concat([features, target_prediction], axis=1)\n",
    "kf_df"
   ]
  },
  {
   "cell_type": "code",
   "execution_count": null,
   "metadata": {
    "id": "o14sa0wGnK2d"
   },
   "outputs": [],
   "source": [
    "# use kf_select to create two subsets of the features df\n",
    "set_1, set_2, set_3, set_4, set_5 = kf_select.split(kf_df)\n"
   ]
  },
  {
   "cell_type": "code",
   "execution_count": null,
   "metadata": {
    "colab": {
     "base_uri": "https://localhost:8080/"
    },
    "id": "vK_Vfi7KOOTS",
    "outputId": "35149e15-b470-4f99-e57c-a92b90998fe1"
   },
   "outputs": [
    {
     "data": {
      "text/plain": [
       "(array([  0,   1,   2,   3,   6,   7,   8,  10,  11,  12,  13,  14,  15,\n",
       "         16,  18,  20,  21,  22,  23,  24,  25,  26,  27,  28,  30,  32,\n",
       "         33,  35,  36,  37,  38,  39,  43,  44,  45,  46,  48,  49,  50,\n",
       "         51,  52,  53,  54,  55,  56,  57,  58,  59,  60,  61,  63,  64,\n",
       "         69,  70,  71,  72,  73,  74,  75,  76,  77,  79,  80,  81,  82,\n",
       "         83,  84,  85,  86,  87,  88,  89,  91,  93,  94,  95,  96,  97,\n",
       "         98,  99, 100, 101, 102, 103, 104, 105, 106, 108, 109, 110, 112,\n",
       "        113, 114, 115, 116, 118, 120, 121, 122, 123, 124, 125, 126, 127,\n",
       "        129, 130, 131, 134, 136, 137, 138, 139, 140, 141, 143, 144, 145,\n",
       "        147, 148, 149, 150, 151, 152, 153, 154, 155, 156, 157, 158, 161,\n",
       "        163, 164, 166, 167, 168, 169, 170, 171, 172, 174, 175, 176, 177,\n",
       "        178, 180, 181, 182, 183, 184, 186, 188, 190, 191, 192, 193, 194,\n",
       "        195, 196, 197, 198, 199, 200, 201, 202, 203, 204, 205, 206, 207,\n",
       "        208, 209, 210, 211, 212, 213, 215, 216, 217, 219, 220, 222, 223,\n",
       "        224, 225, 226, 227, 228, 229, 230, 231, 233, 234, 235, 237, 238,\n",
       "        239, 240, 241, 243, 244, 247, 248, 249, 251, 252, 253, 254, 255,\n",
       "        256, 258, 259, 261, 262, 263, 264, 265, 266, 269, 270, 271, 272,\n",
       "        273, 274, 275, 276, 278, 279, 280, 281, 282, 283, 284, 285, 286,\n",
       "        287, 288, 290, 291, 292, 294, 295, 296, 297, 298, 299, 301, 302,\n",
       "        303, 305, 306, 308, 309, 310, 311, 313, 314, 316, 317, 318, 319,\n",
       "        321, 322, 323, 325, 326, 327, 330, 331, 332, 333, 334, 335, 336,\n",
       "        337, 338, 339, 340, 343, 344, 345, 347, 348, 350, 352, 353, 354,\n",
       "        355, 356, 357, 358, 359, 360, 361, 365, 366, 367, 368, 369, 371,\n",
       "        372, 374, 376, 377, 378, 379, 380, 381, 384, 385, 386, 387, 388,\n",
       "        390, 391, 392, 393, 395, 396, 397, 398, 400, 401, 403, 404, 405,\n",
       "        407, 408, 409, 414, 416, 417, 418, 420, 421, 422, 423, 424, 425,\n",
       "        426, 427, 429, 430, 431, 433, 434, 435, 436, 437, 438, 441, 442,\n",
       "        443, 444, 446, 447, 448, 449, 452, 453, 454, 455, 456, 457, 458,\n",
       "        459, 460, 461, 462, 463, 466, 467, 468, 469, 470, 471, 472, 473,\n",
       "        474, 475, 476, 477, 478, 479, 481, 483, 484, 487, 488, 489, 490,\n",
       "        491, 492, 493, 494, 495, 497, 498, 499, 500, 501, 502, 503, 504,\n",
       "        505, 506, 507, 508, 509, 510, 511, 513, 514, 515, 516, 517, 519,\n",
       "        520, 522, 523, 524, 525, 526, 528, 530, 531, 532, 533, 534, 536,\n",
       "        537, 538, 539]),\n",
       " array([  4,   5,   9,  17,  19,  29,  31,  34,  40,  41,  42,  47,  62,\n",
       "         65,  66,  67,  68,  78,  90,  92, 107, 111, 117, 119, 128, 132,\n",
       "        133, 135, 142, 146, 159, 160, 162, 165, 173, 179, 185, 187, 189,\n",
       "        214, 218, 221, 232, 236, 242, 245, 246, 250, 257, 260, 267, 268,\n",
       "        277, 289, 293, 300, 304, 307, 312, 315, 320, 324, 328, 329, 341,\n",
       "        342, 346, 349, 351, 362, 363, 364, 370, 373, 375, 382, 383, 389,\n",
       "        394, 399, 402, 406, 410, 411, 412, 413, 415, 419, 428, 432, 439,\n",
       "        440, 445, 450, 451, 464, 465, 480, 482, 485, 486, 496, 512, 518,\n",
       "        521, 527, 529, 535]))"
      ]
     },
     "execution_count": 269,
     "metadata": {},
     "output_type": "execute_result"
    }
   ],
   "source": [
    "set_1"
   ]
  },
  {
   "cell_type": "code",
   "execution_count": null,
   "metadata": {
    "id": "55ah6-UIoKg2"
   },
   "outputs": [],
   "source": [
    "# creating the train and test features from subset_1 of the Kfold split\n",
    "\n",
    "# train\n",
    "kf_X_train_1 = kf_df.iloc[set_1[0], :-1]\n",
    "kf_y_train_1  = kf_df.iloc[set_1[0], -1]\n",
    "\n",
    "# test\n",
    "kf_X_test_1  = kf_df.iloc[set_1[1], :-1]\n",
    "kf_y_test_1  = kf_df.iloc[set_1[1], -1]\n"
   ]
  },
  {
   "cell_type": "code",
   "execution_count": null,
   "metadata": {
    "id": "ddSxKqEEtT3C"
   },
   "outputs": [],
   "source": [
    "# creating a kf_test_df\n",
    "kf_test_df = pd.concat([kf_X_test_1, kf_y_test_1], axis=1)"
   ]
  },
  {
   "cell_type": "code",
   "execution_count": null,
   "metadata": {
    "colab": {
     "base_uri": "https://localhost:8080/"
    },
    "id": "Uu8mQ34YomsY",
    "outputId": "52c6d2ee-64b7-4a04-f85b-80ddfc5d4b7e"
   },
   "outputs": [
    {
     "name": "stdout",
     "output_type": "stream",
     "text": [
      "The accuracy score for set 1: 0.9830775680037974\n",
      "\n",
      "\n",
      "The intercept for set 1 (lin_reg.): -11660.203094918339\n",
      "\n",
      "\n",
      "The slopes for for set 1 are: \n",
      "change_vaccinations: 0.8596611455619274 \n",
      "change_tests: 0.02516026565643683\n"
     ]
    }
   ],
   "source": [
    "# training the model and measuring accuracy\n",
    "result = model_tc.fit(kf_X_train_1, kf_y_train_1)\n",
    "print(f\"The accuracy score for set 1: {result.score(kf_X_train_1, kf_y_train_1)}\\n\\n\")\n",
    "print(f\"The intercept for set 1 (lin_reg.): {result.intercept_}\\n\\n\")\n",
    "print(f\"The slopes for for set 1 are: \\nchange_vaccinations: {result.coef_[0]} \\nchange_tests: {result.coef_[1]}\")"
   ]
  },
  {
   "cell_type": "code",
   "execution_count": null,
   "metadata": {
    "colab": {
     "base_uri": "https://localhost:8080/",
     "height": 266
    },
    "id": "a7MmQQzxtwE2",
    "outputId": "e11767a6-1d20-41e3-85b2-a159f21b2095"
   },
   "outputs": [
    {
     "data": {
      "text/html": [
       "<div>\n",
       "<style scoped>\n",
       "    .dataframe tbody tr th:only-of-type {\n",
       "        vertical-align: middle;\n",
       "    }\n",
       "\n",
       "    .dataframe tbody tr th {\n",
       "        vertical-align: top;\n",
       "    }\n",
       "\n",
       "    .dataframe thead th {\n",
       "        text-align: right;\n",
       "    }\n",
       "</style>\n",
       "<table border=\"1\" class=\"dataframe\">\n",
       "  <thead>\n",
       "    <tr style=\"text-align: right;\">\n",
       "      <th></th>\n",
       "      <th>change_vaccinations</th>\n",
       "      <th>total_tests</th>\n",
       "      <th>total_cases</th>\n",
       "      <th>pred_lin_set1</th>\n",
       "    </tr>\n",
       "  </thead>\n",
       "  <tbody>\n",
       "    <tr>\n",
       "      <th>2021-07-05 00:00:00-04:00</th>\n",
       "      <td>144795</td>\n",
       "      <td>16050390</td>\n",
       "      <td>545973</td>\n",
       "      <td>516647</td>\n",
       "    </tr>\n",
       "    <tr>\n",
       "      <th>2021-07-07 00:00:00-04:00</th>\n",
       "      <td>204594</td>\n",
       "      <td>16093172</td>\n",
       "      <td>546411</td>\n",
       "      <td>569130</td>\n",
       "    </tr>\n",
       "    <tr>\n",
       "      <th>2021-07-13 00:00:00-04:00</th>\n",
       "      <td>176834</td>\n",
       "      <td>16221898</td>\n",
       "      <td>547409</td>\n",
       "      <td>548504</td>\n",
       "    </tr>\n",
       "  </tbody>\n",
       "</table>\n",
       "</div>"
      ],
      "text/plain": [
       "                           change_vaccinations  total_tests  total_cases  \\\n",
       "2021-07-05 00:00:00-04:00               144795     16050390       545973   \n",
       "2021-07-07 00:00:00-04:00               204594     16093172       546411   \n",
       "2021-07-13 00:00:00-04:00               176834     16221898       547409   \n",
       "\n",
       "                           pred_lin_set1  \n",
       "2021-07-05 00:00:00-04:00         516647  \n",
       "2021-07-07 00:00:00-04:00         569130  \n",
       "2021-07-13 00:00:00-04:00         548504  "
      ]
     },
     "execution_count": 274,
     "metadata": {},
     "output_type": "execute_result"
    }
   ],
   "source": [
    "# adding predicted total cases for subset1 as a column to kf_test_df\n",
    "kf_test_df['pred_lin_set1'] = np.round(result.predict(kf_X_test_1)).astype(int)\n",
    "kf_test_df.tail(3)"
   ]
  },
  {
   "cell_type": "code",
   "execution_count": null,
   "metadata": {
    "colab": {
     "base_uri": "https://localhost:8080/",
     "height": 283
    },
    "id": "hrpG6ULwsPec",
    "outputId": "073e6938-0740-4e9f-ed40-509a73a13d9b"
   },
   "outputs": [
    {
     "name": "stdout",
     "output_type": "stream",
     "text": [
      "The model score is: 0.9811968255374794\n"
     ]
    },
    {
     "data": {
      "text/html": [
       "<div>\n",
       "<style scoped>\n",
       "    .dataframe tbody tr th:only-of-type {\n",
       "        vertical-align: middle;\n",
       "    }\n",
       "\n",
       "    .dataframe tbody tr th {\n",
       "        vertical-align: top;\n",
       "    }\n",
       "\n",
       "    .dataframe thead th {\n",
       "        text-align: right;\n",
       "    }\n",
       "</style>\n",
       "<table border=\"1\" class=\"dataframe\">\n",
       "  <thead>\n",
       "    <tr style=\"text-align: right;\">\n",
       "      <th></th>\n",
       "      <th>change_vaccinations</th>\n",
       "      <th>total_tests</th>\n",
       "      <th>total_cases</th>\n",
       "      <th>pred_lin_set1</th>\n",
       "      <th>pred_lin_set2</th>\n",
       "    </tr>\n",
       "  </thead>\n",
       "  <tbody>\n",
       "    <tr>\n",
       "      <th>2021-06-04 00:00:00-04:00</th>\n",
       "      <td>168322</td>\n",
       "      <td>15341218</td>\n",
       "      <td>534675</td>\n",
       "      <td>519029</td>\n",
       "      <td>536755</td>\n",
       "    </tr>\n",
       "    <tr>\n",
       "      <th>2021-06-20 00:00:00-04:00</th>\n",
       "      <td>184251</td>\n",
       "      <td>15676015</td>\n",
       "      <td>542198</td>\n",
       "      <td>541146</td>\n",
       "      <td>573751</td>\n",
       "    </tr>\n",
       "    <tr>\n",
       "      <th>2021-06-26 00:00:00-04:00</th>\n",
       "      <td>256260</td>\n",
       "      <td>15862123</td>\n",
       "      <td>543917</td>\n",
       "      <td>607732</td>\n",
       "      <td>592333</td>\n",
       "    </tr>\n",
       "    <tr>\n",
       "      <th>2021-06-29 00:00:00-04:00</th>\n",
       "      <td>265231</td>\n",
       "      <td>15922024</td>\n",
       "      <td>544713</td>\n",
       "      <td>616951</td>\n",
       "      <td>556791</td>\n",
       "    </tr>\n",
       "    <tr>\n",
       "      <th>2021-07-05 00:00:00-04:00</th>\n",
       "      <td>144795</td>\n",
       "      <td>16050390</td>\n",
       "      <td>545973</td>\n",
       "      <td>516647</td>\n",
       "      <td>540018</td>\n",
       "    </tr>\n",
       "    <tr>\n",
       "      <th>2021-07-07 00:00:00-04:00</th>\n",
       "      <td>204594</td>\n",
       "      <td>16093172</td>\n",
       "      <td>546411</td>\n",
       "      <td>569130</td>\n",
       "      <td>500901</td>\n",
       "    </tr>\n",
       "    <tr>\n",
       "      <th>2021-07-13 00:00:00-04:00</th>\n",
       "      <td>176834</td>\n",
       "      <td>16221898</td>\n",
       "      <td>547409</td>\n",
       "      <td>548504</td>\n",
       "      <td>538916</td>\n",
       "    </tr>\n",
       "  </tbody>\n",
       "</table>\n",
       "</div>"
      ],
      "text/plain": [
       "                           change_vaccinations  total_tests  total_cases  \\\n",
       "2021-06-04 00:00:00-04:00               168322     15341218       534675   \n",
       "2021-06-20 00:00:00-04:00               184251     15676015       542198   \n",
       "2021-06-26 00:00:00-04:00               256260     15862123       543917   \n",
       "2021-06-29 00:00:00-04:00               265231     15922024       544713   \n",
       "2021-07-05 00:00:00-04:00               144795     16050390       545973   \n",
       "2021-07-07 00:00:00-04:00               204594     16093172       546411   \n",
       "2021-07-13 00:00:00-04:00               176834     16221898       547409   \n",
       "\n",
       "                           pred_lin_set1  pred_lin_set2  \n",
       "2021-06-04 00:00:00-04:00         519029         536755  \n",
       "2021-06-20 00:00:00-04:00         541146         573751  \n",
       "2021-06-26 00:00:00-04:00         607732         592333  \n",
       "2021-06-29 00:00:00-04:00         616951         556791  \n",
       "2021-07-05 00:00:00-04:00         516647         540018  \n",
       "2021-07-07 00:00:00-04:00         569130         500901  \n",
       "2021-07-13 00:00:00-04:00         548504         538916  "
      ]
     },
     "execution_count": 275,
     "metadata": {},
     "output_type": "execute_result"
    }
   ],
   "source": [
    "# working with subset 2:\n",
    "# train data:\n",
    "kf_X_train_2 = kf_df.iloc[set_2[0], :-1]\n",
    "kf_y_train_2  = kf_df.iloc[set_2[0], -1]\n",
    "\n",
    "\n",
    "# test data:\n",
    "kf_X_test_2  = kf_df.iloc[set_2[1], :-1]\n",
    "\n",
    "\n",
    "# training the model and measuring accuracy\n",
    "result_2 = model_tc.fit(kf_X_train_2, kf_y_train_2)\n",
    "print(f\"The model score is: {result_2.score(kf_X_train_2, kf_y_train_2)}\")\n",
    "\n",
    "# adding predicted total cases as a column to kf_test_df\n",
    "kf_test_df['pred_lin_set2'] = np.round(result_2.predict(kf_X_test_2)).astype(int)\n",
    "kf_test_df.tail(7)\n"
   ]
  },
  {
   "cell_type": "code",
   "execution_count": null,
   "metadata": {
    "colab": {
     "base_uri": "https://localhost:8080/",
     "height": 283
    },
    "id": "6wkA1zj6PsmJ",
    "outputId": "c75484bb-2792-45c5-9f6e-fe99d1e89a55"
   },
   "outputs": [
    {
     "name": "stdout",
     "output_type": "stream",
     "text": [
      "The model score is: 0.9812002031564959\n"
     ]
    },
    {
     "data": {
      "text/html": [
       "<div>\n",
       "<style scoped>\n",
       "    .dataframe tbody tr th:only-of-type {\n",
       "        vertical-align: middle;\n",
       "    }\n",
       "\n",
       "    .dataframe tbody tr th {\n",
       "        vertical-align: top;\n",
       "    }\n",
       "\n",
       "    .dataframe thead th {\n",
       "        text-align: right;\n",
       "    }\n",
       "</style>\n",
       "<table border=\"1\" class=\"dataframe\">\n",
       "  <thead>\n",
       "    <tr style=\"text-align: right;\">\n",
       "      <th></th>\n",
       "      <th>change_vaccinations</th>\n",
       "      <th>total_tests</th>\n",
       "      <th>total_cases</th>\n",
       "      <th>pred_lin_set1</th>\n",
       "      <th>pred_lin_set2</th>\n",
       "      <th>pred_lin_set3</th>\n",
       "    </tr>\n",
       "  </thead>\n",
       "  <tbody>\n",
       "    <tr>\n",
       "      <th>2021-06-04 00:00:00-04:00</th>\n",
       "      <td>168322</td>\n",
       "      <td>15341218</td>\n",
       "      <td>534675</td>\n",
       "      <td>519029</td>\n",
       "      <td>536755</td>\n",
       "      <td>622378</td>\n",
       "    </tr>\n",
       "    <tr>\n",
       "      <th>2021-06-20 00:00:00-04:00</th>\n",
       "      <td>184251</td>\n",
       "      <td>15676015</td>\n",
       "      <td>542198</td>\n",
       "      <td>541146</td>\n",
       "      <td>573751</td>\n",
       "      <td>517515</td>\n",
       "    </tr>\n",
       "    <tr>\n",
       "      <th>2021-06-26 00:00:00-04:00</th>\n",
       "      <td>256260</td>\n",
       "      <td>15862123</td>\n",
       "      <td>543917</td>\n",
       "      <td>607732</td>\n",
       "      <td>592333</td>\n",
       "      <td>580041</td>\n",
       "    </tr>\n",
       "    <tr>\n",
       "      <th>2021-06-29 00:00:00-04:00</th>\n",
       "      <td>265231</td>\n",
       "      <td>15922024</td>\n",
       "      <td>544713</td>\n",
       "      <td>616951</td>\n",
       "      <td>556791</td>\n",
       "      <td>626363</td>\n",
       "    </tr>\n",
       "    <tr>\n",
       "      <th>2021-07-05 00:00:00-04:00</th>\n",
       "      <td>144795</td>\n",
       "      <td>16050390</td>\n",
       "      <td>545973</td>\n",
       "      <td>516647</td>\n",
       "      <td>540018</td>\n",
       "      <td>589612</td>\n",
       "    </tr>\n",
       "    <tr>\n",
       "      <th>2021-07-07 00:00:00-04:00</th>\n",
       "      <td>204594</td>\n",
       "      <td>16093172</td>\n",
       "      <td>546411</td>\n",
       "      <td>569130</td>\n",
       "      <td>500901</td>\n",
       "      <td>545147</td>\n",
       "    </tr>\n",
       "    <tr>\n",
       "      <th>2021-07-13 00:00:00-04:00</th>\n",
       "      <td>176834</td>\n",
       "      <td>16221898</td>\n",
       "      <td>547409</td>\n",
       "      <td>548504</td>\n",
       "      <td>538916</td>\n",
       "      <td>545568</td>\n",
       "    </tr>\n",
       "  </tbody>\n",
       "</table>\n",
       "</div>"
      ],
      "text/plain": [
       "                           change_vaccinations  total_tests  total_cases  \\\n",
       "2021-06-04 00:00:00-04:00               168322     15341218       534675   \n",
       "2021-06-20 00:00:00-04:00               184251     15676015       542198   \n",
       "2021-06-26 00:00:00-04:00               256260     15862123       543917   \n",
       "2021-06-29 00:00:00-04:00               265231     15922024       544713   \n",
       "2021-07-05 00:00:00-04:00               144795     16050390       545973   \n",
       "2021-07-07 00:00:00-04:00               204594     16093172       546411   \n",
       "2021-07-13 00:00:00-04:00               176834     16221898       547409   \n",
       "\n",
       "                           pred_lin_set1  pred_lin_set2  pred_lin_set3  \n",
       "2021-06-04 00:00:00-04:00         519029         536755         622378  \n",
       "2021-06-20 00:00:00-04:00         541146         573751         517515  \n",
       "2021-06-26 00:00:00-04:00         607732         592333         580041  \n",
       "2021-06-29 00:00:00-04:00         616951         556791         626363  \n",
       "2021-07-05 00:00:00-04:00         516647         540018         589612  \n",
       "2021-07-07 00:00:00-04:00         569130         500901         545147  \n",
       "2021-07-13 00:00:00-04:00         548504         538916         545568  "
      ]
     },
     "execution_count": 276,
     "metadata": {},
     "output_type": "execute_result"
    }
   ],
   "source": [
    "# working with subset 3:\n",
    "# train data:\n",
    "kf_X_train_3 = kf_df.iloc[set_3[0], :-1]\n",
    "kf_y_train_3  = kf_df.iloc[set_3[0], -1]\n",
    "\n",
    "\n",
    "# test data:\n",
    "kf_X_test_3  = kf_df.iloc[set_3[1], :-1]\n",
    "\n",
    "\n",
    "\n",
    "# training the model and measuring accuracy\n",
    "result_3 = model_tc.fit(kf_X_train_3, kf_y_train_3)\n",
    "print(f\"The model score is: {result_3.score(kf_X_train_3, kf_y_train_3)}\")\n",
    "\n",
    "# adding predicted total cases as a column to kf_test_df\n",
    "kf_test_df['pred_lin_set3'] = np.round(result_3.predict(kf_X_test_3)).astype(int)\n",
    "kf_test_df.tail(7)"
   ]
  },
  {
   "cell_type": "code",
   "execution_count": null,
   "metadata": {
    "colab": {
     "base_uri": "https://localhost:8080/",
     "height": 283
    },
    "id": "jMBdKOOhQUrw",
    "outputId": "bd109729-391a-48b5-8158-a82853351f7d"
   },
   "outputs": [
    {
     "name": "stdout",
     "output_type": "stream",
     "text": [
      "The model score is: 0.9820717178337058\n"
     ]
    },
    {
     "data": {
      "text/html": [
       "<div>\n",
       "<style scoped>\n",
       "    .dataframe tbody tr th:only-of-type {\n",
       "        vertical-align: middle;\n",
       "    }\n",
       "\n",
       "    .dataframe tbody tr th {\n",
       "        vertical-align: top;\n",
       "    }\n",
       "\n",
       "    .dataframe thead th {\n",
       "        text-align: right;\n",
       "    }\n",
       "</style>\n",
       "<table border=\"1\" class=\"dataframe\">\n",
       "  <thead>\n",
       "    <tr style=\"text-align: right;\">\n",
       "      <th></th>\n",
       "      <th>change_vaccinations</th>\n",
       "      <th>total_tests</th>\n",
       "      <th>total_cases</th>\n",
       "      <th>pred_lin_set1</th>\n",
       "      <th>pred_lin_set2</th>\n",
       "      <th>pred_lin_set3</th>\n",
       "      <th>pred_lin_set4</th>\n",
       "    </tr>\n",
       "  </thead>\n",
       "  <tbody>\n",
       "    <tr>\n",
       "      <th>2021-06-04 00:00:00-04:00</th>\n",
       "      <td>168322</td>\n",
       "      <td>15341218</td>\n",
       "      <td>534675</td>\n",
       "      <td>519029</td>\n",
       "      <td>536755</td>\n",
       "      <td>622378</td>\n",
       "      <td>485949</td>\n",
       "    </tr>\n",
       "    <tr>\n",
       "      <th>2021-06-20 00:00:00-04:00</th>\n",
       "      <td>184251</td>\n",
       "      <td>15676015</td>\n",
       "      <td>542198</td>\n",
       "      <td>541146</td>\n",
       "      <td>573751</td>\n",
       "      <td>517515</td>\n",
       "      <td>483372</td>\n",
       "    </tr>\n",
       "    <tr>\n",
       "      <th>2021-06-26 00:00:00-04:00</th>\n",
       "      <td>256260</td>\n",
       "      <td>15862123</td>\n",
       "      <td>543917</td>\n",
       "      <td>607732</td>\n",
       "      <td>592333</td>\n",
       "      <td>580041</td>\n",
       "      <td>475453</td>\n",
       "    </tr>\n",
       "    <tr>\n",
       "      <th>2021-06-29 00:00:00-04:00</th>\n",
       "      <td>265231</td>\n",
       "      <td>15922024</td>\n",
       "      <td>544713</td>\n",
       "      <td>616951</td>\n",
       "      <td>556791</td>\n",
       "      <td>626363</td>\n",
       "      <td>537217</td>\n",
       "    </tr>\n",
       "    <tr>\n",
       "      <th>2021-07-05 00:00:00-04:00</th>\n",
       "      <td>144795</td>\n",
       "      <td>16050390</td>\n",
       "      <td>545973</td>\n",
       "      <td>516647</td>\n",
       "      <td>540018</td>\n",
       "      <td>589612</td>\n",
       "      <td>560235</td>\n",
       "    </tr>\n",
       "    <tr>\n",
       "      <th>2021-07-07 00:00:00-04:00</th>\n",
       "      <td>204594</td>\n",
       "      <td>16093172</td>\n",
       "      <td>546411</td>\n",
       "      <td>569130</td>\n",
       "      <td>500901</td>\n",
       "      <td>545147</td>\n",
       "      <td>615445</td>\n",
       "    </tr>\n",
       "    <tr>\n",
       "      <th>2021-07-13 00:00:00-04:00</th>\n",
       "      <td>176834</td>\n",
       "      <td>16221898</td>\n",
       "      <td>547409</td>\n",
       "      <td>548504</td>\n",
       "      <td>538916</td>\n",
       "      <td>545568</td>\n",
       "      <td>549727</td>\n",
       "    </tr>\n",
       "  </tbody>\n",
       "</table>\n",
       "</div>"
      ],
      "text/plain": [
       "                           change_vaccinations  total_tests  total_cases  \\\n",
       "2021-06-04 00:00:00-04:00               168322     15341218       534675   \n",
       "2021-06-20 00:00:00-04:00               184251     15676015       542198   \n",
       "2021-06-26 00:00:00-04:00               256260     15862123       543917   \n",
       "2021-06-29 00:00:00-04:00               265231     15922024       544713   \n",
       "2021-07-05 00:00:00-04:00               144795     16050390       545973   \n",
       "2021-07-07 00:00:00-04:00               204594     16093172       546411   \n",
       "2021-07-13 00:00:00-04:00               176834     16221898       547409   \n",
       "\n",
       "                           pred_lin_set1  pred_lin_set2  pred_lin_set3  \\\n",
       "2021-06-04 00:00:00-04:00         519029         536755         622378   \n",
       "2021-06-20 00:00:00-04:00         541146         573751         517515   \n",
       "2021-06-26 00:00:00-04:00         607732         592333         580041   \n",
       "2021-06-29 00:00:00-04:00         616951         556791         626363   \n",
       "2021-07-05 00:00:00-04:00         516647         540018         589612   \n",
       "2021-07-07 00:00:00-04:00         569130         500901         545147   \n",
       "2021-07-13 00:00:00-04:00         548504         538916         545568   \n",
       "\n",
       "                           pred_lin_set4  \n",
       "2021-06-04 00:00:00-04:00         485949  \n",
       "2021-06-20 00:00:00-04:00         483372  \n",
       "2021-06-26 00:00:00-04:00         475453  \n",
       "2021-06-29 00:00:00-04:00         537217  \n",
       "2021-07-05 00:00:00-04:00         560235  \n",
       "2021-07-07 00:00:00-04:00         615445  \n",
       "2021-07-13 00:00:00-04:00         549727  "
      ]
     },
     "execution_count": 277,
     "metadata": {},
     "output_type": "execute_result"
    }
   ],
   "source": [
    "# working with subset 4:\n",
    "# train data:\n",
    "kf_X_train_4 = kf_df.iloc[set_4[0], :-1]\n",
    "kf_y_train_4  = kf_df.iloc[set_4[0], -1]\n",
    "\n",
    "\n",
    "# test data:\n",
    "kf_X_test_4  = kf_df.iloc[set_4[1], :-1]\n",
    "\n",
    "\n",
    "\n",
    "# training the model and measuring accuracy\n",
    "result_4 = model_tc.fit(kf_X_train_4, kf_y_train_4)\n",
    "print(f\"The model score is: {result_4.score(kf_X_train_4, kf_y_train_4)}\")\n",
    "\n",
    "# adding predicted total cases as a column to kf_test_df\n",
    "kf_test_df['pred_lin_set4'] = np.round(result_4.predict(kf_X_test_4)).astype(int)\n",
    "kf_test_df.tail(7)"
   ]
  },
  {
   "cell_type": "code",
   "execution_count": null,
   "metadata": {
    "colab": {
     "base_uri": "https://localhost:8080/",
     "height": 402
    },
    "id": "ivC7JF5bQVjt",
    "outputId": "392b3d3f-cebb-43e6-a462-81969e0ed33d"
   },
   "outputs": [
    {
     "name": "stdout",
     "output_type": "stream",
     "text": [
      "The model score is: 0.9822749927724558\n"
     ]
    },
    {
     "data": {
      "text/html": [
       "<div>\n",
       "<style scoped>\n",
       "    .dataframe tbody tr th:only-of-type {\n",
       "        vertical-align: middle;\n",
       "    }\n",
       "\n",
       "    .dataframe tbody tr th {\n",
       "        vertical-align: top;\n",
       "    }\n",
       "\n",
       "    .dataframe thead th {\n",
       "        text-align: right;\n",
       "    }\n",
       "</style>\n",
       "<table border=\"1\" class=\"dataframe\">\n",
       "  <thead>\n",
       "    <tr style=\"text-align: right;\">\n",
       "      <th></th>\n",
       "      <th>change_vaccinations</th>\n",
       "      <th>total_tests</th>\n",
       "      <th>total_cases</th>\n",
       "      <th>pred_lin_set1</th>\n",
       "      <th>pred_lin_set2</th>\n",
       "      <th>pred_lin_set3</th>\n",
       "      <th>pred_lin_set4</th>\n",
       "      <th>pred_lin_set5</th>\n",
       "    </tr>\n",
       "  </thead>\n",
       "  <tbody>\n",
       "    <tr>\n",
       "      <th>2021-06-04 00:00:00-04:00</th>\n",
       "      <td>168322</td>\n",
       "      <td>15341218</td>\n",
       "      <td>534675</td>\n",
       "      <td>519029</td>\n",
       "      <td>536755</td>\n",
       "      <td>622378</td>\n",
       "      <td>485949</td>\n",
       "      <td>552735</td>\n",
       "    </tr>\n",
       "    <tr>\n",
       "      <th>2021-06-20 00:00:00-04:00</th>\n",
       "      <td>184251</td>\n",
       "      <td>15676015</td>\n",
       "      <td>542198</td>\n",
       "      <td>541146</td>\n",
       "      <td>573751</td>\n",
       "      <td>517515</td>\n",
       "      <td>483372</td>\n",
       "      <td>561232</td>\n",
       "    </tr>\n",
       "    <tr>\n",
       "      <th>2021-06-26 00:00:00-04:00</th>\n",
       "      <td>256260</td>\n",
       "      <td>15862123</td>\n",
       "      <td>543917</td>\n",
       "      <td>607732</td>\n",
       "      <td>592333</td>\n",
       "      <td>580041</td>\n",
       "      <td>475453</td>\n",
       "      <td>486686</td>\n",
       "    </tr>\n",
       "    <tr>\n",
       "      <th>2021-06-29 00:00:00-04:00</th>\n",
       "      <td>265231</td>\n",
       "      <td>15922024</td>\n",
       "      <td>544713</td>\n",
       "      <td>616951</td>\n",
       "      <td>556791</td>\n",
       "      <td>626363</td>\n",
       "      <td>537217</td>\n",
       "      <td>576984</td>\n",
       "    </tr>\n",
       "    <tr>\n",
       "      <th>2021-07-05 00:00:00-04:00</th>\n",
       "      <td>144795</td>\n",
       "      <td>16050390</td>\n",
       "      <td>545973</td>\n",
       "      <td>516647</td>\n",
       "      <td>540018</td>\n",
       "      <td>589612</td>\n",
       "      <td>560235</td>\n",
       "      <td>559853</td>\n",
       "    </tr>\n",
       "    <tr>\n",
       "      <th>2021-07-07 00:00:00-04:00</th>\n",
       "      <td>204594</td>\n",
       "      <td>16093172</td>\n",
       "      <td>546411</td>\n",
       "      <td>569130</td>\n",
       "      <td>500901</td>\n",
       "      <td>545147</td>\n",
       "      <td>615445</td>\n",
       "      <td>569836</td>\n",
       "    </tr>\n",
       "    <tr>\n",
       "      <th>2021-07-13 00:00:00-04:00</th>\n",
       "      <td>176834</td>\n",
       "      <td>16221898</td>\n",
       "      <td>547409</td>\n",
       "      <td>548504</td>\n",
       "      <td>538916</td>\n",
       "      <td>545568</td>\n",
       "      <td>549727</td>\n",
       "      <td>570582</td>\n",
       "    </tr>\n",
       "  </tbody>\n",
       "</table>\n",
       "</div>"
      ],
      "text/plain": [
       "                           change_vaccinations  total_tests  total_cases  \\\n",
       "2021-06-04 00:00:00-04:00               168322     15341218       534675   \n",
       "2021-06-20 00:00:00-04:00               184251     15676015       542198   \n",
       "2021-06-26 00:00:00-04:00               256260     15862123       543917   \n",
       "2021-06-29 00:00:00-04:00               265231     15922024       544713   \n",
       "2021-07-05 00:00:00-04:00               144795     16050390       545973   \n",
       "2021-07-07 00:00:00-04:00               204594     16093172       546411   \n",
       "2021-07-13 00:00:00-04:00               176834     16221898       547409   \n",
       "\n",
       "                           pred_lin_set1  pred_lin_set2  pred_lin_set3  \\\n",
       "2021-06-04 00:00:00-04:00         519029         536755         622378   \n",
       "2021-06-20 00:00:00-04:00         541146         573751         517515   \n",
       "2021-06-26 00:00:00-04:00         607732         592333         580041   \n",
       "2021-06-29 00:00:00-04:00         616951         556791         626363   \n",
       "2021-07-05 00:00:00-04:00         516647         540018         589612   \n",
       "2021-07-07 00:00:00-04:00         569130         500901         545147   \n",
       "2021-07-13 00:00:00-04:00         548504         538916         545568   \n",
       "\n",
       "                           pred_lin_set4  pred_lin_set5  \n",
       "2021-06-04 00:00:00-04:00         485949         552735  \n",
       "2021-06-20 00:00:00-04:00         483372         561232  \n",
       "2021-06-26 00:00:00-04:00         475453         486686  \n",
       "2021-06-29 00:00:00-04:00         537217         576984  \n",
       "2021-07-05 00:00:00-04:00         560235         559853  \n",
       "2021-07-07 00:00:00-04:00         615445         569836  \n",
       "2021-07-13 00:00:00-04:00         549727         570582  "
      ]
     },
     "execution_count": 278,
     "metadata": {},
     "output_type": "execute_result"
    }
   ],
   "source": [
    "# working with subset 5:\n",
    "# train data:\n",
    "kf_X_train_5 = kf_df.iloc[set_5[0], :-1]\n",
    "kf_y_train_5  = kf_df.iloc[set_5[0], -1]\n",
    "\n",
    "\n",
    "# test data:\n",
    "kf_X_test_5  = kf_df.iloc[set_5[1], :-1]\n",
    "\n",
    "\n",
    "\n",
    "# training the model and measuring accuracy\n",
    "result_5 = model_tc.fit(kf_X_train_5, kf_y_train_5)\n",
    "print(f\"The model score is: {result_5.score(kf_X_train_5, kf_y_train_5)}\")\n",
    "\n",
    "# adding predicted total cases as a column to kf_test_df\n",
    "kf_test_df['pred_lin_set5'] = np.round(result_5.predict(kf_X_test_5)).astype(int)\n",
    "kf_test_df.tail(7)"
   ]
  },
  {
   "cell_type": "code",
   "execution_count": null,
   "metadata": {
    "colab": {
     "base_uri": "https://localhost:8080/"
    },
    "id": "h8VmXlKHv4OG",
    "outputId": "72c311e5-6b48-4542-9e4c-0712661e4ffe"
   },
   "outputs": [
    {
     "name": "stdout",
     "output_type": "stream",
     "text": [
      "KFold cross validation of Linear Regression model with 5 shuffled splits of the data: \n",
      "\n",
      "\n",
      "For set 1, the measure of accuracy for the model using r-squared is: 0.9768\n",
      "For set 1, the mean absolute error for the model is: 21833.98\n",
      "For set 1, the mean squared error for the model is: 736426645.13 \n",
      "\n",
      "\n",
      "For set 2, the measure of accuracy for the model using r-squared is: 0.9643\n",
      "For set 2, the mean absolute error for the model is: 25993.56\n",
      "For set 2, the mean squared error for the model is: 1131357660.15 \n",
      "\n",
      "\n",
      "For set 3, the measure of accuracy for the model using r-squared is: 0.9450\n",
      "For set 3, the mean absolute error for the model is: 26637.72\n",
      "For set 3, the mean squared error for the model is: 1744564424.00 \n",
      "\n",
      "\n",
      "For set 4, the measure of accuracy for the model using r-squared is: 0.9612\n",
      "For set 4, the mean absolute error for the model is: 24985.19\n",
      "For set 4, the mean squared error for the model is: 1232088061.27 \n",
      "\n",
      "\n",
      "For set 5, the measure of accuracy for the model using r-squared is: 0.9715\n",
      "For set 5, the mean absolute error for the model is: 24599.68\n",
      "For set 5, the mean squared error for the model is: 902878853.18 \n",
      "\n",
      "\n"
     ]
    }
   ],
   "source": [
    "# assessing actual cases vs predicted cases using accuracy and error metrics\n",
    "print(\"KFold cross validation of Linear Regression model with 5 shuffled splits of the data: \\n\\n\")\n",
    "# set 1:\n",
    "print(f\"For set 1, the measure of accuracy for the model using r-squared is: {r2_score(kf_test_df['total_cases'], kf_test_df['pred_lin_set1']):.4f}\")\n",
    "print(f\"For set 1, the mean absolute error for the model is: {mean_absolute_error(kf_test_df['total_cases'], kf_test_df['pred_lin_set1']):.2f}\")\n",
    "print(f\"For set 1, the mean squared error for the model is: {mean_squared_error(kf_test_df['total_cases'], kf_test_df['pred_lin_set1']):.2f} \\n\\n\")\n",
    "\n",
    "# set 2:\n",
    "print(f\"For set 2, the measure of accuracy for the model using r-squared is: {r2_score(kf_test_df['total_cases'], kf_test_df['pred_lin_set2']):.4f}\")\n",
    "print(f\"For set 2, the mean absolute error for the model is: {mean_absolute_error(kf_test_df['total_cases'], kf_test_df['pred_lin_set2']):.2f}\")\n",
    "print(f\"For set 2, the mean squared error for the model is: {mean_squared_error(kf_test_df['total_cases'], kf_test_df['pred_lin_set2']):.2f} \\n\\n\")\n",
    "\n",
    "# set 3:\n",
    "print(f\"For set 3, the measure of accuracy for the model using r-squared is: {r2_score(kf_test_df['total_cases'], kf_test_df['pred_lin_set3']):.4f}\")\n",
    "print(f\"For set 3, the mean absolute error for the model is: {mean_absolute_error(kf_test_df['total_cases'], kf_test_df['pred_lin_set3']):.2f}\")\n",
    "print(f\"For set 3, the mean squared error for the model is: {mean_squared_error(kf_test_df['total_cases'], kf_test_df['pred_lin_set3']):.2f} \\n\\n\")\n",
    "\n",
    "# set 4:\n",
    "print(f\"For set 4, the measure of accuracy for the model using r-squared is: {r2_score(kf_test_df['total_cases'], kf_test_df['pred_lin_set4']):.4f}\")\n",
    "print(f\"For set 4, the mean absolute error for the model is: {mean_absolute_error(kf_test_df['total_cases'], kf_test_df['pred_lin_set4']):.2f}\")\n",
    "print(f\"For set 4, the mean squared error for the model is: {mean_squared_error(kf_test_df['total_cases'], kf_test_df['pred_lin_set4']):.2f} \\n\\n\")\n",
    "\n",
    "# set 5:\n",
    "print(f\"For set 5, the measure of accuracy for the model using r-squared is: {r2_score(kf_test_df['total_cases'], kf_test_df['pred_lin_set5']):.4f}\")\n",
    "print(f\"For set 5, the mean absolute error for the model is: {mean_absolute_error(kf_test_df['total_cases'], kf_test_df['pred_lin_set5']):.2f}\")\n",
    "print(f\"For set 5, the mean squared error for the model is: {mean_squared_error(kf_test_df['total_cases'], kf_test_df['pred_lin_set5']):.2f} \\n\\n\")"
   ]
  },
  {
   "cell_type": "markdown",
   "metadata": {
    "id": "JtELh3fpytt9"
   },
   "source": [
    "**`Observation`**\n",
    "- The `set_1`, derived from a KFold split, made better predictions with a higher accuracy score than the other sets from the kfold split.  \n",
    "\n",
    "- Mathematically, for set_1: \n",
    "  \n",
    "    `total_cases = -11660.203 + (0.860 * change_vaccinations) +  (0.025 * total_tests)`\n",
    "\n",
    "<br>\n",
    "\n",
    "- X and y from `set 1` are used in other models \n"
   ]
  },
  {
   "cell_type": "code",
   "execution_count": null,
   "metadata": {
    "colab": {
     "base_uri": "https://localhost:8080/",
     "height": 516
    },
    "id": "8JUnde272dN2",
    "outputId": "eaa733d3-e9bd-4366-d8a0-f9568360bcaf"
   },
   "outputs": [
    {
     "name": "stdout",
     "output_type": "stream",
     "text": [
      "The model score is: 0.9994921126373008\n"
     ]
    },
    {
     "data": {
      "text/html": [
       "<div>\n",
       "<style scoped>\n",
       "    .dataframe tbody tr th:only-of-type {\n",
       "        vertical-align: middle;\n",
       "    }\n",
       "\n",
       "    .dataframe tbody tr th {\n",
       "        vertical-align: top;\n",
       "    }\n",
       "\n",
       "    .dataframe thead th {\n",
       "        text-align: right;\n",
       "    }\n",
       "</style>\n",
       "<table border=\"1\" class=\"dataframe\">\n",
       "  <thead>\n",
       "    <tr style=\"text-align: right;\">\n",
       "      <th></th>\n",
       "      <th>change_vaccinations</th>\n",
       "      <th>total_tests</th>\n",
       "      <th>total_cases</th>\n",
       "      <th>pred_lin_set1</th>\n",
       "      <th>pred_lin_set2</th>\n",
       "      <th>pred_lin_set3</th>\n",
       "      <th>pred_lin_set4</th>\n",
       "      <th>pred_lin_set5</th>\n",
       "      <th>dt_pred_set1</th>\n",
       "    </tr>\n",
       "  </thead>\n",
       "  <tbody>\n",
       "    <tr>\n",
       "      <th>2021-07-05 00:00:00-04:00</th>\n",
       "      <td>144795</td>\n",
       "      <td>16050390</td>\n",
       "      <td>545973</td>\n",
       "      <td>516647</td>\n",
       "      <td>540018</td>\n",
       "      <td>589612</td>\n",
       "      <td>560235</td>\n",
       "      <td>559853</td>\n",
       "      <td>544073</td>\n",
       "    </tr>\n",
       "    <tr>\n",
       "      <th>2021-07-07 00:00:00-04:00</th>\n",
       "      <td>204594</td>\n",
       "      <td>16093172</td>\n",
       "      <td>546411</td>\n",
       "      <td>569130</td>\n",
       "      <td>500901</td>\n",
       "      <td>545147</td>\n",
       "      <td>615445</td>\n",
       "      <td>569836</td>\n",
       "      <td>544073</td>\n",
       "    </tr>\n",
       "    <tr>\n",
       "      <th>2021-07-13 00:00:00-04:00</th>\n",
       "      <td>176834</td>\n",
       "      <td>16221898</td>\n",
       "      <td>547409</td>\n",
       "      <td>548504</td>\n",
       "      <td>538916</td>\n",
       "      <td>545568</td>\n",
       "      <td>549727</td>\n",
       "      <td>570582</td>\n",
       "      <td>544073</td>\n",
       "    </tr>\n",
       "  </tbody>\n",
       "</table>\n",
       "</div>"
      ],
      "text/plain": [
       "                           change_vaccinations  total_tests  total_cases  \\\n",
       "2021-07-05 00:00:00-04:00               144795     16050390       545973   \n",
       "2021-07-07 00:00:00-04:00               204594     16093172       546411   \n",
       "2021-07-13 00:00:00-04:00               176834     16221898       547409   \n",
       "\n",
       "                           pred_lin_set1  pred_lin_set2  pred_lin_set3  \\\n",
       "2021-07-05 00:00:00-04:00         516647         540018         589612   \n",
       "2021-07-07 00:00:00-04:00         569130         500901         545147   \n",
       "2021-07-13 00:00:00-04:00         548504         538916         545568   \n",
       "\n",
       "                           pred_lin_set4  pred_lin_set5  dt_pred_set1  \n",
       "2021-07-05 00:00:00-04:00         560235         559853        544073  \n",
       "2021-07-07 00:00:00-04:00         615445         569836        544073  \n",
       "2021-07-13 00:00:00-04:00         549727         570582        544073  "
      ]
     },
     "execution_count": 280,
     "metadata": {},
     "output_type": "execute_result"
    }
   ],
   "source": [
    "# training and testing the kfold sets using the decision tree regressor model above\n",
    "kf_dt_result = dt_model.fit(kf_X_train_1, kf_y_train_1)\n",
    "\n",
    "print(f\"The model score is: {kf_dt_result.score(kf_X_train_1, kf_y_train_1)}\")\n",
    "\n",
    "# adding predicted total cases as a column to kf_test_df\n",
    "kf_test_df['dt_pred_set1'] = np.round(kf_dt_result.predict(kf_X_test_1)).astype(int)\n",
    "kf_test_df.tail(3)"
   ]
  },
  {
   "cell_type": "code",
   "execution_count": null,
   "metadata": {
    "colab": {
     "base_uri": "https://localhost:8080/",
     "height": 926
    },
    "id": "KkpoJihL97bi",
    "outputId": "d7d51f57-5a8c-4a06-93be-2b006afbf45c"
   },
   "outputs": [
    {
     "name": "stdout",
     "output_type": "stream",
     "text": [
      "The model score is: 0.9999315104390605\n"
     ]
    },
    {
     "data": {
      "text/html": [
       "<div>\n",
       "<style scoped>\n",
       "    .dataframe tbody tr th:only-of-type {\n",
       "        vertical-align: middle;\n",
       "    }\n",
       "\n",
       "    .dataframe tbody tr th {\n",
       "        vertical-align: top;\n",
       "    }\n",
       "\n",
       "    .dataframe thead th {\n",
       "        text-align: right;\n",
       "    }\n",
       "</style>\n",
       "<table border=\"1\" class=\"dataframe\">\n",
       "  <thead>\n",
       "    <tr style=\"text-align: right;\">\n",
       "      <th></th>\n",
       "      <th>change_vaccinations</th>\n",
       "      <th>total_tests</th>\n",
       "      <th>total_cases</th>\n",
       "      <th>pred_lin_set1</th>\n",
       "      <th>pred_lin_set2</th>\n",
       "      <th>pred_lin_set3</th>\n",
       "      <th>pred_lin_set4</th>\n",
       "      <th>pred_lin_set5</th>\n",
       "      <th>dt_pred_set1</th>\n",
       "      <th>rf_pred_set1</th>\n",
       "    </tr>\n",
       "  </thead>\n",
       "  <tbody>\n",
       "    <tr>\n",
       "      <th>2021-07-05 00:00:00-04:00</th>\n",
       "      <td>144795</td>\n",
       "      <td>16050390</td>\n",
       "      <td>545973</td>\n",
       "      <td>516647</td>\n",
       "      <td>540018</td>\n",
       "      <td>589612</td>\n",
       "      <td>560235</td>\n",
       "      <td>559853</td>\n",
       "      <td>544073</td>\n",
       "      <td>544879</td>\n",
       "    </tr>\n",
       "    <tr>\n",
       "      <th>2021-07-07 00:00:00-04:00</th>\n",
       "      <td>204594</td>\n",
       "      <td>16093172</td>\n",
       "      <td>546411</td>\n",
       "      <td>569130</td>\n",
       "      <td>500901</td>\n",
       "      <td>545147</td>\n",
       "      <td>615445</td>\n",
       "      <td>569836</td>\n",
       "      <td>544073</td>\n",
       "      <td>544879</td>\n",
       "    </tr>\n",
       "    <tr>\n",
       "      <th>2021-07-13 00:00:00-04:00</th>\n",
       "      <td>176834</td>\n",
       "      <td>16221898</td>\n",
       "      <td>547409</td>\n",
       "      <td>548504</td>\n",
       "      <td>538916</td>\n",
       "      <td>545568</td>\n",
       "      <td>549727</td>\n",
       "      <td>570582</td>\n",
       "      <td>544073</td>\n",
       "      <td>544879</td>\n",
       "    </tr>\n",
       "  </tbody>\n",
       "</table>\n",
       "</div>"
      ],
      "text/plain": [
       "                           change_vaccinations  total_tests  total_cases  \\\n",
       "2021-07-05 00:00:00-04:00               144795     16050390       545973   \n",
       "2021-07-07 00:00:00-04:00               204594     16093172       546411   \n",
       "2021-07-13 00:00:00-04:00               176834     16221898       547409   \n",
       "\n",
       "                           pred_lin_set1  pred_lin_set2  pred_lin_set3  \\\n",
       "2021-07-05 00:00:00-04:00         516647         540018         589612   \n",
       "2021-07-07 00:00:00-04:00         569130         500901         545147   \n",
       "2021-07-13 00:00:00-04:00         548504         538916         545568   \n",
       "\n",
       "                           pred_lin_set4  pred_lin_set5  dt_pred_set1  \\\n",
       "2021-07-05 00:00:00-04:00         560235         559853        544073   \n",
       "2021-07-07 00:00:00-04:00         615445         569836        544073   \n",
       "2021-07-13 00:00:00-04:00         549727         570582        544073   \n",
       "\n",
       "                           rf_pred_set1  \n",
       "2021-07-05 00:00:00-04:00        544879  \n",
       "2021-07-07 00:00:00-04:00        544879  \n",
       "2021-07-13 00:00:00-04:00        544879  "
      ]
     },
     "execution_count": 281,
     "metadata": {},
     "output_type": "execute_result"
    }
   ],
   "source": [
    "# training and testing the kfold sets using the random forest regressor model above\n",
    "kf_rf_result = rf_model.fit(kf_X_train_1, kf_y_train_1)\n",
    "\n",
    "print(f\"The model score is: {kf_rf_result.score(kf_X_train_1, kf_y_train_1)}\")\n",
    "# adding predicted total cases as a column to kf_test_df\n",
    "kf_test_df['rf_pred_set1'] = np.round(kf_rf_result.predict(kf_X_test_1)).astype(int)\n",
    "kf_test_df.tail(3)"
   ]
  },
  {
   "cell_type": "code",
   "execution_count": null,
   "metadata": {
    "colab": {
     "base_uri": "https://localhost:8080/"
    },
    "id": "j2Fg4Dj9YPET",
    "outputId": "42d154b9-1d69-4123-e912-329b17e3c998"
   },
   "outputs": [
    {
     "name": "stdout",
     "output_type": "stream",
     "text": [
      "Linear Regression:\n",
      "\n",
      "For set 1, the measure of accuracy for the model using r-squared is: 0.9768\n",
      "For set 1, the mean absolute error for the model is: 21833.98\n",
      "For set 1, the mean squared error for the model is: 736426645.13 \n",
      "\n",
      "\n",
      "Decision Tree Regressor:\n",
      "\n",
      "For set 1, the measure of accuracy for the model using r-squared is: 0.9991\n",
      "For set 1, the mean absolute error for the model is: 3959.11\n",
      "For set 1, the mean squared error for the model is: 28213548.59 \n",
      "\n",
      "\n",
      "Random Forest Regressor:\n",
      "\n",
      "For set 1, the measure of accuracy for the model using r-squared is: 0.9998\n",
      "For set 1, the mean absolute error for the model is: 1601.43\n",
      "For set 1, the mean squared error for the model is: 5482411.00 \n",
      "\n",
      "\n"
     ]
    }
   ],
   "source": [
    "# model metric for on set 1: Linear regression, \n",
    "print(\"Linear Regression:\\n\")\n",
    "print(f\"For set 1, the measure of accuracy for the model using r-squared is: {r2_score(kf_test_df['total_cases'], kf_test_df['pred_lin_set1']):.4f}\")\n",
    "print(f\"For set 1, the mean absolute error for the model is: {mean_absolute_error(kf_test_df['total_cases'], kf_test_df['pred_lin_set1']):.2f}\")\n",
    "print(f\"For set 1, the mean squared error for the model is: {mean_squared_error(kf_test_df['total_cases'], kf_test_df['pred_lin_set1']):.2f} \\n\\n\")\n",
    "\n",
    "print(\"Decision Tree Regressor:\\n\")\n",
    "print(f\"For set 1, the measure of accuracy for the model using r-squared is: {r2_score(kf_test_df['total_cases'], kf_test_df['dt_pred_set1']):.4f}\")\n",
    "print(f\"For set 1, the mean absolute error for the model is: {mean_absolute_error(kf_test_df['total_cases'], kf_test_df['dt_pred_set1']):.2f}\")\n",
    "print(f\"For set 1, the mean squared error for the model is: {mean_squared_error(kf_test_df['total_cases'], kf_test_df['dt_pred_set1']):.2f} \\n\\n\")\n",
    "\n",
    "print(\"Random Forest Regressor:\\n\")\n",
    "print(f\"For set 1, the measure of accuracy for the model using r-squared is: {r2_score(kf_test_df['total_cases'], kf_test_df['rf_pred_set1']):.4f}\")\n",
    "print(f\"For set 1, the mean absolute error for the model is: {mean_absolute_error(kf_test_df['total_cases'], kf_test_df['rf_pred_set1']):.2f}\")\n",
    "print(f\"For set 1, the mean squared error for the model is: {mean_squared_error(kf_test_df['total_cases'], kf_test_df['rf_pred_set1']):.2f} \\n\\n\")\n"
   ]
  },
  {
   "cell_type": "markdown",
   "metadata": {
    "id": "Iurh4vmKIWiO"
   },
   "source": [
    "### **`Observations`**\n",
    "- A 5-set kfold split was done to derive 5 distinct arrangements of a dataframe containing a prediction target and predictors. Each set contained a split of data for training and testing.\n",
    "\n",
    "- Testing on a linear regression model,`set_1`, derived from the split, made the best predictions of the 5. \n",
    "\n",
    "- Mathematically, for set_1: \n",
    "  \n",
    "    `total_cases = -11660.203 + (0.860 * change_vaccinations) +  (0.025 * total_tests)`\n",
    "\n",
    "- Others models were explored using only X and y from `set 1` \n",
    "\n",
    "- The linear regression model has an accuracy score of approximately 0.9771 \n",
    "\n",
    "- With the decision tree regressor, the prediction accuracy score (r-squared) improved from what was observed with linear regression to ~ 0.9991\n",
    "\n",
    "- This even got better with the random forest regressor model, where the r-squared score was computed as ~ 0.9998. \n",
    "\n",
    "- In both decision tree and random forest regressors, the errors metrices with set_1 are lower than what was observed with the train_test_split data.\n",
    "\n",
    "- However, random forest model made predictions with the least amount of errors across the 3 models and is recommended."
   ]
  },
  {
   "cell_type": "code",
   "execution_count": null,
   "metadata": {
    "colab": {
     "base_uri": "https://localhost:8080/",
     "height": 402
    },
    "id": "MvZ4dflJc2jf",
    "outputId": "6f3f7ffe-71a6-4922-cf70-39b5626f8088"
   },
   "outputs": [
    {
     "data": {
      "image/png": "[encoded data removed]",
      "text/plain": [
       "<Figure size 1368x468 with 3 Axes>"
      ]
     },
     "metadata": {},
     "output_type": "display_data"
    }
   ],
   "source": [
    "gridspec.GridSpec(1,3)\n",
    "plt.figure(figsize=(19,6.5))\n",
    "plt.subplot2grid((1,3),(0,0))\n",
    "sns.scatterplot(x= kf_test_df.index, y=kf_test_df['total_cases'], color='red', label='Actual_total_cases')\n",
    "kf_test_df['pred_lin_set1'].plot(color='green')\n",
    "plt.title(\"Linear Reg. Prediction on set_1\", fontdict={'fontweight':'bold', 'size':14})\n",
    "plt.legend()\n",
    "\n",
    "plt.subplot2grid((1,3),(0,1))\n",
    "sns.scatterplot(x= kf_test_df.index, y=kf_test_df['total_cases'], color='red', label='Actual_total_cases')\n",
    "kf_test_df['dt_pred_set1'].plot(color='green')\n",
    "plt.title(\"Decision Tree Regressor Prediction on set_1\", fontdict={'fontweight':'bold', 'size':14})\n",
    "plt.legend()\n",
    "\n",
    "plt.subplot2grid((1,3),(0,2))\n",
    "sns.scatterplot(x= kf_test_df.index, y=kf_test_df['total_cases'], color='red', label='Actual_total_cases')\n",
    "kf_test_df['rf_pred_set1'].plot(color='green')\n",
    "plt.title(\"Random Forest Regressor Prediction on set_1\", fontdict={'fontweight':'bold', 'size':14})\n",
    "plt.legend()\n",
    "\n",
    "plt.savefig('ontario-images/fig_modelling', format='png')\n",
    "plt.show()\n"
   ]
  }
 ],
 "metadata": {
  "colab": {
   "collapsed_sections": [
    "XIRfkJQK5BWS",
    "_p5kuRIB2ieI",
    "1Tb-bMONdn-w",
    "j3fIzqoRd46o",
    "HgndxDtUuHch"
   ],
   "name": "2021-09-10-eu-ontario-data-modelling-validation.ipynb",
   "provenance": []
  },
  "kernelspec": {
   "display_name": "Python 3",
   "language": "python",
   "name": "python3"
  },
  "language_info": {
   "codemirror_mode": {
    "name": "ipython",
    "version": 3
   },
   "file_extension": ".py",
   "mimetype": "text/x-python",
   "name": "python",
   "nbconvert_exporter": "python",
   "pygments_lexer": "ipython3",
   "version": "3.8.8"
  }
 },
 "nbformat": 4,
 "nbformat_minor": 4
}
