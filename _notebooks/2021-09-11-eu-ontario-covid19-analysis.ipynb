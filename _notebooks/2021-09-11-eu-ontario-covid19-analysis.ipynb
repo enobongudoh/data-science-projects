{
 "cells": [
  {
   "cell_type": "markdown",
   "metadata": {
    "id": "2LMmGOsrlx6k"
   },
   "source": [
    "# Effectiveness of Covid-19 management and preventative measures in Ontario, Canada.\n",
    "> \"An analysis of how Ontario's covid-19 eradication strategy compares to it's reality.\"\n",
    "\n",
    "- toc: true\n",
    "- branch: master\n",
    "- badges: true\n",
    "- comments: true\n",
    "- author: Enobong Udoh\n",
    "- categories: [Covid-19, Ontario, Canada]\n",
    "- image: images/project_thumbnails/ontario_covid.png\n",
    "- hide: false\n",
    "- search_exclude: true\n",
    "- metadata_key1: metadata_value1\n",
    "- metadata_key2: metadata_value2\n",
    "\n"
   ]
  },
  {
   "cell_type": "markdown",
   "metadata": {
    "id": "IX1ERtQon6py"
   },
   "source": [
    "## Project motivation and background\n",
    "\n",
    "Covid-19 is an infectious respiratory diseases caused by the newly discovered Coronavirus. The novel virus, also known as SARS-CoV-2 (severe acute respiratory syndrome coronavirus 2, formerly called 2019-nCoV), is a family of viruses popularized by their spiky crown. The virus was first detected amid an outbreak of respiratory illness cases in Wuhan City, China and was initially reported by World Health Organization on the 31st of December 2019.\n",
    "    \n",
    "In this work, exploratory analysis is carried out to assess the impact of Ontario's Covid preventative solutions and restrictive measures (mobility), on the daily changes in covid cases.  \n",
    "\n",
    "In particular, this project will explore the following lines of inquiry with the help of a number of publicly accessible data sets: \n",
    "\n",
    "1. Is there an observable relationship between the reported covid activities and the proposed medical solution i.e. vaccination?\n",
    "\n",
    "2. Is there an influence on the number of reported cases in ontario by people's activities across the days of the week?\n",
    "\n",
    "3. With the government's vaccination plan, preference was given to adults who were 70 and over first, as well as those considered medically compromised. Was this as a result of the significance in the number of confirmed positive cases in the age group 70 and above?\n",
    "\n",
    "4. How does the proportion of affected groups compare with the those getting vaccinated?\n",
    "\n",
    "5. How has the pandemic impacted the community's mobility?  Is there an observable effect on the number of cases in the province?\n",
    "\n",
    "## Data collection\n",
    "\n",
    "The following datasets were identified to fulfill the analysis requirement: \n",
    "\n",
    "1. Ontario's Covid-19 Pandemic and Vaccination trends from 25-January-2020 to 17-July-2021 (Primary data)\n",
    "  - [Data Source](https://covid19tracker.ca/vaccinationtracker.html)\n",
    "  - [Data Dictionary](2021-09-10-eu-ontario-data-preparation.ipynb) \n",
    "\n",
    "2. Confirmed Positive Cases in cities within Ontario with age\n",
    "  - [Data Source](https://data.ontario.ca/dataset/confirmed-positive-cases-of-covid-19-in-ontario)\n",
    "  - [Data Dictionary](https://data.ontario.ca/dataset/confirmed-positive-cases-of-covid-19-in-ontario)\n",
    "\n",
    "3. Ontario Vaccination data by age\n",
    "  - [Data Source](https://data.ontario.ca/en/dataset/covid-19-vaccine-data-in-ontario/resource/775ca815-5028-4e9b-9dd4-6975ff1be021)  \n",
    "  - [Data Dictionary](https://data.ontario.ca/en/dataset/covid-19-vaccine-data-in-ontario)\n",
    "\n",
    "4. Google Covid-19 mobility report\n",
    "  - [Data Source](https://www.google.com/covid19/mobility/)\n",
    "  - [Data Dictionary](https://www.google.com/covid19/mobility/data_documentation.html?hl=en)\n",
    "  \n",
    "\n"
   ]
  },
  {
   "cell_type": "markdown",
   "metadata": {
    "id": "1gVe38lLLfFb"
   },
   "source": [
    "## Data Preparation\n",
    "\n",
    "For this project, to gain a better understanding of the covid-19 related activities in Ontario, the datasets above were cleaned for exploration.  \n",
    "- The Ontario's Covid-19 pandemic and vaccination data contained information on the daily changes and totals of covid-19 cases, fatalities, tests, hospitalizations, criticals, recoveries, vaccinations (partial and full) and vaccines distributed, in the province.\n",
    "\n",
    "- Confirmed positive cases data contained records of verified cases with fields such as, accurate episode date, case reported date, test reported date, specimen date, age group, client gender and more.\n",
    "\n",
    "- Ontario vaccination data by age contained fields such as date, age group, total population, the proportion of each age group's population with at least the first dose and second dose of the vaccine per day. \n",
    "\n",
    "- The mobility data from google contained fields such as date and percent changes in movement to retail and recreation, grocery and pharmacy, parks, transit stations, workplaces and residential places. These changes were assessed in comparison to the baseline which was computed by google as the median value, for the corresponding day of the week, during the 5-week period Jan 3, 2020 –Feb 6, 2020\n",
    "\n",
    "Each data set was reviewed independently. Some columns were renamed and the unused columns were dropped. Each data set was checked for missing values, duplicates and outliers. The missing values were filled where necessary. In the confirmed cases data, only 99.14% of the data was retained as missing values and duplicated information were removed. The data sets were all indexed as time series with a uniform end date of July 17, 2021.\n",
    "\n",
    "> Tip: [Tell me more: a deep dive into the data preparation work](2021-09-08-eu-ontario-data-preparation.ipynb)"
   ]
  },
  {
   "cell_type": "markdown",
   "metadata": {
    "id": "2xdPNh-bX0lN"
   },
   "source": [
    "## Data Exploration"
   ]
  },
  {
   "cell_type": "markdown",
   "metadata": {
    "id": "MydvmnEMYsHo"
   },
   "source": [
    "### Is there an observable relationship between the reported covid activities and the proposed medical solution i.e. vaccination?"
   ]
  },
  {
   "cell_type": "markdown",
   "metadata": {
    "id": "LlFU09YBGBas"
   },
   "source": [
    "![image_1](ontario-images/fig_1.png)"
   ]
  },
  {
   "cell_type": "markdown",
   "metadata": {
    "id": "1xtRdrP0gN6F"
   },
   "source": [
    "> Note: The correlation between total cases and the totals of other activities is all positive. Total tests has the highest correlation with total cases, with a correlation coefficient of 0.98 and total hospitalizations has the least, with a coefficeint of 0.5"
   ]
  },
  {
   "cell_type": "markdown",
   "metadata": {
    "id": "vFJIP5IMag60"
   },
   "source": [
    "### Is there an influence on the number of reported cases in ontario by people's activities across the days of the week?"
   ]
  },
  {
   "cell_type": "markdown",
   "metadata": {
    "id": "CmOZfmjVF8TN"
   },
   "source": [
    "![image_2_first](ontario-images/fig_2_first.png)"
   ]
  },
  {
   "cell_type": "markdown",
   "metadata": {
    "id": "RvAqZJneeM0Z"
   },
   "source": [
    "> Note: The heatmap depicts that there is approximately 0 correlation between the days of the weeks and the daily changes covid cases. The correlation between the days of the week and the other covid activities is also really low "
   ]
  },
  {
   "cell_type": "markdown",
   "metadata": {
    "id": "zXYm2cYWF5GD"
   },
   "source": [
    "![image_2](ontario-images/fig_2.png)"
   ]
  },
  {
   "cell_type": "markdown",
   "metadata": {
    "id": "QfU5waq1eoBz"
   },
   "source": [
    "> Note: The plots shows that from a cummulative perspective, daily changes in cases fluctuates to an extent across the days of the week but the impact of days on daily total cases is barely noticeable."
   ]
  },
  {
   "cell_type": "markdown",
   "metadata": {
    "id": "itmggdRUh2dC"
   },
   "source": [
    "### With the government's vaccination plan, preference was given to adults who were 70 and over first, as well as those considered medically compromised. Was this as a result of the significance in the number of confirmed positive cases in the age group 70 and above?"
   ]
  },
  {
   "cell_type": "markdown",
   "metadata": {
    "id": "dN5wpZ4xFiA2"
   },
   "source": [
    "![image_3](ontario-images/fig_3.png)"
   ]
  },
  {
   "cell_type": "markdown",
   "metadata": {
    "id": "zpzudccuiVTE"
   },
   "source": [
    "> Note: The spread of cases is higher amongst people in their 20s."
   ]
  },
  {
   "cell_type": "markdown",
   "metadata": {
    "id": "SIybWoB1FZhw"
   },
   "source": [
    "![image_3_1](ontario-images/fig_3_1.png)"
   ]
  },
  {
   "cell_type": "markdown",
   "metadata": {
    "id": "F1tydPkBiz8F"
   },
   "source": [
    "> Note: In both years, less than 30% of the positive cases were adults over 70 years"
   ]
  },
  {
   "cell_type": "markdown",
   "metadata": {
    "id": "7QI-owxMj9Ds"
   },
   "source": [
    "### How does the proportion of affected groups compare with the those getting vaccinated?"
   ]
  },
  {
   "cell_type": "markdown",
   "metadata": {
    "id": "WVlVc8voFLJq"
   },
   "source": [
    "![image_4](ontario-images/fig_4.png)"
   ]
  },
  {
   "cell_type": "markdown",
   "metadata": {
    "id": "OyoFFyrZlKbc"
   },
   "source": [
    "> Note: Although those in their 20s and 30s account for more of the covid cases, they fall within the bottom three(3) portions of the pie in terms of partial and full vaccinations."
   ]
  },
  {
   "cell_type": "markdown",
   "metadata": {
    "id": "sZaE5Dn9nN4E"
   },
   "source": [
    "### How has the pandemic impacted the community's mobility?  Is there an observable effect on the number of cases in the province?"
   ]
  },
  {
   "cell_type": "markdown",
   "metadata": {
    "id": "YCVwGN7qE14z"
   },
   "source": [
    "![mobility_image_1](ontario-images/fig_5_1.png)"
   ]
  },
  {
   "cell_type": "markdown",
   "metadata": {
    "id": "9ma9FWL6E-BO"
   },
   "source": [
    "![mobility_image_2](ontario-images/fig_5_2.png)"
   ]
  },
  {
   "cell_type": "markdown",
   "metadata": {
    "id": "5D8kJxzjFABO"
   },
   "source": [
    "![mobility_image_3](ontario-images/fig_5_3.png)"
   ]
  },
  {
   "cell_type": "markdown",
   "metadata": {
    "id": "VvYO5lpjnjVs"
   },
   "source": [
    "> Note: The two major peaks in daily covid case changes were experienced on days where the province was on lockdown and movement to non-essential places did not see a peak. Movement to grocery stores and pharmacies, residential areas and parks for exercise had lower restrictions, thus, mobility mostly stayed around and above the baseline."
   ]
  },
  {
   "cell_type": "markdown",
   "metadata": {
    "id": "X8vOGDhQho_3"
   },
   "source": [
    "> Tip: [Tell me more: a deep dive into the data exploration and analysis work](2021-09-09-eu-ontario-data-exploration.ipynb)"
   ]
  },
  {
   "cell_type": "markdown",
   "metadata": {
    "id": "fhsagSmm0HQh"
   },
   "source": [
    "### Conclusions from exploratory analysis\n",
    "\n",
    "- The data shows that there is correlation between covid activties and the preventive solution - vaccinations. Although levels of correlation differ, total cases has a positive correlation with the totals of other activities. \n",
    "    - Total cases  vs Total fatalities has a correlation of ~0.96\n",
    "    - Total cases  vs Total tests has a correlation of ~0.98\n",
    "    - Total cases  vs Total hospitalizations has a correlation of ~0.50\n",
    "    - Total cases  vs Total criticals has a correlation of ~0.79\n",
    "    - Total cases  vs Total recoveries has a correlation of ~0.99\n",
    "    - Total cases  vs Partial vaccinations has a correlation of ~0.83\n",
    "    - Total cases  vs Full vaccinations has a correlation of ~0.60\n",
    "    - Total cases  vs Vaccines distributed has a correlation of ~0.83\n",
    "    \n",
    "- While there is a very low correlation between the days of the week and total cases in ontario, a bar plot shows that the daily changes in number of cases tends to differ across the different days of the week but this is insignificant for total cases. From the data, Friday, April 16 2021, is the day with the highest number of cases.\n",
    "\n",
    "- Furthermore, although the older population in Ontario are said to have a higher risk of contracting the virus, the data shows that there is a higher number of people testing positive amongst young adults in their 20s and 30s.\n",
    "\n",
    "- Despite cases being higher amongst the younger population, as of July 17-2021, vaccination efforts had a higher spread amongst the older population. If events progress at this rate, it will likely slow down the speed with which the province overcomes the pandemic.\n",
    "\n",
    "- Additionally, irrespective of activities slowing down and the preventative measures, such as full lockdowns and restricted movements, the number of cases in the province has continued to rise. It can also be noted that daily change in cases saw it's two major peaks during the government imposed stay-at-home order."
   ]
  },
  {
   "cell_type": "markdown",
   "metadata": {
    "id": "48vWxl6y0V9m"
   },
   "source": [
    "### Recommendations:\n",
    "In the event of future pandemics, to overcome it's impact faster, it is recommended that;\n",
    "- the large scale public education on hygiene measures such as; washing hands, wearing masks, sanitizing shared spaces etc, should continually be emphasized to minimize the spread of the virus.\n",
    "- the general public is continually sensitized on the need to get tested as this would reduce the chances of asymptomatic people spreading the virus.\n",
    "- the vaccination opportunities should be open to the general public, including the younger population, early. This would potentially improve the quality of results derived from the solution.\n",
    "- Analyse the impact of mobility restriction measures periodically to determine how viable that solution is. If cases tend to increase drastically at the end of lockdowns, it might be due to asymtomatic carriers suddenly mixing up with others whenever some degree of freedom is allowed. \n",
    "- Explore limiting capacity as opposed to full lockdowns during a pandemic. This would likely decrease the sudden excitement for everyone to be outside at the same time and would increase the possibility of knowing who was where and when. E.g: via the barcode registrations required by some enclosed spaces presently."
   ]
  },
  {
   "cell_type": "markdown",
   "metadata": {
    "id": "S5WC7C5c3bDI"
   },
   "source": [
    "## Data Modelling\n"
   ]
  },
  {
   "cell_type": "markdown",
   "metadata": {
    "id": "rdX06R28-v3b"
   },
   "source": [
    "\n",
    "- Regression algorithms were used in modelling data from the primary dataset as the data is continuous. \n",
    "- The prediction target is daily total cases and predictor variables used are daily total tests and changes in partial vaccinations. These features were selected as they had a correlation coeffiction > 0.75 with the target.\n",
    "- To support training and testing the model, the data was split into 2, a test_size of 30% and train_size of 70%."
   ]
  },
  {
   "cell_type": "markdown",
   "metadata": {
    "id": "tcTCXOGa64zL"
   },
   "source": [
    "![data_modelling_image](ontario-images/fig_model_first.png)"
   ]
  },
  {
   "cell_type": "markdown",
   "metadata": {
    "id": "BY4oNAxX65fL"
   },
   "source": [
    "### Observations:\n",
    "- The Linear regression model had an approximate accuracy score of 0.982. After model fitting, the model was used to predict total cases, given the the test features and the  R-squared error was approximately 0.9815.\n",
    "\n",
    "- validating the model using statsmodel.formala.api, an R-squared score of approximately 0.982 was also obtained and the confidence level of prediction accuracy is 97.5%.\n",
    "\n",
    "- Based on the linear regression model, it can be interpreted that for every case increase in the total number of cases in ontario, there'll be aproximately a 0.799 increase in partial vaccinations and a 0.025 increase in total tests.\n",
    "\n",
    "- Mathematically: \n",
    "  \n",
    "    `total_cases = -11860.454 + (0.799 * change_vaccinations) +  (0.025 * total_tests)`\n",
    "\n",
    "- The decision tree regressor algorithm was also explored for prediction. This model shows that it has better prediction abilities with an R-squared score of 0.993 and lower mean errors (MAE and MSE) for it's prediction on the test data, in comparison to linear regression.\n",
    "\n",
    "- Further attempt to predict total cases per day was done using random forest regressor. This model was shown to have a higher accuracy score and lower mean errors than the previous models (**`Recommended`**). \n",
    "\n",
    "> Tip: [Tell me more: a deep dive into the data modelling work](2021-09-10-eu-ontario-data-modelling-validation.ipynb)"
   ]
  },
  {
   "cell_type": "markdown",
   "metadata": {
    "id": "igLxNsNX8yTt"
   },
   "source": [
    "## Model Validation\n"
   ]
  },
  {
   "cell_type": "markdown",
   "metadata": {
    "id": "lkF2PPQ4-mDB"
   },
   "source": [
    "- A 5-set kfold split was done to derive 5 distinct arrangements of a dataframe containing a prediction target and predictors. Each set contained a split of data for training and testing.\n",
    "- Testing on a linear regression model,`set_1`, derived from the split, made the best predictions of the 5. \n",
    "- Mathematically, for set_1: \n",
    "  \n",
    "    `total_cases = -11660.203 + (0.860 * change_vaccinations) +  (0.025 * total_tests)`\n",
    "\n",
    "- Others models were explored using only X and y from `set 1` "
   ]
  },
  {
   "cell_type": "markdown",
   "metadata": {
    "id": "bBRvBIzm85D1"
   },
   "source": [
    "![model_validation_image](ontario-images/fig_modelling.png)"
   ]
  },
  {
   "cell_type": "markdown",
   "metadata": {
    "id": "5q3_nWWk85iz"
   },
   "source": [
    "### Observations:\n",
    "\n",
    "- The linear regression model has an accuracy score of approximately 0.9771 \n",
    "\n",
    "- With the decision tree regressor, the prediction accuracy score (r-squared) improved from what was observed with linear regression to ~ 0.9991\n",
    "\n",
    "- This even got better with the random forest regressor model, where the r-squared score was computed as ~ 0.9998. \n",
    "\n",
    "- In both decision tree and random forest regressors, the errors metrices with set_1 are lower than what was observed with the train_test_split data.\n",
    "\n",
    "- However, random forest model made predictions with the least amount of errors across the 3 models and is recommended.\n",
    "\n",
    "> Tip: [Tell me more: a deep dive into the data modelling work](2021-09-10-eu-ontario-data-modelling-validation.ipynb)"
   ]
  },
  {
   "cell_type": "markdown",
   "metadata": {
    "id": "SS4pdP_G_Jem"
   },
   "source": [
    "## Acknowledgements:\n",
    "- I acknowledge that this is my first data science project, completed at the end of a 10 weeks part-time course and some concepts may not be presented as a seasoned professional in the field.\n",
    "- I also acknowledge that Ontario is a large province with rural and urban cities and this analysis represents the province as a collective hence, it might not mirror the reality of some cities.\n",
    "- I acknowledge the government and public health unit of Ontario for the publicly accessible data on confirmed positive cases and vaccination activities.\n",
    "- Noah Little, Covid-19 Tracker Canada, https://covid19tracker.ca/vaccinationtracker.html, Accessed: 2021-07-18\n",
    "- Google LLC \"Google COVID-19 Community Mobility Reports\".\n",
    "https://www.google.com/covid19/mobility/ Accessed: 2021-08-09."
   ]
  }
 ],
 "metadata": {
  "colab": {
   "collapsed_sections": [],
   "name": "2021-09-10-eu-ontario-covid19-analysis.ipynb",
   "provenance": []
  },
  "kernelspec": {
   "display_name": "Python 3",
   "language": "python",
   "name": "python3"
  },
  "language_info": {
   "codemirror_mode": {
    "name": "ipython",
    "version": 3
   },
   "file_extension": ".py",
   "mimetype": "text/x-python",
   "name": "python",
   "nbconvert_exporter": "python",
   "pygments_lexer": "ipython3",
   "version": "3.8.8"
  }
 },
 "nbformat": 4,
 "nbformat_minor": 4
}
