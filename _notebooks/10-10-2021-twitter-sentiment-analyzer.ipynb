{
 "cells": [
  {
   "cell_type": "markdown",
   "metadata": {
    "id": "T1VOpy2anqUw"
   },
   "source": [
    "# Sentiment Analysis of tweets about Ethereum\n",
    "> \"An analysis of how twitters users feel about ethereum\"\n",
    "\n",
    "- toc: true\n",
    "- branch: master\n",
    "- badges: true\n",
    "- comments: true\n",
    "- author: Enobong Udoh\n",
    "- categories: [Ethereum, sentiment analysis, tweets]\n",
    "- image: images/project_thumbnails/sentiments.png\n",
    "- hide: false\n",
    "- search_exclude: true\n",
    "- metadata_key1: metadata_value1\n",
    "- metadata_key2: metadata_value2\n",
    "\n"
   ]
  },
  {
   "cell_type": "markdown",
   "metadata": {
    "id": "hCCMN61fn9yc"
   },
   "source": [
    "### Project Motivation:\n",
    "I recently started investing in stocks and a few crypto currencies and as a new investor, one very difficult thing has been gauging the sentiments of other investors to support my decisions. \n",
    "\n",
    "Prior to now, I'd spend long hours looking through series of tweets to gain a sense of how others feel. This has not only been a time consuming task but also, often counter productive as I end up getting really overwhelmed and unable to make any informed decision.\n",
    "<br>\n",
    "\n",
    "### Project Goal:\n",
    "This project aims to analyze over 400 tweets from twitter about etherium from 01-08-2015 to 05-10-2020. It gives a sense of their sentiments and some commonly used positive words, to support investment decision making in a fraction of the time it would take to manually perform this task."
   ]
  },
  {
   "cell_type": "code",
   "execution_count": 4,
   "metadata": {
    "colab": {
     "base_uri": "https://localhost:8080/"
    },
    "executionInfo": {
     "elapsed": 3321,
     "status": "ok",
     "timestamp": 1633809571150,
     "user": {
      "displayName": "Enobong Udoh",
      "photoUrl": "https://lh3.googleusercontent.com/a-/AOh14Gg1EvddSoOoEx-wSrc_m8MQdEwKky97MYgNx8Ke2Q=s64",
      "userId": "16200133760604983631"
     },
     "user_tz": 240
    },
    "id": "nHNGl-01hhb8",
    "outputId": "2d2c43cb-710f-47d1-a169-3d8e9e9916c8"
   },
   "outputs": [
    {
     "name": "stdout",
     "output_type": "stream",
     "text": [
      "Requirement already satisfied: demoji in /usr/local/lib/python3.7/dist-packages (1.1.0)\n"
     ]
    }
   ],
   "source": [
    "# installing packages used in program\n",
    "!pip install demoji"
   ]
  },
  {
   "cell_type": "code",
   "execution_count": 5,
   "metadata": {
    "executionInfo": {
     "elapsed": 1135,
     "status": "ok",
     "timestamp": 1633809572276,
     "user": {
      "displayName": "Enobong Udoh",
      "photoUrl": "https://lh3.googleusercontent.com/a-/AOh14Gg1EvddSoOoEx-wSrc_m8MQdEwKky97MYgNx8Ke2Q=s64",
      "userId": "16200133760604983631"
     },
     "user_tz": 240
    },
    "id": "OdiuSf-iP4Ud"
   },
   "outputs": [],
   "source": [
    "# importing libraries\n",
    "import sys\n",
    "import tweepy \n",
    "from textblob import TextBlob   # gives sentiments and polarity of regular text/sentence from -1 to 1 where 0 is neutral\n",
    "import pandas as pd\n",
    "import numpy as np\n",
    "import re  # re= regular expressions\n",
    "import matplotlib.pyplot as plt\n",
    "import plotly.express as px\n",
    "from datetime import datetime \n",
    "import seaborn as sns\n",
    "plt.style.use('fivethirtyeight')\n",
    "import demoji\n",
    "import nltk\n",
    "from nltk.corpus import stopwords\n",
    "from wordcloud import WordCloud, STOPWORDS\n",
    "from sklearn.feature_extraction import text\n",
    "from sklearn.naive_bayes import MultinomialNB\n",
    "from sklearn import tree\n",
    "from sklearn.tree import DecisionTreeClassifier\n",
    "from sklearn.metrics import mean_absolute_error, mean_squared_error, r2_score\n",
    "from sklearn.model_selection import KFold, train_test_split\n",
    "# import warnings\n",
    "# warnings.filterwarnings('ignore')"
   ]
  },
  {
   "cell_type": "markdown",
   "metadata": {
    "id": "XOFuvwTx03eR"
   },
   "source": [
    "## DATA PREPARATION"
   ]
  },
  {
   "cell_type": "markdown",
   "metadata": {
    "id": "wMvC-CuV07J4"
   },
   "source": [
    "### **Accessing Twitter to scrape comments**"
   ]
  },
  {
   "cell_type": "code",
   "execution_count": null,
   "metadata": {
    "id": "rT7jBxkqRBYA"
   },
   "outputs": [],
   "source": [
    "# upload login credential file\n",
    "from google.colab import files\n",
    "files.upload()"
   ]
  },
  {
   "cell_type": "code",
   "execution_count": null,
   "metadata": {
    "executionInfo": {
     "elapsed": 10,
     "status": "aborted",
     "timestamp": 1633809493873,
     "user": {
      "displayName": "Enobong Udoh",
      "photoUrl": "https://lh3.googleusercontent.com/a-/AOh14Gg1EvddSoOoEx-wSrc_m8MQdEwKky97MYgNx8Ke2Q=s64",
      "userId": "16200133760604983631"
     },
     "user_tz": 240
    },
    "id": "_za5z_ITRaeS"
   },
   "outputs": [],
   "source": [
    "# store the uploaded login file in a variable\n",
    "pd.set_option('display.width', None)\n",
    "log = pd.read_csv('twitter_app_cred.csv') \n",
    "log"
   ]
  },
  {
   "cell_type": "code",
   "execution_count": null,
   "metadata": {
    "executionInfo": {
     "elapsed": 12,
     "status": "aborted",
     "timestamp": 1633809493878,
     "user": {
      "displayName": "Enobong Udoh",
      "photoUrl": "https://lh3.googleusercontent.com/a-/AOh14Gg1EvddSoOoEx-wSrc_m8MQdEwKky97MYgNx8Ke2Q=s64",
      "userId": "16200133760604983631"
     },
     "user_tz": 240
    },
    "id": "KVEvzC2lRo8O"
   },
   "outputs": [],
   "source": [
    "# get the twitter API credentials\n",
    "consumerKey = log['consumer_key'][0]\n",
    "consumerSecret = log['consumer_secret'][0]\n",
    "accessToken = log['access_token'][0]\n",
    "accessTokenSecret = log['access_token_secret'][0]"
   ]
  },
  {
   "cell_type": "code",
   "execution_count": null,
   "metadata": {
    "executionInfo": {
     "elapsed": 13,
     "status": "aborted",
     "timestamp": 1633809493880,
     "user": {
      "displayName": "Enobong Udoh",
      "photoUrl": "https://lh3.googleusercontent.com/a-/AOh14Gg1EvddSoOoEx-wSrc_m8MQdEwKky97MYgNx8Ke2Q=s64",
      "userId": "16200133760604983631"
     },
     "user_tz": 240
    },
    "id": "eyW7phA7SJ9g"
   },
   "outputs": [],
   "source": [
    "# create authentication object from tweepy - pass consumer key and secret\n",
    "authenticate = tweepy.OAuthHandler(consumerKey, consumerSecret)"
   ]
  },
  {
   "cell_type": "code",
   "execution_count": null,
   "metadata": {
    "executionInfo": {
     "elapsed": 15,
     "status": "aborted",
     "timestamp": 1633809493882,
     "user": {
      "displayName": "Enobong Udoh",
      "photoUrl": "https://lh3.googleusercontent.com/a-/AOh14Gg1EvddSoOoEx-wSrc_m8MQdEwKky97MYgNx8Ke2Q=s64",
      "userId": "16200133760604983631"
     },
     "user_tz": 240
    },
    "id": "r8qkztMFOBp1"
   },
   "outputs": [],
   "source": [
    "# set access token and access token secret for the authentication object\n",
    "authenticate.set_access_token(accessToken, accessTokenSecret)"
   ]
  },
  {
   "cell_type": "code",
   "execution_count": null,
   "metadata": {
    "executionInfo": {
     "elapsed": 17,
     "status": "aborted",
     "timestamp": 1633809493884,
     "user": {
      "displayName": "Enobong Udoh",
      "photoUrl": "https://lh3.googleusercontent.com/a-/AOh14Gg1EvddSoOoEx-wSrc_m8MQdEwKky97MYgNx8Ke2Q=s64",
      "userId": "16200133760604983631"
     },
     "user_tz": 240
    },
    "id": "GxlESO3QODSo"
   },
   "outputs": [],
   "source": [
    "# create the API object for this program\n",
    "\n",
    "# FYI: wait_on_rate_limit – Whether or not to automatically wait for rate limits to replenish. \n",
    "# Twitter levies a rate limit on the number of requests made to the Twitter API. To be precise, 900 requests/15 minutes are allowed; Twitter feeds anything above that an error\n",
    "\n",
    "api = tweepy.API(authenticate, wait_on_rate_limit=True, wait_on_rate_limit_notify=True)\n",
    "\n"
   ]
  },
  {
   "cell_type": "code",
   "execution_count": null,
   "metadata": {
    "executionInfo": {
     "elapsed": 27,
     "status": "aborted",
     "timestamp": 1633809493893,
     "user": {
      "displayName": "Enobong Udoh",
      "photoUrl": "https://lh3.googleusercontent.com/a-/AOh14Gg1EvddSoOoEx-wSrc_m8MQdEwKky97MYgNx8Ke2Q=s64",
      "userId": "16200133760604983631"
     },
     "user_tz": 240
    },
    "id": "c-YhL_fzqFKF"
   },
   "outputs": [],
   "source": [
    "'''\n",
    "This function accepts search elements that are passed to the api to generate data.\n",
    "'''\n",
    "\n",
    "def get_search_info():\n",
    "  # get the search terms as input\n",
    "  search_term = input(\"Enter keyword/hashtag for analysis:\")\n",
    "\n",
    "  # get the no_of_search_terms\n",
    "  no_of_search_terms = int(input(\"Enter the number of tweets to be analyzed:\"))\n",
    "\n",
    "  # get the start date\n",
    "  start_date = datetime.strptime(input(\"Enter the start date for data extraction (dd-mm-yyyy):\"), '%d-%m-%Y')\n",
    " \n",
    "\n",
    "  # get the end date\n",
    "  until_date = datetime.strptime(input(\"Enter the end date for data extraction (dd-mm-yyyy):\"), '%d-%m-%Y')\n",
    "      \n",
    "  return search_term, no_of_search_terms, start_date, until_date\n",
    " \n",
    "\n",
    "  "
   ]
  },
  {
   "cell_type": "code",
   "execution_count": null,
   "metadata": {
    "executionInfo": {
     "elapsed": 28,
     "status": "aborted",
     "timestamp": 1633809493895,
     "user": {
      "displayName": "Enobong Udoh",
      "photoUrl": "https://lh3.googleusercontent.com/a-/AOh14Gg1EvddSoOoEx-wSrc_m8MQdEwKky97MYgNx8Ke2Q=s64",
      "userId": "16200133760604983631"
     },
     "user_tz": 240
    },
    "id": "TVZ_nwlxMI_L"
   },
   "outputs": [],
   "source": [
    "# Pass the search_term, no_of_search_terms, start_date, until_date to the program\n",
    "\n",
    "print(\"Welcome to the twitter sentiment analysis program. **Please note that data does not include retweets\")\n",
    "search_term, no_of_search_terms, start_date, until_date = get_search_info()\n",
    "\n",
    "print('\\n Entries are in the correct format and processing can commence')\n",
    "\n"
   ]
  },
  {
   "cell_type": "code",
   "execution_count": null,
   "metadata": {
    "executionInfo": {
     "elapsed": 30,
     "status": "aborted",
     "timestamp": 1633809493897,
     "user": {
      "displayName": "Enobong Udoh",
      "photoUrl": "https://lh3.googleusercontent.com/a-/AOh14Gg1EvddSoOoEx-wSrc_m8MQdEwKky97MYgNx8Ke2Q=s64",
      "userId": "16200133760604983631"
     },
     "user_tz": 240
    },
    "id": "L5XxxGztNiLW"
   },
   "outputs": [],
   "source": [
    "# create a cursor object\n",
    "tweets = tweepy.Cursor(api.search, q=f'{search_term}-filter:retweets', lang='en', since= start_date, until = until_date, tweet_mode='extended').items(no_of_search_terms )\n"
   ]
  },
  {
   "cell_type": "code",
   "execution_count": null,
   "metadata": {
    "executionInfo": {
     "elapsed": 32,
     "status": "aborted",
     "timestamp": 1633809493899,
     "user": {
      "displayName": "Enobong Udoh",
      "photoUrl": "https://lh3.googleusercontent.com/a-/AOh14Gg1EvddSoOoEx-wSrc_m8MQdEwKky97MYgNx8Ke2Q=s64",
      "userId": "16200133760604983631"
     },
     "user_tz": 240
    },
    "id": "iTo2I_VyPoK0"
   },
   "outputs": [],
   "source": [
    "# get a list of all tweets\n",
    "all_tweets = [[ each_tweet.user.id_str, each_tweet.user.location, each_tweet.full_text] for each_tweet in tweets]\n",
    "\n",
    "# creating a data frame of tweets\n",
    "tweet_df = pd.DataFrame(all_tweets, columns=['user_id', 'location', 'tweets'])\n",
    "\n",
    "# storing result in as a pickle file\n",
    "tweet_df.to_pickle('tweets.pickle')\n",
    "# tweet_df.to_pickle('data/ethereum_data/tweets.pickle')\n"
   ]
  },
  {
   "cell_type": "markdown",
   "metadata": {
    "id": "szJxjIcQ1GIc"
   },
   "source": [
    "### **Cleaning Data**"
   ]
  },
  {
   "cell_type": "code",
   "execution_count": 6,
   "metadata": {
    "colab": {
     "base_uri": "https://localhost:8080/",
     "height": 142
    },
    "executionInfo": {
     "elapsed": 311,
     "status": "ok",
     "timestamp": 1633809576985,
     "user": {
      "displayName": "Enobong Udoh",
      "photoUrl": "https://lh3.googleusercontent.com/a-/AOh14Gg1EvddSoOoEx-wSrc_m8MQdEwKky97MYgNx8Ke2Q=s64",
      "userId": "16200133760604983631"
     },
     "user_tz": 240
    },
    "id": "S5ECYzEKpbLg",
    "outputId": "7f785945-3b38-447d-a9a3-7209a103c72a"
   },
   "outputs": [
    {
     "data": {
      "text/html": [
       "<div>\n",
       "<style scoped>\n",
       "    .dataframe tbody tr th:only-of-type {\n",
       "        vertical-align: middle;\n",
       "    }\n",
       "\n",
       "    .dataframe tbody tr th {\n",
       "        vertical-align: top;\n",
       "    }\n",
       "\n",
       "    .dataframe thead th {\n",
       "        text-align: right;\n",
       "    }\n",
       "</style>\n",
       "<table border=\"1\" class=\"dataframe\">\n",
       "  <thead>\n",
       "    <tr style=\"text-align: right;\">\n",
       "      <th></th>\n",
       "      <th>user_id</th>\n",
       "      <th>location</th>\n",
       "      <th>tweets</th>\n",
       "    </tr>\n",
       "  </thead>\n",
       "  <tbody>\n",
       "    <tr>\n",
       "      <th>0</th>\n",
       "      <td>1440248590547361798</td>\n",
       "      <td>Ethereum Blockchain</td>\n",
       "      <td>Publicly announcing Wall Street Champs. A coll...</td>\n",
       "    </tr>\n",
       "    <tr>\n",
       "      <th>1</th>\n",
       "      <td>1367942471888613376</td>\n",
       "      <td>Switzerland</td>\n",
       "      <td>TIME-STAMPED SHOW NOTES:  [00:25] Today’s topi...</td>\n",
       "    </tr>\n",
       "    <tr>\n",
       "      <th>2</th>\n",
       "      <td>1422127209721090050</td>\n",
       "      <td></td>\n",
       "      <td>@YakuzaNFT  Launching Friday Oct 8th\\n \\nOne o...</td>\n",
       "    </tr>\n",
       "  </tbody>\n",
       "</table>\n",
       "</div>"
      ],
      "text/plain": [
       "               user_id  ...                                             tweets\n",
       "0  1440248590547361798  ...  Publicly announcing Wall Street Champs. A coll...\n",
       "1  1367942471888613376  ...  TIME-STAMPED SHOW NOTES:  [00:25] Today’s topi...\n",
       "2  1422127209721090050  ...  @YakuzaNFT  Launching Friday Oct 8th\\n \\nOne o...\n",
       "\n",
       "[3 rows x 3 columns]"
      ]
     },
     "execution_count": 6,
     "metadata": {},
     "output_type": "execute_result"
    }
   ],
   "source": [
    "df_raw = pd.read_pickle('tweets.pickle')\n",
    "df_raw.head(3)"
   ]
  },
  {
   "cell_type": "code",
   "execution_count": 7,
   "metadata": {
    "executionInfo": {
     "elapsed": 233,
     "status": "ok",
     "timestamp": 1633809579599,
     "user": {
      "displayName": "Enobong Udoh",
      "photoUrl": "https://lh3.googleusercontent.com/a-/AOh14Gg1EvddSoOoEx-wSrc_m8MQdEwKky97MYgNx8Ke2Q=s64",
      "userId": "16200133760604983631"
     },
     "user_tz": 240
    },
    "id": "bSUjOMwI6Xzg"
   },
   "outputs": [],
   "source": [
    "# create a modifiable copy of the data while maintaining the raw version.\n",
    "df = df_raw.copy()"
   ]
  },
  {
   "cell_type": "code",
   "execution_count": 8,
   "metadata": {
    "executionInfo": {
     "elapsed": 1122,
     "status": "ok",
     "timestamp": 1633809581571,
     "user": {
      "displayName": "Enobong Udoh",
      "photoUrl": "https://lh3.googleusercontent.com/a-/AOh14Gg1EvddSoOoEx-wSrc_m8MQdEwKky97MYgNx8Ke2Q=s64",
      "userId": "16200133760604983631"
     },
     "user_tz": 240
    },
    "id": "ZJHeP_iWQK9s"
   },
   "outputs": [],
   "source": [
    "'''\n",
    "This function helps with cleaning the tweets\n",
    "'''\n",
    "def cleaner(twt):\n",
    "  twt = re.sub('#', '', twt)  # removes the # from bitcoin\n",
    "  twt = re.sub('#[A-Za-z0-9]+', ' ', twt)   # removes every # followed by a letter or number and more (denoted by +) and leave empty\n",
    "  twt = re.sub('\\\\n', ' ', twt)  # removing \\n string. extra \\ was added to make python read \\n as normal text\n",
    "  twt = re.sub('http?s\\/\\/S+','', twt)   # removes hyperlink. '?' finds 0 or 1 s as some might be http, others https. \\ are used here too to make the // normal text. S+ is used to denote any other character\n",
    "  twt = re.sub(\"''\",'', twt)   \n",
    "  return twt\n",
    "\n",
    "# iterate over tweets column to clean and remove emojis\n",
    "tweet_hold = []\n",
    "for i in df.tweets:\n",
    "  tweet_hold.append(demoji.replace(cleaner(i), ''))\n",
    "\n",
    "# create a column of clean tweets\n",
    "df['clean_tweets'] = tweet_hold\n"
   ]
  },
  {
   "cell_type": "code",
   "execution_count": 9,
   "metadata": {
    "colab": {
     "base_uri": "https://localhost:8080/",
     "height": 142
    },
    "executionInfo": {
     "elapsed": 240,
     "status": "ok",
     "timestamp": 1633809584227,
     "user": {
      "displayName": "Enobong Udoh",
      "photoUrl": "https://lh3.googleusercontent.com/a-/AOh14Gg1EvddSoOoEx-wSrc_m8MQdEwKky97MYgNx8Ke2Q=s64",
      "userId": "16200133760604983631"
     },
     "user_tz": 240
    },
    "id": "osrfW-6bSMDb",
    "outputId": "3a24af04-2bd6-41e6-e353-32ee11978e47"
   },
   "outputs": [
    {
     "data": {
      "text/html": [
       "<div>\n",
       "<style scoped>\n",
       "    .dataframe tbody tr th:only-of-type {\n",
       "        vertical-align: middle;\n",
       "    }\n",
       "\n",
       "    .dataframe tbody tr th {\n",
       "        vertical-align: top;\n",
       "    }\n",
       "\n",
       "    .dataframe thead th {\n",
       "        text-align: right;\n",
       "    }\n",
       "</style>\n",
       "<table border=\"1\" class=\"dataframe\">\n",
       "  <thead>\n",
       "    <tr style=\"text-align: right;\">\n",
       "      <th></th>\n",
       "      <th>user_id</th>\n",
       "      <th>location</th>\n",
       "      <th>tweets</th>\n",
       "      <th>clean_tweets</th>\n",
       "    </tr>\n",
       "  </thead>\n",
       "  <tbody>\n",
       "    <tr>\n",
       "      <th>0</th>\n",
       "      <td>1440248590547361798</td>\n",
       "      <td>Ethereum Blockchain</td>\n",
       "      <td>Publicly announcing Wall Street Champs. A coll...</td>\n",
       "      <td>Publicly announcing Wall Street Champs. A coll...</td>\n",
       "    </tr>\n",
       "    <tr>\n",
       "      <th>1</th>\n",
       "      <td>1367942471888613376</td>\n",
       "      <td>Switzerland</td>\n",
       "      <td>TIME-STAMPED SHOW NOTES:  [00:25] Today’s topi...</td>\n",
       "      <td>TIME-STAMPED SHOW NOTES:  [00:25] Today’s topi...</td>\n",
       "    </tr>\n",
       "    <tr>\n",
       "      <th>2</th>\n",
       "      <td>1422127209721090050</td>\n",
       "      <td></td>\n",
       "      <td>@YakuzaNFT  Launching Friday Oct 8th\\n \\nOne o...</td>\n",
       "      <td>@YakuzaNFT  Launching Friday Oct 8th   One of ...</td>\n",
       "    </tr>\n",
       "  </tbody>\n",
       "</table>\n",
       "</div>"
      ],
      "text/plain": [
       "               user_id  ...                                       clean_tweets\n",
       "0  1440248590547361798  ...  Publicly announcing Wall Street Champs. A coll...\n",
       "1  1367942471888613376  ...  TIME-STAMPED SHOW NOTES:  [00:25] Today’s topi...\n",
       "2  1422127209721090050  ...  @YakuzaNFT  Launching Friday Oct 8th   One of ...\n",
       "\n",
       "[3 rows x 4 columns]"
      ]
     },
     "execution_count": 9,
     "metadata": {},
     "output_type": "execute_result"
    }
   ],
   "source": [
    "df.head(3)"
   ]
  },
  {
   "cell_type": "markdown",
   "metadata": {
    "id": "LMJX0yAt4NSb"
   },
   "source": [
    "**Checking for missing values**"
   ]
  },
  {
   "cell_type": "code",
   "execution_count": 10,
   "metadata": {
    "colab": {
     "base_uri": "https://localhost:8080/"
    },
    "executionInfo": {
     "elapsed": 381,
     "status": "ok",
     "timestamp": 1633809585726,
     "user": {
      "displayName": "Enobong Udoh",
      "photoUrl": "https://lh3.googleusercontent.com/a-/AOh14Gg1EvddSoOoEx-wSrc_m8MQdEwKky97MYgNx8Ke2Q=s64",
      "userId": "16200133760604983631"
     },
     "user_tz": 240
    },
    "id": "zQjZk77Y2vhi",
    "outputId": "a3f4879d-86c4-43e6-9928-754789cc6464"
   },
   "outputs": [
    {
     "name": "stdout",
     "output_type": "stream",
     "text": [
      "<class 'pandas.core.frame.DataFrame'>\n",
      "RangeIndex: 453 entries, 0 to 452\n",
      "Data columns (total 4 columns):\n",
      " #   Column        Non-Null Count  Dtype \n",
      "---  ------        --------------  ----- \n",
      " 0   user_id       453 non-null    object\n",
      " 1   location      453 non-null    object\n",
      " 2   tweets        453 non-null    object\n",
      " 3   clean_tweets  453 non-null    object\n",
      "dtypes: object(4)\n",
      "memory usage: 14.3+ KB\n"
     ]
    }
   ],
   "source": [
    "# review data info\n",
    "df.info()"
   ]
  },
  {
   "cell_type": "code",
   "execution_count": 11,
   "metadata": {
    "colab": {
     "base_uri": "https://localhost:8080/",
     "height": 512
    },
    "executionInfo": {
     "elapsed": 896,
     "status": "ok",
     "timestamp": 1633809587700,
     "user": {
      "displayName": "Enobong Udoh",
      "photoUrl": "https://lh3.googleusercontent.com/a-/AOh14Gg1EvddSoOoEx-wSrc_m8MQdEwKky97MYgNx8Ke2Q=s64",
      "userId": "16200133760604983631"
     },
     "user_tz": 240
    },
    "id": "tp_rzG_g238O",
    "outputId": "e0968357-9e3c-4aa4-b003-9533b3ff5940"
   },
   "outputs": [
    {
     "data": {
      "image/png": "[encoded data removed]",
      "text/plain": [
       "<Figure size 1800x720 with 2 Axes>"
      ]
     },
     "metadata": {},
     "output_type": "display_data"
    }
   ],
   "source": [
    "# plot the columns to check for missing data\n",
    "import missingno\n",
    "missingno.matrix(df)\n",
    "plt.show()"
   ]
  },
  {
   "cell_type": "markdown",
   "metadata": {
    "id": "bA3IFd_Wv-Fx"
   },
   "source": [
    "> **Observation**: While the check for null values shows there's none in the data, the location column has some gaps. Next, review the unique value that make up the location column"
   ]
  },
  {
   "cell_type": "code",
   "execution_count": 12,
   "metadata": {
    "colab": {
     "base_uri": "https://localhost:8080/"
    },
    "executionInfo": {
     "elapsed": 284,
     "status": "ok",
     "timestamp": 1633809589561,
     "user": {
      "displayName": "Enobong Udoh",
      "photoUrl": "https://lh3.googleusercontent.com/a-/AOh14Gg1EvddSoOoEx-wSrc_m8MQdEwKky97MYgNx8Ke2Q=s64",
      "userId": "16200133760604983631"
     },
     "user_tz": 240
    },
    "id": "ZiadpoUnvqGo",
    "outputId": "565f74d4-346f-4b5b-aada-1128b1ecfda6"
   },
   "outputs": [
    {
     "data": {
      "text/plain": [
       "array(['Ethereum Blockchain', 'Switzerland', '', 'Blockchain', 'Spain',\n",
       "       'Based Basement', 'New Orleans, LA',\n",
       "       'Tennis Paradise - Indian Wells', 'Brooklyn, NY', 'Moon',\n",
       "       'BAT Tips accepted here', 'Germany, Berlin',\n",
       "       'AWS eu-west-1a Ireland Region', 'Frankfurt on the Main, Germany',\n",
       "       'The Moon', 'Coingecko', 'Binance Smart Chain', 'London, England',\n",
       "       'Thailang', 'New York.', 'Atlanta, GA', 'Hong Kong', '    ',\n",
       "       'Nashville, TN', 'India', 'Far side of the Moon!', 'Phoenix, AZ',\n",
       "       'Germany', 'Dharma Initiative', '🇲🇾',\n",
       "       'https://www.cryptosbulls.com', 'Metaverse', 'Thailand',\n",
       "       'NOT FINANCIAL ADVICE', 'New York, USA', 'ÜT: 51.427077,6.105739',\n",
       "       'ETH', 'Kenigsberg', 'USA', 'Cryptoverse', '🇸🇦', 'Global',\n",
       "       'jabalpur', 'Not affiliated with Coinbase', 'Paris, France',\n",
       "       'Tamil Nadu, India', 'London', 'Trade here 👉', 'Weimar, Germany',\n",
       "       'HongKong', 'Estonia', 'Montreal, Canada', 'ToTheMoon',\n",
       "       'Venezuela', 'CRYPTO', 'Discord.io/Mandala', 'Estados Unidos',\n",
       "       'Rochester, NY', 'Citizen of the World', 'Tha Moon',\n",
       "       'Playa Del Carmen MX', 'Doodle Planet', 'Japan', 'Treasureland',\n",
       "       'Wien, Österreich', 'Telegram @coinwhispererschat', 'Miami, FL',\n",
       "       'Paris'], dtype=object)"
      ]
     },
     "execution_count": 12,
     "metadata": {},
     "output_type": "execute_result"
    }
   ],
   "source": [
    "# get unique locations in data\n",
    "df.location.unique()"
   ]
  },
  {
   "cell_type": "markdown",
   "metadata": {
    "id": "F1pnKGpJwYxz"
   },
   "source": [
    "> **Observation**: It can be observed that '' is recorded as a location and might account for the seemingly empty fields in the data. Also, some of the locations captured are not places in the world, hence, drop column."
   ]
  },
  {
   "cell_type": "code",
   "execution_count": 13,
   "metadata": {
    "executionInfo": {
     "elapsed": 249,
     "status": "ok",
     "timestamp": 1633809592046,
     "user": {
      "displayName": "Enobong Udoh",
      "photoUrl": "https://lh3.googleusercontent.com/a-/AOh14Gg1EvddSoOoEx-wSrc_m8MQdEwKky97MYgNx8Ke2Q=s64",
      "userId": "16200133760604983631"
     },
     "user_tz": 240
    },
    "id": "oT7EMhdYxxxZ"
   },
   "outputs": [],
   "source": [
    "# remove unused column\n",
    "df = df.drop(columns='location')"
   ]
  },
  {
   "cell_type": "markdown",
   "metadata": {
    "id": "74NT790s3YFy"
   },
   "source": [
    "**Checking for duplicates**"
   ]
  },
  {
   "cell_type": "code",
   "execution_count": 14,
   "metadata": {
    "colab": {
     "base_uri": "https://localhost:8080/"
    },
    "executionInfo": {
     "elapsed": 252,
     "status": "ok",
     "timestamp": 1633809593260,
     "user": {
      "displayName": "Enobong Udoh",
      "photoUrl": "https://lh3.googleusercontent.com/a-/AOh14Gg1EvddSoOoEx-wSrc_m8MQdEwKky97MYgNx8Ke2Q=s64",
      "userId": "16200133760604983631"
     },
     "user_tz": 240
    },
    "id": "wiFUZvqm3D5l",
    "outputId": "b723ece5-19b2-41ac-8e3b-5fa347bddea7"
   },
   "outputs": [
    {
     "data": {
      "text/plain": [
       "True"
      ]
     },
     "execution_count": 14,
     "metadata": {},
     "output_type": "execute_result"
    }
   ],
   "source": [
    "# check if there are any duplicates\n",
    "df.duplicated().any()"
   ]
  },
  {
   "cell_type": "code",
   "execution_count": 15,
   "metadata": {
    "colab": {
     "base_uri": "https://localhost:8080/",
     "height": 80
    },
    "executionInfo": {
     "elapsed": 226,
     "status": "ok",
     "timestamp": 1633809595245,
     "user": {
      "displayName": "Enobong Udoh",
      "photoUrl": "https://lh3.googleusercontent.com/a-/AOh14Gg1EvddSoOoEx-wSrc_m8MQdEwKky97MYgNx8Ke2Q=s64",
      "userId": "16200133760604983631"
     },
     "user_tz": 240
    },
    "id": "UChCa4-i3NgO",
    "outputId": "69569605-20ce-4608-d70c-ddf2394eb28a"
   },
   "outputs": [
    {
     "data": {
      "text/html": [
       "<div>\n",
       "<style scoped>\n",
       "    .dataframe tbody tr th:only-of-type {\n",
       "        vertical-align: middle;\n",
       "    }\n",
       "\n",
       "    .dataframe tbody tr th {\n",
       "        vertical-align: top;\n",
       "    }\n",
       "\n",
       "    .dataframe thead th {\n",
       "        text-align: right;\n",
       "    }\n",
       "</style>\n",
       "<table border=\"1\" class=\"dataframe\">\n",
       "  <thead>\n",
       "    <tr style=\"text-align: right;\">\n",
       "      <th></th>\n",
       "      <th>user_id</th>\n",
       "      <th>tweets</th>\n",
       "      <th>clean_tweets</th>\n",
       "    </tr>\n",
       "  </thead>\n",
       "  <tbody>\n",
       "    <tr>\n",
       "      <th>369</th>\n",
       "      <td>1420829930762514435</td>\n",
       "      <td>We're glad to announce next Plant Token AMA wi...</td>\n",
       "      <td>We're glad to announce next Plant Token AMA wi...</td>\n",
       "    </tr>\n",
       "  </tbody>\n",
       "</table>\n",
       "</div>"
      ],
      "text/plain": [
       "                 user_id  ...                                       clean_tweets\n",
       "369  1420829930762514435  ...  We're glad to announce next Plant Token AMA wi...\n",
       "\n",
       "[1 rows x 3 columns]"
      ]
     },
     "execution_count": 15,
     "metadata": {},
     "output_type": "execute_result"
    }
   ],
   "source": [
    "# find duplicated record\n",
    "df[df.duplicated()==True]"
   ]
  },
  {
   "cell_type": "code",
   "execution_count": 16,
   "metadata": {
    "executionInfo": {
     "elapsed": 245,
     "status": "ok",
     "timestamp": 1633809596534,
     "user": {
      "displayName": "Enobong Udoh",
      "photoUrl": "https://lh3.googleusercontent.com/a-/AOh14Gg1EvddSoOoEx-wSrc_m8MQdEwKky97MYgNx8Ke2Q=s64",
      "userId": "16200133760604983631"
     },
     "user_tz": 240
    },
    "id": "6U1CiQTn3eq8"
   },
   "outputs": [],
   "source": [
    "# drop duplicated data but keep the first record of the said data and reset the index\n",
    "df.drop_duplicates(keep='first',inplace=True)\n",
    "df.reset_index(drop=True, inplace=True)"
   ]
  },
  {
   "cell_type": "code",
   "execution_count": 17,
   "metadata": {
    "colab": {
     "base_uri": "https://localhost:8080/"
    },
    "executionInfo": {
     "elapsed": 234,
     "status": "ok",
     "timestamp": 1633809599615,
     "user": {
      "displayName": "Enobong Udoh",
      "photoUrl": "https://lh3.googleusercontent.com/a-/AOh14Gg1EvddSoOoEx-wSrc_m8MQdEwKky97MYgNx8Ke2Q=s64",
      "userId": "16200133760604983631"
     },
     "user_tz": 240
    },
    "id": "g_N7Yt1P33UI",
    "outputId": "a3362421-48ca-4b77-8a85-1c248a0a91b1"
   },
   "outputs": [
    {
     "name": "stdout",
     "output_type": "stream",
     "text": [
      "<class 'pandas.core.frame.DataFrame'>\n",
      "RangeIndex: 452 entries, 0 to 451\n",
      "Data columns (total 3 columns):\n",
      " #   Column        Non-Null Count  Dtype \n",
      "---  ------        --------------  ----- \n",
      " 0   user_id       452 non-null    object\n",
      " 1   tweets        452 non-null    object\n",
      " 2   clean_tweets  452 non-null    object\n",
      "dtypes: object(3)\n",
      "memory usage: 10.7+ KB\n"
     ]
    }
   ],
   "source": [
    "# verifying info\n",
    "df.info()"
   ]
  },
  {
   "cell_type": "code",
   "execution_count": 18,
   "metadata": {
    "colab": {
     "base_uri": "https://localhost:8080/"
    },
    "executionInfo": {
     "elapsed": 244,
     "status": "ok",
     "timestamp": 1633809601073,
     "user": {
      "displayName": "Enobong Udoh",
      "photoUrl": "https://lh3.googleusercontent.com/a-/AOh14Gg1EvddSoOoEx-wSrc_m8MQdEwKky97MYgNx8Ke2Q=s64",
      "userId": "16200133760604983631"
     },
     "user_tz": 240
    },
    "id": "wAEikg-S3-uj",
    "outputId": "88564b49-c601-4766-ac55-aa95d45cef69"
   },
   "outputs": [
    {
     "data": {
      "text/plain": [
       "False"
      ]
     },
     "execution_count": 18,
     "metadata": {},
     "output_type": "execute_result"
    }
   ],
   "source": [
    "# rechecking for duplicates\n",
    "df.duplicated().any()"
   ]
  },
  {
   "cell_type": "markdown",
   "metadata": {
    "id": "Nt5KnukR69mV"
   },
   "source": [
    "> **Conclusion:** The data has been cleaned for analysis"
   ]
  },
  {
   "cell_type": "markdown",
   "metadata": {
    "id": "X09I21ih1wUK"
   },
   "source": [
    "## DATA ANALYSIS\n",
    "\n"
   ]
  },
  {
   "cell_type": "markdown",
   "metadata": {
    "id": "MWOhcKqv2I2F"
   },
   "source": [
    "### **What is the spread of opinions about Ethereum on twitter?**"
   ]
  },
  {
   "cell_type": "code",
   "execution_count": 19,
   "metadata": {
    "executionInfo": {
     "elapsed": 282,
     "status": "ok",
     "timestamp": 1633809603410,
     "user": {
      "displayName": "Enobong Udoh",
      "photoUrl": "https://lh3.googleusercontent.com/a-/AOh14Gg1EvddSoOoEx-wSrc_m8MQdEwKky97MYgNx8Ke2Q=s64",
      "userId": "16200133760604983631"
     },
     "user_tz": 240
    },
    "id": "BIy_oCMktGFL"
   },
   "outputs": [],
   "source": [
    "# get subjectivity\n",
    "def get_subjectivity(twitts):\n",
    "  return TextBlob(twitts).sentiment.subjectivity\n",
    "\n",
    "# get polarity\n",
    "def get_polarity(twitts):\n",
    "  return TextBlob(twitts).sentiment.polarity"
   ]
  },
  {
   "cell_type": "code",
   "execution_count": 20,
   "metadata": {
    "colab": {
     "base_uri": "https://localhost:8080/",
     "height": 204
    },
    "executionInfo": {
     "elapsed": 575,
     "status": "ok",
     "timestamp": 1633809606731,
     "user": {
      "displayName": "Enobong Udoh",
      "photoUrl": "https://lh3.googleusercontent.com/a-/AOh14Gg1EvddSoOoEx-wSrc_m8MQdEwKky97MYgNx8Ke2Q=s64",
      "userId": "16200133760604983631"
     },
     "user_tz": 240
    },
    "id": "b-3eMbQAuEm3",
    "outputId": "cd995de3-dc3d-4e82-8e8b-be844cd06d9d"
   },
   "outputs": [
    {
     "data": {
      "text/html": [
       "<div>\n",
       "<style scoped>\n",
       "    .dataframe tbody tr th:only-of-type {\n",
       "        vertical-align: middle;\n",
       "    }\n",
       "\n",
       "    .dataframe tbody tr th {\n",
       "        vertical-align: top;\n",
       "    }\n",
       "\n",
       "    .dataframe thead th {\n",
       "        text-align: right;\n",
       "    }\n",
       "</style>\n",
       "<table border=\"1\" class=\"dataframe\">\n",
       "  <thead>\n",
       "    <tr style=\"text-align: right;\">\n",
       "      <th></th>\n",
       "      <th>user_id</th>\n",
       "      <th>tweets</th>\n",
       "      <th>clean_tweets</th>\n",
       "      <th>subjectivity</th>\n",
       "      <th>polarity</th>\n",
       "    </tr>\n",
       "  </thead>\n",
       "  <tbody>\n",
       "    <tr>\n",
       "      <th>0</th>\n",
       "      <td>1440248590547361798</td>\n",
       "      <td>Publicly announcing Wall Street Champs. A coll...</td>\n",
       "      <td>Publicly announcing Wall Street Champs. A coll...</td>\n",
       "      <td>0.406667</td>\n",
       "      <td>0.155000</td>\n",
       "    </tr>\n",
       "    <tr>\n",
       "      <th>1</th>\n",
       "      <td>1367942471888613376</td>\n",
       "      <td>TIME-STAMPED SHOW NOTES:  [00:25] Today’s topi...</td>\n",
       "      <td>TIME-STAMPED SHOW NOTES:  [00:25] Today’s topi...</td>\n",
       "      <td>0.821429</td>\n",
       "      <td>-0.267857</td>\n",
       "    </tr>\n",
       "    <tr>\n",
       "      <th>2</th>\n",
       "      <td>1422127209721090050</td>\n",
       "      <td>@YakuzaNFT  Launching Friday Oct 8th\\n \\nOne o...</td>\n",
       "      <td>@YakuzaNFT  Launching Friday Oct 8th   One of ...</td>\n",
       "      <td>0.750000</td>\n",
       "      <td>0.437500</td>\n",
       "    </tr>\n",
       "    <tr>\n",
       "      <th>3</th>\n",
       "      <td>726437948527398912</td>\n",
       "      <td>Ethereum - ETH\\nPrice: $3,392.68\\nChange in 1h...</td>\n",
       "      <td>Ethereum - ETH Price: $3,392.68 Change in 1h: ...</td>\n",
       "      <td>0.000000</td>\n",
       "      <td>0.000000</td>\n",
       "    </tr>\n",
       "    <tr>\n",
       "      <th>4</th>\n",
       "      <td>47313788</td>\n",
       "      <td>Mother.\\n\\n1 of 1 • On sale from 7th Oct, 4:00...</td>\n",
       "      <td>Mother.  1 of 1 • On sale from 7th Oct, 4:00 a...</td>\n",
       "      <td>0.000000</td>\n",
       "      <td>0.000000</td>\n",
       "    </tr>\n",
       "  </tbody>\n",
       "</table>\n",
       "</div>"
      ],
      "text/plain": [
       "               user_id  ...  polarity\n",
       "0  1440248590547361798  ...  0.155000\n",
       "1  1367942471888613376  ... -0.267857\n",
       "2  1422127209721090050  ...  0.437500\n",
       "3   726437948527398912  ...  0.000000\n",
       "4             47313788  ...  0.000000\n",
       "\n",
       "[5 rows x 5 columns]"
      ]
     },
     "execution_count": 20,
     "metadata": {},
     "output_type": "execute_result"
    }
   ],
   "source": [
    "# create two columns called cubjectivity and polarity\n",
    "df['subjectivity'] = df['clean_tweets'].apply(get_subjectivity)\n",
    "df['polarity'] = df['clean_tweets'].apply(get_polarity)\n",
    "df.head(5)"
   ]
  },
  {
   "cell_type": "code",
   "execution_count": 21,
   "metadata": {
    "executionInfo": {
     "elapsed": 228,
     "status": "ok",
     "timestamp": 1633809609228,
     "user": {
      "displayName": "Enobong Udoh",
      "photoUrl": "https://lh3.googleusercontent.com/a-/AOh14Gg1EvddSoOoEx-wSrc_m8MQdEwKky97MYgNx8Ke2Q=s64",
      "userId": "16200133760604983631"
     },
     "user_tz": 240
    },
    "id": "QEMnF8bCsdG-"
   },
   "outputs": [],
   "source": [
    "# create a function to get the sentiment text\n",
    "def get_sentiment(rank):\n",
    "  if rank < 0:\n",
    "    return 'Negative'\n",
    "  elif rank == 0:\n",
    "    return 'Neutral'\n",
    "  else:\n",
    "    return 'Positive'"
   ]
  },
  {
   "cell_type": "code",
   "execution_count": 22,
   "metadata": {
    "colab": {
     "base_uri": "https://localhost:8080/",
     "height": 221
    },
    "executionInfo": {
     "elapsed": 16,
     "status": "ok",
     "timestamp": 1633809610458,
     "user": {
      "displayName": "Enobong Udoh",
      "photoUrl": "https://lh3.googleusercontent.com/a-/AOh14Gg1EvddSoOoEx-wSrc_m8MQdEwKky97MYgNx8Ke2Q=s64",
      "userId": "16200133760604983631"
     },
     "user_tz": 240
    },
    "id": "FVQldqGauhT7",
    "outputId": "50dc125e-84dc-47b2-fae9-53308c7f3666"
   },
   "outputs": [
    {
     "data": {
      "text/html": [
       "<div>\n",
       "<style scoped>\n",
       "    .dataframe tbody tr th:only-of-type {\n",
       "        vertical-align: middle;\n",
       "    }\n",
       "\n",
       "    .dataframe tbody tr th {\n",
       "        vertical-align: top;\n",
       "    }\n",
       "\n",
       "    .dataframe thead th {\n",
       "        text-align: right;\n",
       "    }\n",
       "</style>\n",
       "<table border=\"1\" class=\"dataframe\">\n",
       "  <thead>\n",
       "    <tr style=\"text-align: right;\">\n",
       "      <th></th>\n",
       "      <th>user_id</th>\n",
       "      <th>tweets</th>\n",
       "      <th>clean_tweets</th>\n",
       "      <th>subjectivity</th>\n",
       "      <th>polarity</th>\n",
       "      <th>sentiment</th>\n",
       "    </tr>\n",
       "  </thead>\n",
       "  <tbody>\n",
       "    <tr>\n",
       "      <th>0</th>\n",
       "      <td>1440248590547361798</td>\n",
       "      <td>Publicly announcing Wall Street Champs. A coll...</td>\n",
       "      <td>Publicly announcing Wall Street Champs. A coll...</td>\n",
       "      <td>0.406667</td>\n",
       "      <td>0.155000</td>\n",
       "      <td>Positive</td>\n",
       "    </tr>\n",
       "    <tr>\n",
       "      <th>1</th>\n",
       "      <td>1367942471888613376</td>\n",
       "      <td>TIME-STAMPED SHOW NOTES:  [00:25] Today’s topi...</td>\n",
       "      <td>TIME-STAMPED SHOW NOTES:  [00:25] Today’s topi...</td>\n",
       "      <td>0.821429</td>\n",
       "      <td>-0.267857</td>\n",
       "      <td>Negative</td>\n",
       "    </tr>\n",
       "    <tr>\n",
       "      <th>2</th>\n",
       "      <td>1422127209721090050</td>\n",
       "      <td>@YakuzaNFT  Launching Friday Oct 8th\\n \\nOne o...</td>\n",
       "      <td>@YakuzaNFT  Launching Friday Oct 8th   One of ...</td>\n",
       "      <td>0.750000</td>\n",
       "      <td>0.437500</td>\n",
       "      <td>Positive</td>\n",
       "    </tr>\n",
       "    <tr>\n",
       "      <th>3</th>\n",
       "      <td>726437948527398912</td>\n",
       "      <td>Ethereum - ETH\\nPrice: $3,392.68\\nChange in 1h...</td>\n",
       "      <td>Ethereum - ETH Price: $3,392.68 Change in 1h: ...</td>\n",
       "      <td>0.000000</td>\n",
       "      <td>0.000000</td>\n",
       "      <td>Neutral</td>\n",
       "    </tr>\n",
       "    <tr>\n",
       "      <th>4</th>\n",
       "      <td>47313788</td>\n",
       "      <td>Mother.\\n\\n1 of 1 • On sale from 7th Oct, 4:00...</td>\n",
       "      <td>Mother.  1 of 1 • On sale from 7th Oct, 4:00 a...</td>\n",
       "      <td>0.000000</td>\n",
       "      <td>0.000000</td>\n",
       "      <td>Neutral</td>\n",
       "    </tr>\n",
       "  </tbody>\n",
       "</table>\n",
       "</div>"
      ],
      "text/plain": [
       "               user_id  ... sentiment\n",
       "0  1440248590547361798  ...  Positive\n",
       "1  1367942471888613376  ...  Negative\n",
       "2  1422127209721090050  ...  Positive\n",
       "3   726437948527398912  ...   Neutral\n",
       "4             47313788  ...   Neutral\n",
       "\n",
       "[5 rows x 6 columns]"
      ]
     },
     "execution_count": 22,
     "metadata": {},
     "output_type": "execute_result"
    }
   ],
   "source": [
    "# create a column to store the sentiment text\n",
    "df['sentiment'] = df['polarity']. apply(get_sentiment)\n",
    "# show the data\n",
    "df.head()"
   ]
  },
  {
   "cell_type": "code",
   "execution_count": 39,
   "metadata": {
    "colab": {
     "base_uri": "https://localhost:8080/"
    },
    "executionInfo": {
     "elapsed": 233,
     "status": "ok",
     "timestamp": 1633809899819,
     "user": {
      "displayName": "Enobong Udoh",
      "photoUrl": "https://lh3.googleusercontent.com/a-/AOh14Gg1EvddSoOoEx-wSrc_m8MQdEwKky97MYgNx8Ke2Q=s64",
      "userId": "16200133760604983631"
     },
     "user_tz": 240
    },
    "id": "0TqZyrtJ2eyR",
    "outputId": "466aef08-10fe-4fe4-d6d7-44c65e728ea7"
   },
   "outputs": [
    {
     "name": "stdout",
     "output_type": "stream",
     "text": [
      "Index(['Neutral', 'Positive', 'Negative'], dtype='object')\n"
     ]
    },
    {
     "data": {
      "text/plain": [
       "Neutral     266\n",
       "Positive    119\n",
       "Negative     67\n",
       "Name: sentiment, dtype: int64"
      ]
     },
     "execution_count": 39,
     "metadata": {},
     "output_type": "execute_result"
    }
   ],
   "source": [
    "# getting a sense of the value counts and key arrangements\n",
    "val_count=df['sentiment'].value_counts()\n",
    "val_keys=df['sentiment'].value_counts().keys()\n",
    "print(val_keys)\n",
    "val_count"
   ]
  },
  {
   "cell_type": "code",
   "execution_count": 48,
   "metadata": {
    "executionInfo": {
     "elapsed": 239,
     "status": "ok",
     "timestamp": 1633810058564,
     "user": {
      "displayName": "Enobong Udoh",
      "photoUrl": "https://lh3.googleusercontent.com/a-/AOh14Gg1EvddSoOoEx-wSrc_m8MQdEwKky97MYgNx8Ke2Q=s64",
      "userId": "16200133760604983631"
     },
     "user_tz": 240
    },
    "id": "aAQZBpRtnyw_"
   },
   "outputs": [],
   "source": [
    "# making a df of sentiment counts\n",
    "cummulative_sentiment_df = pd.DataFrame(val_count)\n",
    "cummulative_sentiment_df.reset_index(inplace=True)"
   ]
  },
  {
   "cell_type": "code",
   "execution_count": 53,
   "metadata": {
    "colab": {
     "base_uri": "https://localhost:8080/",
     "height": 142
    },
    "executionInfo": {
     "elapsed": 284,
     "status": "ok",
     "timestamp": 1633810180126,
     "user": {
      "displayName": "Enobong Udoh",
      "photoUrl": "https://lh3.googleusercontent.com/a-/AOh14Gg1EvddSoOoEx-wSrc_m8MQdEwKky97MYgNx8Ke2Q=s64",
      "userId": "16200133760604983631"
     },
     "user_tz": 240
    },
    "id": "Kbk31u59pJt8",
    "outputId": "bb6c7ed9-13a3-453a-fd77-9b98109e65af"
   },
   "outputs": [
    {
     "data": {
      "text/html": [
       "<div>\n",
       "<style scoped>\n",
       "    .dataframe tbody tr th:only-of-type {\n",
       "        vertical-align: middle;\n",
       "    }\n",
       "\n",
       "    .dataframe tbody tr th {\n",
       "        vertical-align: top;\n",
       "    }\n",
       "\n",
       "    .dataframe thead th {\n",
       "        text-align: right;\n",
       "    }\n",
       "</style>\n",
       "<table border=\"1\" class=\"dataframe\">\n",
       "  <thead>\n",
       "    <tr style=\"text-align: right;\">\n",
       "      <th></th>\n",
       "      <th>sentiment</th>\n",
       "      <th>score</th>\n",
       "    </tr>\n",
       "  </thead>\n",
       "  <tbody>\n",
       "    <tr>\n",
       "      <th>0</th>\n",
       "      <td>Neutral</td>\n",
       "      <td>266</td>\n",
       "    </tr>\n",
       "    <tr>\n",
       "      <th>1</th>\n",
       "      <td>Positive</td>\n",
       "      <td>119</td>\n",
       "    </tr>\n",
       "    <tr>\n",
       "      <th>2</th>\n",
       "      <td>Negative</td>\n",
       "      <td>67</td>\n",
       "    </tr>\n",
       "  </tbody>\n",
       "</table>\n",
       "</div>"
      ],
      "text/plain": [
       "  sentiment  score\n",
       "0   Neutral    266\n",
       "1  Positive    119\n",
       "2  Negative     67"
      ]
     },
     "execution_count": 53,
     "metadata": {},
     "output_type": "execute_result"
    }
   ],
   "source": [
    "# renaming the columns \n",
    "cummulative_sentiment_df.columns=['sentiment', 'score']\n",
    "cummulative_sentiment_df"
   ]
  },
  {
   "cell_type": "code",
   "execution_count": 87,
   "metadata": {
    "colab": {
     "base_uri": "https://localhost:8080/",
     "height": 542
    },
    "executionInfo": {
     "elapsed": 592,
     "status": "ok",
     "timestamp": 1633811521549,
     "user": {
      "displayName": "Enobong Udoh",
      "photoUrl": "https://lh3.googleusercontent.com/a-/AOh14Gg1EvddSoOoEx-wSrc_m8MQdEwKky97MYgNx8Ke2Q=s64",
      "userId": "16200133760604983631"
     },
     "user_tz": 240
    },
    "id": "978Hmz-iyzdQ",
    "outputId": "5997a913-192c-409e-b2b5-2e36f032f275"
   },
   "outputs": [
    {
     "data": {
      "text/html": [
       "<html>\n",
       "<head><meta charset=\"utf-8\" /></head>\n",
       "<body>\n",
       "    <div>\n",
       "            <script src=\"https://cdnjs.cloudflare.com/ajax/libs/mathjax/2.7.5/MathJax.js?config=TeX-AMS-MML_SVG\"></script><script type=\"text/javascript\">if (window.MathJax) {MathJax.Hub.Config({SVG: {font: \"STIX-Web\"}});}</script>\n",
       "                <script type=\"text/javascript\">window.PlotlyConfig = {MathJaxConfig: 'local'};</script>\n",
       "        <script src=\"https://cdn.plot.ly/plotly-latest.min.js\"></script>    \n",
       "            <div id=\"c63ab0f5-35bf-4581-84da-cf21d22c8420\" class=\"plotly-graph-div\" style=\"height:525px; width:100%;\"></div>\n",
       "            <script type=\"text/javascript\">\n",
       "                \n",
       "                    window.PLOTLYENV=window.PLOTLYENV || {};\n",
       "                    \n",
       "                if (document.getElementById(\"c63ab0f5-35bf-4581-84da-cf21d22c8420\")) {\n",
       "                    Plotly.newPlot(\n",
       "                        'c63ab0f5-35bf-4581-84da-cf21d22c8420',\n",
       "                        [{\"alignmentgroup\": \"True\", \"hoverlabel\": {\"namelength\": 0}, \"hovertemplate\": \"sentiment=%{x}<br>score=%{y}\", \"legendgroup\": \"sentiment=Neutral\", \"marker\": {\"color\": \"orange\", \"opacity\": 0.9}, \"name\": \"sentiment=Neutral\", \"offsetgroup\": \"sentiment=Neutral\", \"orientation\": \"v\", \"showlegend\": true, \"textposition\": \"auto\", \"type\": \"bar\", \"x\": [\"Neutral\"], \"xaxis\": \"x\", \"y\": [266], \"yaxis\": \"y\"}, {\"alignmentgroup\": \"True\", \"hoverlabel\": {\"namelength\": 0}, \"hovertemplate\": \"sentiment=%{x}<br>score=%{y}\", \"legendgroup\": \"sentiment=Positive\", \"marker\": {\"color\": \"green\", \"opacity\": 0.9}, \"name\": \"sentiment=Positive\", \"offsetgroup\": \"sentiment=Positive\", \"orientation\": \"v\", \"showlegend\": true, \"textposition\": \"auto\", \"type\": \"bar\", \"x\": [\"Positive\"], \"xaxis\": \"x\", \"y\": [119], \"yaxis\": \"y\"}, {\"alignmentgroup\": \"True\", \"hoverlabel\": {\"namelength\": 0}, \"hovertemplate\": \"sentiment=%{x}<br>score=%{y}\", \"legendgroup\": \"sentiment=Negative\", \"marker\": {\"color\": \"red\", \"opacity\": 0.9}, \"name\": \"sentiment=Negative\", \"offsetgroup\": \"sentiment=Negative\", \"orientation\": \"v\", \"showlegend\": true, \"textposition\": \"auto\", \"type\": \"bar\", \"x\": [\"Negative\"], \"xaxis\": \"x\", \"y\": [67], \"yaxis\": \"y\"}],\n",
       "                        {\"barmode\": \"relative\", \"legend\": {\"tracegroupgap\": 0}, \"template\": {\"data\": {\"bar\": [{\"error_x\": {\"color\": \"#f2f5fa\"}, \"error_y\": {\"color\": \"#f2f5fa\"}, \"marker\": {\"line\": {\"color\": \"rgb(17,17,17)\", \"width\": 0.5}}, \"type\": \"bar\"}], \"barpolar\": [{\"marker\": {\"line\": {\"color\": \"rgb(17,17,17)\", \"width\": 0.5}}, \"type\": \"barpolar\"}], \"carpet\": [{\"aaxis\": {\"endlinecolor\": \"#A2B1C6\", \"gridcolor\": \"#506784\", \"linecolor\": \"#506784\", \"minorgridcolor\": \"#506784\", \"startlinecolor\": \"#A2B1C6\"}, \"baxis\": {\"endlinecolor\": \"#A2B1C6\", \"gridcolor\": \"#506784\", \"linecolor\": \"#506784\", \"minorgridcolor\": \"#506784\", \"startlinecolor\": \"#A2B1C6\"}, \"type\": \"carpet\"}], \"choropleth\": [{\"colorbar\": {\"outlinewidth\": 0, \"ticks\": \"\"}, \"type\": \"choropleth\"}], \"contour\": [{\"colorbar\": {\"outlinewidth\": 0, \"ticks\": \"\"}, \"colorscale\": [[0.0, \"#0d0887\"], [0.1111111111111111, \"#46039f\"], [0.2222222222222222, \"#7201a8\"], [0.3333333333333333, \"#9c179e\"], [0.4444444444444444, \"#bd3786\"], [0.5555555555555556, \"#d8576b\"], [0.6666666666666666, \"#ed7953\"], [0.7777777777777778, \"#fb9f3a\"], [0.8888888888888888, \"#fdca26\"], [1.0, \"#f0f921\"]], \"type\": \"contour\"}], \"contourcarpet\": [{\"colorbar\": {\"outlinewidth\": 0, \"ticks\": \"\"}, \"type\": \"contourcarpet\"}], \"heatmap\": [{\"colorbar\": {\"outlinewidth\": 0, \"ticks\": \"\"}, \"colorscale\": [[0.0, \"#0d0887\"], [0.1111111111111111, \"#46039f\"], [0.2222222222222222, \"#7201a8\"], [0.3333333333333333, \"#9c179e\"], [0.4444444444444444, \"#bd3786\"], [0.5555555555555556, \"#d8576b\"], [0.6666666666666666, \"#ed7953\"], [0.7777777777777778, \"#fb9f3a\"], [0.8888888888888888, \"#fdca26\"], [1.0, \"#f0f921\"]], \"type\": \"heatmap\"}], \"heatmapgl\": [{\"colorbar\": {\"outlinewidth\": 0, \"ticks\": \"\"}, \"colorscale\": [[0.0, \"#0d0887\"], [0.1111111111111111, \"#46039f\"], [0.2222222222222222, \"#7201a8\"], [0.3333333333333333, \"#9c179e\"], [0.4444444444444444, \"#bd3786\"], [0.5555555555555556, \"#d8576b\"], [0.6666666666666666, \"#ed7953\"], [0.7777777777777778, \"#fb9f3a\"], [0.8888888888888888, \"#fdca26\"], [1.0, \"#f0f921\"]], \"type\": \"heatmapgl\"}], \"histogram\": [{\"marker\": {\"colorbar\": {\"outlinewidth\": 0, \"ticks\": \"\"}}, \"type\": \"histogram\"}], \"histogram2d\": [{\"colorbar\": {\"outlinewidth\": 0, \"ticks\": \"\"}, \"colorscale\": [[0.0, \"#0d0887\"], [0.1111111111111111, \"#46039f\"], [0.2222222222222222, \"#7201a8\"], [0.3333333333333333, \"#9c179e\"], [0.4444444444444444, \"#bd3786\"], [0.5555555555555556, \"#d8576b\"], [0.6666666666666666, \"#ed7953\"], [0.7777777777777778, \"#fb9f3a\"], [0.8888888888888888, \"#fdca26\"], [1.0, \"#f0f921\"]], \"type\": \"histogram2d\"}], \"histogram2dcontour\": [{\"colorbar\": {\"outlinewidth\": 0, \"ticks\": \"\"}, \"colorscale\": [[0.0, \"#0d0887\"], [0.1111111111111111, \"#46039f\"], [0.2222222222222222, \"#7201a8\"], [0.3333333333333333, \"#9c179e\"], [0.4444444444444444, \"#bd3786\"], [0.5555555555555556, \"#d8576b\"], [0.6666666666666666, \"#ed7953\"], [0.7777777777777778, \"#fb9f3a\"], [0.8888888888888888, \"#fdca26\"], [1.0, \"#f0f921\"]], \"type\": \"histogram2dcontour\"}], \"mesh3d\": [{\"colorbar\": {\"outlinewidth\": 0, \"ticks\": \"\"}, \"type\": \"mesh3d\"}], \"parcoords\": [{\"line\": {\"colorbar\": {\"outlinewidth\": 0, \"ticks\": \"\"}}, \"type\": \"parcoords\"}], \"pie\": [{\"automargin\": true, \"type\": \"pie\"}], \"scatter\": [{\"marker\": {\"line\": {\"color\": \"#283442\"}}, \"type\": \"scatter\"}], \"scatter3d\": [{\"line\": {\"colorbar\": {\"outlinewidth\": 0, \"ticks\": \"\"}}, \"marker\": {\"colorbar\": {\"outlinewidth\": 0, \"ticks\": \"\"}}, \"type\": \"scatter3d\"}], \"scattercarpet\": [{\"marker\": {\"colorbar\": {\"outlinewidth\": 0, \"ticks\": \"\"}}, \"type\": \"scattercarpet\"}], \"scattergeo\": [{\"marker\": {\"colorbar\": {\"outlinewidth\": 0, \"ticks\": \"\"}}, \"type\": \"scattergeo\"}], \"scattergl\": [{\"marker\": {\"line\": {\"color\": \"#283442\"}}, \"type\": \"scattergl\"}], \"scattermapbox\": [{\"marker\": {\"colorbar\": {\"outlinewidth\": 0, \"ticks\": \"\"}}, \"type\": \"scattermapbox\"}], \"scatterpolar\": [{\"marker\": {\"colorbar\": {\"outlinewidth\": 0, \"ticks\": \"\"}}, \"type\": \"scatterpolar\"}], \"scatterpolargl\": [{\"marker\": {\"colorbar\": {\"outlinewidth\": 0, \"ticks\": \"\"}}, \"type\": \"scatterpolargl\"}], \"scatterternary\": [{\"marker\": {\"colorbar\": {\"outlinewidth\": 0, \"ticks\": \"\"}}, \"type\": \"scatterternary\"}], \"surface\": [{\"colorbar\": {\"outlinewidth\": 0, \"ticks\": \"\"}, \"colorscale\": [[0.0, \"#0d0887\"], [0.1111111111111111, \"#46039f\"], [0.2222222222222222, \"#7201a8\"], [0.3333333333333333, \"#9c179e\"], [0.4444444444444444, \"#bd3786\"], [0.5555555555555556, \"#d8576b\"], [0.6666666666666666, \"#ed7953\"], [0.7777777777777778, \"#fb9f3a\"], [0.8888888888888888, \"#fdca26\"], [1.0, \"#f0f921\"]], \"type\": \"surface\"}], \"table\": [{\"cells\": {\"fill\": {\"color\": \"#506784\"}, \"line\": {\"color\": \"rgb(17,17,17)\"}}, \"header\": {\"fill\": {\"color\": \"#2a3f5f\"}, \"line\": {\"color\": \"rgb(17,17,17)\"}}, \"type\": \"table\"}]}, \"layout\": {\"annotationdefaults\": {\"arrowcolor\": \"#f2f5fa\", \"arrowhead\": 0, \"arrowwidth\": 1}, \"coloraxis\": {\"colorbar\": {\"outlinewidth\": 0, \"ticks\": \"\"}}, \"colorscale\": {\"diverging\": [[0, \"#8e0152\"], [0.1, \"#c51b7d\"], [0.2, \"#de77ae\"], [0.3, \"#f1b6da\"], [0.4, \"#fde0ef\"], [0.5, \"#f7f7f7\"], [0.6, \"#e6f5d0\"], [0.7, \"#b8e186\"], [0.8, \"#7fbc41\"], [0.9, \"#4d9221\"], [1, \"#276419\"]], \"sequential\": [[0.0, \"#0d0887\"], [0.1111111111111111, \"#46039f\"], [0.2222222222222222, \"#7201a8\"], [0.3333333333333333, \"#9c179e\"], [0.4444444444444444, \"#bd3786\"], [0.5555555555555556, \"#d8576b\"], [0.6666666666666666, \"#ed7953\"], [0.7777777777777778, \"#fb9f3a\"], [0.8888888888888888, \"#fdca26\"], [1.0, \"#f0f921\"]], \"sequentialminus\": [[0.0, \"#0d0887\"], [0.1111111111111111, \"#46039f\"], [0.2222222222222222, \"#7201a8\"], [0.3333333333333333, \"#9c179e\"], [0.4444444444444444, \"#bd3786\"], [0.5555555555555556, \"#d8576b\"], [0.6666666666666666, \"#ed7953\"], [0.7777777777777778, \"#fb9f3a\"], [0.8888888888888888, \"#fdca26\"], [1.0, \"#f0f921\"]]}, \"colorway\": [\"#636efa\", \"#EF553B\", \"#00cc96\", \"#ab63fa\", \"#FFA15A\", \"#19d3f3\", \"#FF6692\", \"#B6E880\", \"#FF97FF\", \"#FECB52\"], \"font\": {\"color\": \"#f2f5fa\"}, \"geo\": {\"bgcolor\": \"rgb(17,17,17)\", \"lakecolor\": \"rgb(17,17,17)\", \"landcolor\": \"rgb(17,17,17)\", \"showlakes\": true, \"showland\": true, \"subunitcolor\": \"#506784\"}, \"hoverlabel\": {\"align\": \"left\"}, \"hovermode\": \"closest\", \"mapbox\": {\"style\": \"dark\"}, \"paper_bgcolor\": \"rgb(17,17,17)\", \"plot_bgcolor\": \"rgb(17,17,17)\", \"polar\": {\"angularaxis\": {\"gridcolor\": \"#506784\", \"linecolor\": \"#506784\", \"ticks\": \"\"}, \"bgcolor\": \"rgb(17,17,17)\", \"radialaxis\": {\"gridcolor\": \"#506784\", \"linecolor\": \"#506784\", \"ticks\": \"\"}}, \"scene\": {\"xaxis\": {\"backgroundcolor\": \"rgb(17,17,17)\", \"gridcolor\": \"#506784\", \"gridwidth\": 2, \"linecolor\": \"#506784\", \"showbackground\": true, \"ticks\": \"\", \"zerolinecolor\": \"#C8D4E3\"}, \"yaxis\": {\"backgroundcolor\": \"rgb(17,17,17)\", \"gridcolor\": \"#506784\", \"gridwidth\": 2, \"linecolor\": \"#506784\", \"showbackground\": true, \"ticks\": \"\", \"zerolinecolor\": \"#C8D4E3\"}, \"zaxis\": {\"backgroundcolor\": \"rgb(17,17,17)\", \"gridcolor\": \"#506784\", \"gridwidth\": 2, \"linecolor\": \"#506784\", \"showbackground\": true, \"ticks\": \"\", \"zerolinecolor\": \"#C8D4E3\"}}, \"shapedefaults\": {\"line\": {\"color\": \"#f2f5fa\"}}, \"sliderdefaults\": {\"bgcolor\": \"#C8D4E3\", \"bordercolor\": \"rgb(17,17,17)\", \"borderwidth\": 1, \"tickwidth\": 0}, \"ternary\": {\"aaxis\": {\"gridcolor\": \"#506784\", \"linecolor\": \"#506784\", \"ticks\": \"\"}, \"baxis\": {\"gridcolor\": \"#506784\", \"linecolor\": \"#506784\", \"ticks\": \"\"}, \"bgcolor\": \"rgb(17,17,17)\", \"caxis\": {\"gridcolor\": \"#506784\", \"linecolor\": \"#506784\", \"ticks\": \"\"}}, \"title\": {\"x\": 0.05}, \"updatemenudefaults\": {\"bgcolor\": \"#506784\", \"borderwidth\": 0}, \"xaxis\": {\"automargin\": true, \"gridcolor\": \"#283442\", \"linecolor\": \"#506784\", \"ticks\": \"\", \"title\": {\"standoff\": 15}, \"zerolinecolor\": \"#283442\", \"zerolinewidth\": 2}, \"yaxis\": {\"automargin\": true, \"gridcolor\": \"#283442\", \"linecolor\": \"#506784\", \"ticks\": \"\", \"title\": {\"standoff\": 15}, \"zerolinecolor\": \"#283442\", \"zerolinewidth\": 2}}}, \"title\": {\"font\": {\"color\": \"White\", \"family\": \"Courier New, monospace\", \"size\": 24}, \"text\": \"Sentiment Analysis of tweets on Ethereum\", \"x\": 0.46, \"xanchor\": \"center\", \"y\": 0.9, \"yanchor\": \"top\"}, \"xaxis\": {\"anchor\": \"y\", \"categoryarray\": [\"Neutral\", \"Positive\", \"Negative\"], \"categoryorder\": \"array\", \"domain\": [0.0, 1.0], \"title\": {\"text\": \"sentiment\"}}, \"yaxis\": {\"anchor\": \"x\", \"domain\": [0.0, 1.0], \"title\": {\"text\": \"score\"}}},\n",
       "                        {\"responsive\": true}\n",
       "                    ).then(function(){\n",
       "                            \n",
       "var gd = document.getElementById('c63ab0f5-35bf-4581-84da-cf21d22c8420');\n",
       "var x = new MutationObserver(function (mutations, observer) {{\n",
       "        var display = window.getComputedStyle(gd).display;\n",
       "        if (!display || display === 'none') {{\n",
       "            console.log([gd, 'removed!']);\n",
       "            Plotly.purge(gd);\n",
       "            observer.disconnect();\n",
       "        }}\n",
       "}});\n",
       "\n",
       "// Listen for the removal of the full notebook cells\n",
       "var notebookContainer = gd.closest('#notebook-container');\n",
       "if (notebookContainer) {{\n",
       "    x.observe(notebookContainer, {childList: true});\n",
       "}}\n",
       "\n",
       "// Listen for the clearing of the current output cell\n",
       "var outputEl = gd.closest('.output');\n",
       "if (outputEl) {{\n",
       "    x.observe(outputEl, {childList: true});\n",
       "}}\n",
       "\n",
       "                        })\n",
       "                };\n",
       "                \n",
       "            </script>\n",
       "        </div>\n",
       "</body>\n",
       "</html>"
      ]
     },
     "metadata": {},
     "output_type": "display_data"
    }
   ],
   "source": [
    "# create a bar chart to show the count of positive, neutral and negative sentiments\n",
    "fig = px.bar(cummulative_sentiment_df, x='sentiment', y='score', \n",
    "            color='sentiment', color_discrete_map={\n",
    "                \"Neutral\": \"orange\",\n",
    "                \"Positive\": \"green\",\n",
    "                \"Negative\": \"red\"},\n",
    "            opacity = 0.9,\n",
    "            labels ={'x':'Sentiment','y':'Count'}, title=\"Sentiment Analysis Bar Plot\", \n",
    "            template = \"plotly_dark\")\n",
    "fig.update_layout(\n",
    "      title={\n",
    "        'text': \"Sentiment Analysis of tweets on Ethereum\",\n",
    "        'y':0.9,\n",
    "        'x':0.46,\n",
    "        'xanchor': 'center',\n",
    "        'yanchor': 'top',\n",
    "        'font': dict(\n",
    "        family=\"Courier New, monospace\",\n",
    "        size=24,\n",
    "        color=\"White\"\n",
    "        )\n",
    "        }\n",
    ")\n",
    "fig.show()"
   ]
  },
  {
   "cell_type": "markdown",
   "metadata": {
    "id": "8kY2Fx402VB1"
   },
   "source": [
    "### **What are some of the top positive words used in tweets about ethereum?**"
   ]
  },
  {
   "cell_type": "code",
   "execution_count": null,
   "metadata": {
    "executionInfo": {
     "elapsed": 0,
     "status": "aborted",
     "timestamp": 1633809523136,
     "user": {
      "displayName": "Enobong Udoh",
      "photoUrl": "https://lh3.googleusercontent.com/a-/AOh14Gg1EvddSoOoEx-wSrc_m8MQdEwKky97MYgNx8Ke2Q=s64",
      "userId": "16200133760604983631"
     },
     "user_tz": 240
    },
    "id": "erWblsE4u9HI"
   },
   "outputs": [],
   "source": [
    "# generating a world cloud from the positive tweets\n",
    "positive_df = df[df['sentiment']=='Positive']\n",
    "\n",
    "stopwords = set(STOPWORDS)\n",
    "stopwords.update([\"br\", \"href\", \"https\", \"BTC\",\"ETH\", \"USDT\",\"XRP\", \"Last Year\", \"ether\",\n",
    "                  \"eth\",\"unkown wallet\",\"Co\", \"NFT\", \"Crypto Exchange\",\"Bitcoin\",\"Ethereum\",\n",
    "                  \"GwaCvQyQbc\",\"Trading\",\"Exchange\",\"Crptocurrency\", \"Crypto\",\"altcoin\",\"will\",\n",
    "                  \"Oct\",\"Credit Card\",\"Card\",\"Credit\"])  \n",
    "each_word = \"\".join( words for words in positive_df.tweets)\n",
    "word_cloud = WordCloud(stopwords=stopwords, background_color='black').generate(each_word)\n",
    "plt.figure(figsize=(9,5))\n",
    "plt.title(\"A world cloud from the positive tweets\")\n",
    "plt.imshow(word_cloud, interpolation='bilinear')\n",
    "plt.axis('off')\n",
    "plt.show()"
   ]
  },
  {
   "cell_type": "markdown",
   "metadata": {
    "id": "oOxp1jSJz9Aq"
   },
   "source": [
    "## DATA MODELLING AND VALIDATION"
   ]
  },
  {
   "cell_type": "code",
   "execution_count": null,
   "metadata": {
    "id": "Z36jo06HzqNL"
   },
   "outputs": [],
   "source": [
    "# Create a data frame with only positive and negative tweets\n",
    "non_neutral_df = df[df['polarity'] != 0]\n",
    "\n",
    "# checking that only the needed sentiments are retained\n",
    "non_neutral_df.reset_index(drop=True, inplace=True) \n",
    "\n",
    "# creating a column that scores positive sentiment as 1 and negative as 0\n",
    "non_neutral_df['sentiment_score'] = np.where(non_neutral_df['sentiment']=='Positive',1,0)\n"
   ]
  },
  {
   "cell_type": "code",
   "execution_count": null,
   "metadata": {
    "id": "eapN0MDuu7UQ"
   },
   "outputs": [],
   "source": [
    "non_neutral_df.head(2)"
   ]
  },
  {
   "cell_type": "code",
   "execution_count": null,
   "metadata": {
    "id": "y76zCOa8wgdT"
   },
   "outputs": [],
   "source": [
    "# model stuff - using only non-neutral df\n",
    "# create a bag_words variable for splitting tweets into words\n",
    "bag_words = text.CountVectorizer(stop_words='english')\n",
    "\n",
    "# tranform tweets into individual words\n",
    "bag_words.fit(non_neutral_df['clean_tweets'])"
   ]
  },
  {
   "cell_type": "code",
   "execution_count": null,
   "metadata": {
    "id": "Jv2SPcRRyeL9"
   },
   "outputs": [],
   "source": [
    "# getting every word in the bag\n",
    "all_words = bag_words.get_feature_names()\n",
    "\n",
    "len(all_words)"
   ]
  },
  {
   "cell_type": "code",
   "execution_count": null,
   "metadata": {
    "id": "EXd14l-E4AgQ"
   },
   "outputs": [],
   "source": [
    "# create a kfold split to generate 3 sets of train and test data that can validate model\n",
    "kf = KFold(n_splits=3, shuffle=True, random_state=0)"
   ]
  },
  {
   "cell_type": "code",
   "execution_count": null,
   "metadata": {
    "id": "e5ewaRmnzIlD"
   },
   "outputs": [],
   "source": [
    "# defining the predictor and prediction variable\n",
    "X= bag_words.transform(non_neutral_df['clean_tweets'])  # transform behaves similarly to predict. Uses the bag of words to review each full_text/sentence tweet  \n",
    "y= non_neutral_df['sentiment_score']"
   ]
  },
  {
   "cell_type": "code",
   "execution_count": null,
   "metadata": {
    "id": "a7alSl4c50uR"
   },
   "outputs": [],
   "source": [
    "print(len(y))\n",
    "X"
   ]
  },
  {
   "cell_type": "code",
   "execution_count": null,
   "metadata": {
    "id": "e5GuELts4_WG"
   },
   "outputs": [],
   "source": [
    "# spliting X and y into two sets\n",
    "set1, set2, set3 = kf.split(X,y)\n",
    "set1"
   ]
  },
  {
   "cell_type": "code",
   "execution_count": null,
   "metadata": {
    "id": "3KURXKr-5a4y"
   },
   "outputs": [],
   "source": [
    "# Creating the test and train X and y of each set\n",
    "# set 1\n",
    "set1_train_X = X[set1[0]]\n",
    "set1_train_y = y[set1[0]]\n",
    "\n",
    "set1_test_X = X[set1[1]]\n",
    "set1_test_y = y[set1[1]]\n",
    "\n",
    "\n",
    "# set 2 --\n",
    "set2_train_X = X[set2[0]]\n",
    "set2_train_y = y[set2[0]]\n",
    "\n",
    "set2_test_X = X[set2[1]]\n",
    "set2_test_y = y[set2[1]]\n",
    "\n",
    "\n",
    "# set 3 --\n",
    "set3_train_X = X[set3[0]]\n",
    "set3_train_y = y[set3[0]]\n",
    "\n",
    "set3_test_X = X[set3[1]]\n",
    "set3_test_y = y[set3[1]]"
   ]
  },
  {
   "cell_type": "markdown",
   "metadata": {
    "id": "_HHU66aXBRD1"
   },
   "source": [
    "**WORKING WITH SET 1 TO VALIDATE THE MODEL**"
   ]
  },
  {
   "cell_type": "code",
   "execution_count": null,
   "metadata": {
    "id": "ag8N5ped0slq"
   },
   "outputs": [],
   "source": [
    "# fitting the naive bayes model\n",
    "sentiment_nb = MultinomialNB()\n",
    "set1_result = sentiment_nb.fit(set1_train_X, set1_train_y)\n",
    "# model score\n",
    "set1_result.score(set1_train_X, set1_train_y)"
   ]
  },
  {
   "cell_type": "code",
   "execution_count": null,
   "metadata": {
    "id": "u1XrKDR0-BIA"
   },
   "outputs": [],
   "source": [
    "# creating a dataset with set 1 test indices\n",
    "set1_non_neutral_df = non_neutral_df.loc[set1[1]]\n",
    "set1_non_neutral_df.head(2)"
   ]
  },
  {
   "cell_type": "code",
   "execution_count": null,
   "metadata": {
    "id": "aN9ueXP61vJg"
   },
   "outputs": [],
   "source": [
    "# model prediction\n",
    "set1_non_neutral_df['pred_sentiment_nb'] = set1_result.predict(set1_test_X)\n",
    "set1_non_neutral_df.tail(5)"
   ]
  },
  {
   "cell_type": "code",
   "execution_count": null,
   "metadata": {
    "id": "uYaQzlREAJ_Q"
   },
   "outputs": [],
   "source": [
    "# calculating model metrices, rounded to 3 decimal places\n",
    "print(f\"The mean_squared error for set 1 is: {round(mean_squared_error(set1_non_neutral_df['sentiment_score'], set1_non_neutral_df['pred_sentiment_nb']), 3)}\")\n",
    "print(f\"The mean_absolute error for set 1 is: {round(mean_absolute_error(set1_non_neutral_df['sentiment_score'], set1_non_neutral_df['pred_sentiment_nb']), 3)}\")\n",
    "print(f\"The r2 score for set 1 is: {round(r2_score(set1_non_neutral_df['sentiment_score'], set1_non_neutral_df['pred_sentiment_nb']), 3)}\")"
   ]
  },
  {
   "cell_type": "markdown",
   "metadata": {
    "id": "Efu9Ub5oCHsG"
   },
   "source": [
    "> While the model score at training is 1, the r2 score on the test data is 0.516 which indicates that the model accuracy is not high for predicting external data.\n",
    " "
   ]
  },
  {
   "cell_type": "markdown",
   "metadata": {
    "id": "ORkYPONMBbTg"
   },
   "source": [
    "**WORKING WITH SET 2 TO VALIDATE THE MODEL**"
   ]
  },
  {
   "cell_type": "code",
   "execution_count": null,
   "metadata": {
    "id": "0xQWN60kBeCe"
   },
   "outputs": [],
   "source": [
    "# fitting the naive bayes model\n",
    "sentiment_nb = MultinomialNB()\n",
    "set2_result = sentiment_nb.fit(set2_train_X, set2_train_y)\n",
    "# model score\n",
    "set2_result.score(set2_train_X, set2_train_y)"
   ]
  },
  {
   "cell_type": "code",
   "execution_count": null,
   "metadata": {
    "id": "YcwawFgVCjt_"
   },
   "outputs": [],
   "source": [
    "# creating a dataset with set 2 test indices\n",
    "set2_non_neutral_df = non_neutral_df.loc[set2[1]]\n",
    "\n",
    "# adding a prediction column for set2 test data to the df above\n",
    "set2_non_neutral_df['pred_sentiment_nb'] = set2_result.predict(set2_test_X)"
   ]
  },
  {
   "cell_type": "code",
   "execution_count": null,
   "metadata": {
    "id": "ha3eh7yRDYEx"
   },
   "outputs": [],
   "source": [
    "# calculating model metrices, rounded to 3 decimal places\n",
    "print(f\"The mean_squared error for set 2 is: {round(mean_squared_error(set2_non_neutral_df['sentiment_score'], set2_non_neutral_df['pred_sentiment_nb']), 3)}\")\n",
    "print(f\"The mean_absolute error for set 2 is: {round(mean_absolute_error(set2_non_neutral_df['sentiment_score'], set2_non_neutral_df['pred_sentiment_nb']), 3)}\")\n",
    "print(f\"The r2 score for set 2 is: {round(r2_score(set2_non_neutral_df['sentiment_score'], set2_non_neutral_df['pred_sentiment_nb']), 3)}\")"
   ]
  },
  {
   "cell_type": "markdown",
   "metadata": {
    "id": "OJyWU46BDptC"
   },
   "source": [
    "> set 2 has a better accuracy score than set 1. Let's see if set 3 improves the score."
   ]
  },
  {
   "cell_type": "markdown",
   "metadata": {
    "id": "DVldJvIOBcfp"
   },
   "source": [
    "**WORKING WITH SET 3 TO VALIDATE THE MODEL**"
   ]
  },
  {
   "cell_type": "code",
   "execution_count": null,
   "metadata": {
    "id": "is4L_DAxDo81"
   },
   "outputs": [],
   "source": [
    "# fitting the naive bayes model\n",
    "sentiment_nb = MultinomialNB()\n",
    "set3_result = sentiment_nb.fit(set3_train_X, set3_train_y)\n",
    "# model score\n",
    "set3_result.score(set3_train_X, set3_train_y)"
   ]
  },
  {
   "cell_type": "code",
   "execution_count": null,
   "metadata": {
    "id": "i_T-TTkaEQAJ"
   },
   "outputs": [],
   "source": [
    "# creating a dataset with set 2 test indices\n",
    "set3_non_neutral_df = non_neutral_df.loc[set3[1]]\n",
    "\n",
    "# adding a prediction column for set2 test data to the df above\n",
    "set3_non_neutral_df['pred_sentiment_nb'] = set3_result.predict(set3_test_X)"
   ]
  },
  {
   "cell_type": "code",
   "execution_count": null,
   "metadata": {
    "id": "4ew1BGEkx1O3"
   },
   "outputs": [],
   "source": [
    "# calculating model metrices, rounded to 3 decimal places\n",
    "print(f\"The mean_squared error for set 3 is: {round(mean_squared_error(set3_non_neutral_df['sentiment_score'], set3_non_neutral_df['pred_sentiment_nb']), 3)}\")\n",
    "print(f\"The mean_absolute error for set 3 is: {round(mean_absolute_error(set3_non_neutral_df['sentiment_score'], set3_non_neutral_df['pred_sentiment_nb']), 3)}\")\n",
    "print(f\"The r2 score for set 3 is: {round(r2_score(set3_non_neutral_df['sentiment_score'], set3_non_neutral_df['pred_sentiment_nb']), 3)}\")"
   ]
  },
  {
   "cell_type": "markdown",
   "metadata": {
    "id": "Ax8DFyLIE_mB"
   },
   "source": [
    "**Observation:**\n",
    "- Of the 3 sets of data for training the naive bayes model, set 2 had the best accuracy. Hence the features (X) and target (y) from set 2 would be use to train and test another model."
   ]
  },
  {
   "cell_type": "code",
   "execution_count": null,
   "metadata": {
    "id": "ojuBvxGk10gl"
   },
   "outputs": [],
   "source": [
    "# prediction probability\n",
    "# sentiment_nb.predict_proba(set1_test_X)"
   ]
  },
  {
   "cell_type": "markdown",
   "metadata": {
    "id": "eSLw8Gx0BJHC"
   },
   "source": [
    "**TRAINING AND TESTING DECISION TREE CLASSIFER MODEL**"
   ]
  },
  {
   "cell_type": "code",
   "execution_count": null,
   "metadata": {
    "id": "4X6HjCxc2FYU"
   },
   "outputs": [],
   "source": [
    "# using DECISION TREE CLASSIFIER\n",
    "sentiment_tree = DecisionTreeClassifier(max_depth=3, random_state=0)\n",
    "sentiment_tree.fit(set2_train_X,set2_train_y)\n",
    "print(f\"The training model score is {sentiment_tree.score(set2_train_X,set2_train_y)}\")\n",
    "\n",
    "# adding column decision tree prediction results to set2_non_neutral_df\n",
    "set2_non_neutral_df['pred_sentiment_dt'] = sentiment_tree.predict(set2_test_X)"
   ]
  },
  {
   "cell_type": "code",
   "execution_count": null,
   "metadata": {
    "id": "p8lKxckjyFB9"
   },
   "outputs": [],
   "source": [
    "print(f\"The mean_squared error for set 2 (decison tree) is: {round(mean_squared_error(set2_non_neutral_df['sentiment_score'], set2_non_neutral_df['pred_sentiment_dt']), 3)}\")\n",
    "print(f\"The mean_absolute error for set 2 (decison tree) is: {round(mean_absolute_error(set2_non_neutral_df['sentiment_score'], set2_non_neutral_df['pred_sentiment_dt']), 3)}\")\n",
    "print(f\"The r2 score for set 2 (decison tree) is: {round(r2_score(set2_non_neutral_df['sentiment_score'], set2_non_neutral_df['pred_sentiment_dt']), 3)}\")"
   ]
  },
  {
   "cell_type": "code",
   "execution_count": null,
   "metadata": {
    "id": "HApaqiCs3nR-"
   },
   "outputs": [],
   "source": [
    "# visulaizing the tree\n",
    "tree.plot_tree(sentiment_tree)\n",
    "plt.show()"
   ]
  },
  {
   "cell_type": "markdown",
   "metadata": {
    "id": "tA6eblz4Hyit"
   },
   "source": [
    "**TRAINING AND TESTING RANDOM FOREST CLASSIFER MODEL**"
   ]
  },
  {
   "cell_type": "code",
   "execution_count": null,
   "metadata": {
    "id": "8sJFY4AeGyFw"
   },
   "outputs": [],
   "source": [
    "from sklearn.ensemble import RandomForestClassifier"
   ]
  },
  {
   "cell_type": "code",
   "execution_count": null,
   "metadata": {
    "id": "HeyZeDtFHWfK"
   },
   "outputs": [],
   "source": [
    "# using RANDOM FOREST CLASSIFIER\n",
    "random_tree = RandomForestClassifier(max_depth=3, random_state=0)\n",
    "random_tree.fit(set2_train_X,set2_train_y)\n",
    "print(f\"The training model score is {random_tree.score(set2_train_X,set2_train_y)}\")\n",
    "\n",
    "# adding column decision tree prediction results to set2_non_neutral_df\n",
    "set2_non_neutral_df['pred_sentiment_rd'] = random_tree.predict(set2_test_X)"
   ]
  },
  {
   "cell_type": "code",
   "execution_count": null,
   "metadata": {
    "id": "UQRUYYqcHpZC"
   },
   "outputs": [],
   "source": [
    "print(f\"The mean_squared error for set 2 (decison tree) is: {round(mean_squared_error(set2_non_neutral_df['sentiment_score'], set2_non_neutral_df['pred_sentiment_rd']), 3)}\")\n",
    "print(f\"The mean_absolute error for set 2 (decison tree) is: {round(mean_absolute_error(set2_non_neutral_df['sentiment_score'], set2_non_neutral_df['pred_sentiment_rd']), 3)}\")\n",
    "print(f\"The r2 score for set 2 (decison tree) is: {round(r2_score(set2_non_neutral_df['sentiment_score'], set2_non_neutral_df['pred_sentiment_rd']), 3)}\")"
   ]
  },
  {
   "cell_type": "markdown",
   "metadata": {
    "id": "TwejpQXyH4xv"
   },
   "source": [
    "**Conclusion:**\n",
    "- While the model scores have consistently been above 0.95 for the 3 models explored, it can be observed that the score has not been as high during testing. \n",
    "- There is a need to increase the train and test data to prevent overfitting and effectively determine the viability of the models (a good spot between variance and bias)."
   ]
  }
 ],
 "metadata": {
  "colab": {
   "authorship_tag": "ABX9TyP2nQNgLwYQHkcV/lw44Doi",
   "collapsed_sections": [
    "hCCMN61fn9yc",
    "oOxp1jSJz9Aq"
   ],
   "name": "10-10-2021-twitter-sentiment-analyzer.ipynb",
   "provenance": []
  },
  "kernelspec": {
   "display_name": "Python 3",
   "language": "python",
   "name": "python3"
  },
  "language_info": {
   "codemirror_mode": {
    "name": "ipython",
    "version": 3
   },
   "file_extension": ".py",
   "mimetype": "text/x-python",
   "name": "python",
   "nbconvert_exporter": "python",
   "pygments_lexer": "ipython3",
   "version": "3.8.8"
  }
 },
 "nbformat": 4,
 "nbformat_minor": 1
}
